{
  "cells": [
    {
      "metadata": {
        "trusted": true
      },
      "cell_type": "code",
      "source": "!pip install xgboost",
      "execution_count": 2,
      "outputs": [
        {
          "output_type": "stream",
          "text": "Collecting xgboost\n\u001b[?25l  Downloading https://files.pythonhosted.org/packages/c1/24/5fe7237b2eca13ee0cfb100bec8c23f4e69ce9df852a64b0493d49dae4e0/xgboost-0.90-py2.py3-none-manylinux1_x86_64.whl (142.8MB)\n\u001b[K     |████████████████████████████████| 142.8MB 1.7kB/s eta 0:00:01    | 655kB 5.1MB/s eta 0:00:29     |▊                               | 3.3MB 5.1MB/s eta 0:00:28     |▉                               | 3.6MB 5.1MB/s eta 0:00:28     |█▎                              | 5.7MB 744kB/s eta 0:03:05     |█▍                              | 6.3MB 744kB/s eta 0:03:04     |█▍                              | 6.4MB 744kB/s eta 0:03:04     |█▉                              | 8.3MB 1.2MB/s eta 0:01:48     |██▍                             | 10.8MB 1.1MB/s eta 0:02:00     |███▏                            | 14.3MB 1.6MB/s eta 0:01:21     |███▎                            | 14.8MB 1.8MB/s eta 0:01:12     |███▍                            | 15.1MB 1.8MB/s eta 0:01:12     |███▍                            | 15.2MB 1.8MB/s eta 0:01:12     |███▌                            | 15.7MB 658kB/s eta 0:03:14     |███▉                            | 16.9MB 471kB/s eta 0:04:28     |████                            | 17.4MB 606kB/s eta 0:03:27     |████                            | 17.5MB 606kB/s eta 0:03:27     |████                            | 18.1MB 578kB/s eta 0:03:36     |████▎                           | 19.1MB 578kB/s eta 0:03:34     |████▉                           | 21.6MB 2.4MB/s eta 0:00:52     |█████                           | 21.8MB 2.4MB/s eta 0:00:52     |█████                           | 22.2MB 2.4MB/s eta 0:00:52     |█████                           | 22.5MB 2.4MB/s eta 0:00:52     |█████                           | 22.6MB 2.4MB/s eta 0:00:52     |█████                           | 22.8MB 2.4MB/s eta 0:00:52     |█████▍                          | 23.8MB 1.8MB/s eta 0:01:08     |█████▌                          | 24.6MB 1.2MB/s eta 0:01:36     |█████▋                          | 25.0MB 1.2MB/s eta 0:01:35     |█████▊                          | 25.6MB 1.2MB/s eta 0:01:35     |██████                          | 26.5MB 3.2MB/s eta 0:00:36     |██████                          | 26.7MB 3.2MB/s eta 0:00:36     |██████                          | 26.8MB 3.2MB/s eta 0:00:36     |██████                          | 26.9MB 1.1MB/s eta 0:01:49     |██████                          | 27.2MB 1.1MB/s eta 0:01:49     |██████▎                         | 28.1MB 130kB/s eta 0:14:41     |██████▌                         | 28.9MB 130kB/s eta 0:14:36     |██████▌                         | 29.1MB 130kB/s eta 0:14:34     |██████▋                         | 29.3MB 130kB/s eta 0:14:32     |██████▉                         | 30.5MB 130kB/s eta 0:14:23     |███████                         | 31.1MB 1.2MB/s eta 0:01:33     |████████                        | 36.0MB 548kB/s eta 0:03:15     |████████▉                       | 39.4MB 104kB/s eta 0:16:27     |██████████▉                     | 48.6MB 1.5MB/s eta 0:01:02��█████▌                    | 51.2MB 240kB/s eta 0:06:21     |████████████                    | 53.2MB 227kB/s eta 0:06:35     |████████████▍                   | 55.4MB 227kB/s eta 0:06:25     |████████████▉                   | 57.3MB 242kB/s eta 0:05:53     |█████████████                   | 58.1MB 242kB/s eta 0:05:50     |█████████████                   | 58.4MB 242kB/s eta 0:05:49     |█████████████▊                  | 61.3MB 242kB/s eta 0:05:37████                  | 62.0MB 4.5MB/s eta 0:00:19     |██████████████▉                 | 66.4MB 173kB/s eta 0:07:21 eta 0:05:07            | 68.8MB 245kB/s eta 0:05:02�███████████▏               | 72.2MB 4.0MB/s eta 0:00:18�███████████▊               | 74.4MB 1.3MB/s eta 0:00:53�████████████               | 76.1MB 3.3MB/s eta 0:00:21█▏              | 76.5MB 3.3MB/s eta 0:00:20/s eta 0:00:26/s eta 0:00:26��██▋             | 83.0MB 167kB/s eta 0:05:57��███████████████▏            | 85.6MB 162kB/s eta 0:05:53��███████████████▍            | 86.7MB 162kB/s eta 0:05:46��███████████████▊            | 87.8MB 1.1MB/s eta 0:00:51�██▊            | 88.2MB 1.1MB/s eta 0:00:50��████████████████            | 89.3MB 218kB/s eta 0:04:05��████████████████            | 89.7MB 218kB/s eta 0:04:04kB/s eta 0:04:00kB/s eta 0:03:52    | 93.2MB 2.4MB/s eta 0:00:21MB 2.4MB/s eta 0:00:21█████████████████████▎          | 95.0MB 659kB/s eta 0:01:13��███▋          | 96.4MB 3.6MB/s eta 0:00:13��███▉          | 97.3MB 3.6MB/s eta 0:00:13████████████████▏         | 99.0MB 214kB/s eta 0:03:25�████████████████████▌         | 100.2MB 214kB/s eta 0:03:19��█████████████████████▋         | 101.1MB 1.5MB/s eta 0:00:29��█████████████████████▊         | 101.6MB 1.5MB/s eta 0:00:293kB/s eta 0:03:369MB 155kB/s eta 0:04:05��█████████▋        | 105.2MB 155kB/s eta 0:04:03     |███████████████████████▋        | 105.6MB 155kB/s eta 0:04:010MB 7.9MB/s eta 0:00:05██████▏       | 107.9MB 7.9MB/s eta 0:00:05  |████████████████████████▌       | 109.5MB 7.9MB/s eta 0:00:05██████▊       | 110.4MB 2.9MB/s eta 0:00:12��█████████████████▏      | 112.3MB 2.9MB/s eta 0:00:11��█████████████████▍      | 113.2MB 1.8MB/s eta 0:00:17��█████████████████▋      | 114.1MB 1.8MB/s eta 0:00:16��█████████████████▉      | 115.3MB 1.8MB/s eta 0:00:16     |███████████████████████████     | 120.2MB 137kB/s eta 0:02:45   | 121.8MB 6.3MB/s eta 0:00:044   | 124.1MB 6.3MB/s eta 0:00:03   | 124.3MB 6.3MB/s eta 0:00:03   | 125.3MB 2.7MB/s eta 0:00:07��█████████▏   | 125.8MB 2.7MB/s eta 0:00:07�█████████▎   | 126.1MB 2.7MB/s eta 0:00:07█████████▎   | 126.5MB 2.7MB/s eta 0:00:06��█████████▌   | 127.2MB 2.7MB/s eta 0:00:06�█████████▋   | 127.5MB 2.7MB/s eta 0:00:06█████████▋   | 127.9MB 6.2MB/s eta 0:00:03��█████████▉   | 128.8MB 6.2MB/s eta 0:00:03��██████████   | 129.1MB 6.2MB/s eta 0:00:03��██████████   | 129.4MB 6.2MB/s eta 0:00:03��████████████████████▎  | 130.7MB 6.2MB/s eta 0:00:02��████████████████████▌  | 131.7MB 331kB/s eta 0:00:3432.0MB 331kB/s eta 0:00:33��█████████████████▋  | 132.3MB 331kB/s eta 0:00:32��████████████████████▉  | 133.3MB 331kB/s eta 0:00:2933.6MB 331kB/s eta 0:00:28    |██████████████████████████████▎ | 135.0MB 774kB/s eta 0:00:11    |██████████████████████████████▍ | 135.8MB 774kB/s eta 0:00:10    |██████████████████████████████▌ | 136.3MB 774kB/s eta 0:00:09    |██████████████████████████████▋ | 136.8MB 677kB/s eta 0:00:09�████████████████████████████▊ | 137.1MB 677kB/s eta 0:00:09    |██████████████████████████████▉ | 137.5MB 677kB/s eta 0:00:08     |███████████████████████████████ | 138.8MB 2.6MB/s eta 0:00:029.6MB 2.6MB/s eta 0:00:029.9MB 5.0MB/s eta 0:00:01██████▉| 142.0MB 5.0MB/s eta 0:00:01��██████████████████████▉| 142.3MB 5.0MB/s eta 0:00:01B/s eta 0:00:01\n\u001b[?25hRequirement already satisfied: numpy in /home/nbuser/anaconda3_501/lib/python3.6/site-packages (from xgboost) (1.16.2)\nRequirement already satisfied: scipy in /home/nbuser/anaconda3_501/lib/python3.6/site-packages (from xgboost) (1.1.0)\nInstalling collected packages: xgboost\nSuccessfully installed xgboost-0.90\n\u001b[33mWARNING: You are using pip version 19.2.2, however version 19.2.3 is available.\nYou should consider upgrading via the 'pip install --upgrade pip' command.\u001b[0m\n",
          "name": "stdout"
        }
      ]
    },
    {
      "metadata": {
        "trusted": true
      },
      "cell_type": "code",
      "source": "from sklearn.ensemble import RandomForestClassifier\nfrom sklearn.tree import DecisionTreeClassifier\nfrom xgboost import XGBClassifier\nfrom sklearn.metrics import accuracy_score\nimport matplotlib.pyplot as plt\nfrom sklearn.model_selection import train_test_split, cross_val_score, KFold\nfrom sklearn.pipeline import Pipeline\n\n%matplotlib inline",
      "execution_count": 3,
      "outputs": []
    },
    {
      "metadata": {
        "trusted": true
      },
      "cell_type": "code",
      "source": "df_test = pd.read_csv('../input/learn-together/test.csv')\ndf = pd.read_csv('../input/learn-together/train.csv')\ndf.head()",
      "execution_count": null,
      "outputs": []
    },
    {
      "metadata": {
        "trusted": true
      },
      "cell_type": "code",
      "source": "plt.ylabel('frequency')\nplt.xlabel('cover type')\nplt.bar(df['Cover_Type'].unique(), df['Cover_Type'].value_counts(), color ='green')",
      "execution_count": null,
      "outputs": []
    },
    {
      "metadata": {
        "trusted": true
      },
      "cell_type": "code",
      "source": "features = list(df.columns)[:-1]\ntarget = list(df.columns).pop()\nX = df[features]\ny = df[target]",
      "execution_count": null,
      "outputs": []
    },
    {
      "metadata": {
        "trusted": true
      },
      "cell_type": "code",
      "source": "models = []\nscores = []\nn_splits = 10\nmodels.append(('RF', RandomForestClassifier(criterion='gini', random_state=1, n_estimators=100)))\nmodels.append(('DT', DecisionTreeClassifier(criterion='gini', random_state=1)))\n\nfor name, model in models:\n    cv_pipeline = Pipeline(steps=[('model', model)])\n    kfold = KFold(n_splits=n_splits, shuffle=True)\n    cv_score = cross_val_score(cv_pipeline, X, y, cv=kfold, scoring='accuracy').mean()\n    scores.append((name, cv_score))",
      "execution_count": null,
      "outputs": []
    },
    {
      "metadata": {
        "trusted": true
      },
      "cell_type": "code",
      "source": "x_val = [x[0] for x in scores]\ny_val = [x[1] for x in scores]\nplt.bar(x_val,y_val)\nplt.show()",
      "execution_count": null,
      "outputs": []
    }
  ],
  "metadata": {
    "kernelspec": {
      "name": "python36",
      "display_name": "Python 3.6",
      "language": "python"
    },
    "language_info": {
      "mimetype": "text/x-python",
      "nbconvert_exporter": "python",
      "name": "python",
      "pygments_lexer": "ipython3",
      "version": "3.6.6",
      "file_extension": ".py",
      "codemirror_mode": {
        "version": 3,
        "name": "ipython"
      }
    }
  },
  "nbformat": 4,
  "nbformat_minor": 2
}