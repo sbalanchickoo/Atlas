{
 "cells": [
  {
   "cell_type": "code",
   "execution_count": null,
   "metadata": {},
   "outputs": [],
   "source": [
    "if determine_optimal_base_estimators_combination:\n",
    "    scores = []\n",
    "    for i in range(1, len(optimum_base_models)+1):\n",
    "        model_list_combinations += [list(m) for m in combinations(optimum_base_models, i)]\n",
    "\n",
    "    for model_list in model_list_combinations:\n",
    "        meta_df = get_fold_meta_from_layer_zero(optimum_base_models, X_train, y_train, feature_columns)\n",
    "        fitted_stack_model = stack_model.fit(meta_df, y_train)\n",
    "        y_val_pred = fitted_stack_model.predict(X_val)\n",
    "        score = accuracy_score(y_val, y_val_pred)\n",
    "        \n",
    "        comparison = {'score': score, 'model_list': model_list, 'layer_two_model': fitted_stack_model, 'feature_columns': feature_columns}\n",
    "        scores.append(comparison)\n",
    "    \n",
    "    for model_score in sorted(scores, key = lambda x: x['score'], reverse=True):\n",
    "        models = []\n",
    "        for model in model_score['model_list']:\n",
    "            model_short = model.__class__.__name__\n",
    "            models.append(model_short)\n",
    "        print('Models: \\n{models}\\nScore: {score}\\nTotal Columns: {columns}\\n'.format(models=models, score=model_score['score'], columns=model_score['total_columns']))\n"
   ]
  }
 ],
 "metadata": {
  "kernelspec": {
   "display_name": "Python 3",
   "language": "python",
   "name": "python3"
  },
  "language_info": {
   "codemirror_mode": {
    "name": "ipython",
    "version": 3
   },
   "file_extension": ".py",
   "mimetype": "text/x-python",
   "name": "python",
   "nbconvert_exporter": "python",
   "pygments_lexer": "ipython3",
   "version": "3.7.3"
  }
 },
 "nbformat": 4,
 "nbformat_minor": 1
}
