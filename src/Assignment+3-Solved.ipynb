{
 "cells": [
  {
   "cell_type": "markdown",
   "metadata": {},
   "source": [
    "---\n",
    "\n",
    "_You are currently looking at **version 1.5** of this notebook. To download notebooks and datafiles, as well as get help on Jupyter notebooks in the Coursera platform, visit the [Jupyter Notebook FAQ](https://www.coursera.org/learn/python-data-analysis/resources/0dhYG) course resource._\n",
    "\n",
    "---"
   ]
  },
  {
   "cell_type": "markdown",
   "metadata": {},
   "source": [
    "# Assignment 3 - More Pandas\n",
    "This assignment requires more individual learning then the last one did - you are encouraged to check out the [pandas documentation](http://pandas.pydata.org/pandas-docs/stable/) to find functions or methods you might not have used yet, or ask questions on [Stack Overflow](http://stackoverflow.com/) and tag them as pandas and python related. And of course, the discussion forums are open for interaction with your peers and the course staff."
   ]
  },
  {
   "cell_type": "markdown",
   "metadata": {},
   "source": [
    "### Question 1 (20%)\n",
    "Load the energy data from the file `Energy Indicators.xls`, which is a list of indicators of [energy supply and renewable electricity production](Energy%20Indicators.xls) from the [United Nations](http://unstats.un.org/unsd/environment/excel_file_tables/2013/Energy%20Indicators.xls) for the year 2013, and should be put into a DataFrame with the variable name of **energy**.\n",
    "\n",
    "Keep in mind that this is an Excel file, and not a comma separated values file. Also, make sure to exclude the footer and header information from the datafile. The first two columns are unneccessary, so you should get rid of them, and you should change the column labels so that the columns are:\n",
    "\n",
    "`['Country', 'Energy Supply', 'Energy Supply per Capita', '% Renewable']`\n",
    "\n",
    "Convert `Energy Supply` to gigajoules (there are 1,000,000 gigajoules in a petajoule). For all countries which have missing data (e.g. data with \"...\") make sure this is reflected as `np.NaN` values.\n",
    "\n",
    "Rename the following list of countries (for use in later questions):\n",
    "\n",
    "```\"Republic of Korea\": \"South Korea\",\n",
    "\"United States of America\": \"United States\",\n",
    "\"United Kingdom of Great Britain and Northern Ireland\": \"United Kingdom\",\n",
    "\"China, Hong Kong Special Administrative Region\": \"Hong Kong\"```\n",
    "\n",
    "There are also several countries with numbers and/or parenthesis in their name. Be sure to remove these, \n",
    "\n",
    "e.g. \n",
    "\n",
    "`'Bolivia (Plurinational State of)'` should be `'Bolivia'`, \n",
    "\n",
    "`'Switzerland17'` should be `'Switzerland'`.\n",
    "\n",
    "<br>\n",
    "\n",
    "Next, load the GDP data from the file `world_bank.csv`, which is a csv containing countries' GDP from 1960 to 2015 from [World Bank](http://data.worldbank.org/indicator/NY.GDP.MKTP.CD). Call this DataFrame **GDP**. \n",
    "\n",
    "Make sure to skip the header, and rename the following list of countries:\n",
    "\n",
    "```\"Korea, Rep.\": \"South Korea\", \n",
    "\"Iran, Islamic Rep.\": \"Iran\",\n",
    "\"Hong Kong SAR, China\": \"Hong Kong\"```\n",
    "\n",
    "<br>\n",
    "\n",
    "Finally, load the [Sciamgo Journal and Country Rank data for Energy Engineering and Power Technology](http://www.scimagojr.com/countryrank.php?category=2102) from the file `scimagojr-3.xlsx`, which ranks countries based on their journal contributions in the aforementioned area. Call this DataFrame **ScimEn**.\n",
    "\n",
    "Join the three datasets: GDP, Energy, and ScimEn into a new dataset (using the intersection of country names). Use only the last 10 years (2006-2015) of GDP data and only the top 15 countries by Scimagojr 'Rank' (Rank 1 through 15). \n",
    "\n",
    "The index of this DataFrame should be the name of the country, and the columns should be ['Rank', 'Documents', 'Citable documents', 'Citations', 'Self-citations',\n",
    "       'Citations per document', 'H index', 'Energy Supply',\n",
    "       'Energy Supply per Capita', '% Renewable', '2006', '2007', '2008',\n",
    "       '2009', '2010', '2011', '2012', '2013', '2014', '2015'].\n",
    "\n",
    "*This function should return a DataFrame with 20 columns and 15 entries.*"
   ]
  },
  {
   "cell_type": "code",
   "execution_count": 14,
   "metadata": {
    "collapsed": true,
    "umich_part_id": "009",
    "umich_partlist_id": "003"
   },
   "outputs": [],
   "source": [
    "def answer_one():\n",
    "    import pandas as pd\n",
    "    import numpy as np\n",
    "    import re\n",
    "    energy = pd.read_excel('Energy Indicators.xls', skiprows=17)\n",
    "    energy = energy.iloc[:, 2:]\n",
    "    energy.rename(columns={'Unnamed: 2':'Country'\n",
    "                           , 'Petajoules':'Energy Supply'\n",
    "                           , 'Gigajoules':'Energy Supply per Capita'\n",
    "                           , '%':'% Renewable'\n",
    "                          }, inplace=True)\n",
    "    energy['Energy Supply'] = energy['Energy Supply'] * 1000000\n",
    "    energy = energy[(energy['Country'].notnull())].reset_index(drop=True).iloc[:227, :]\n",
    "    country_dict = {\"Republic of Korea\": \"South Korea\",\n",
    "                    \"United States of America20\": \"United States\",\n",
    "                    \"United Kingdom of Great Britain and Northern Ireland19\": \"United Kingdom\",\n",
    "                    \"China, Hong Kong Special Administrative Region\": \"Hong Kong\",\n",
    "                    'Australia1': 'Australia',\n",
    "                    'Bolivia (Plurinational State of)': 'Bolivia',\n",
    "                    'China2': 'China',\n",
    "                    'China, Macao Special Administrative Region4': 'China, Macao Special Administrative Region',\n",
    "                    'China, Hong Kong Special Administrative Region3': 'Hong Kong',\n",
    "                    'Denmark5': 'Denmark',\n",
    "                    'Falkland Islands (Malvinas)': 'Falkland Islands',\n",
    "                    'France6': 'France',\n",
    "                    'Greenland7': 'Greenland',\n",
    "                    'Indonesia8': 'Indonesia',\n",
    "                    'Iran (Islamic Republic of)': 'Iran',\n",
    "                    'Italy9': 'Italy',\n",
    "                    'Japan10': 'Japan',\n",
    "                    'Kuwait11': 'Kuwait',\n",
    "                    'Micronesia (Federated States of)': 'Micronesia',\n",
    "                    'Netherlands12': 'Netherlands',\n",
    "                    'Portugal13': 'Portugal',\n",
    "                    'Saudi Arabia14': 'Saudi Arabia',\n",
    "                    'Serbia15': 'Serbia',\n",
    "                    'Sint Maarten (Dutch part)': 'Sint Maarten',\n",
    "                    'Spain16': 'Spain',\n",
    "                    'Switzerland17': 'Switzerland',\n",
    "                    'Ukraine18': 'Ukraine',\n",
    "                    'Venezuela (Bolivarian Republic of)': 'Venezuela'\n",
    "                   }\n",
    "    energy['Country'] = energy['Country'].replace(country_dict)\n",
    "\n",
    "    gdp = pd.read_csv('world_bank.csv', skiprows=3, header=1)\n",
    "    gdp.rename(columns={'Country Name':'Country'}, inplace=True)\n",
    "    country_dict = {\"Korea, Rep.\": \"South Korea\", \n",
    "                    \"Iran, Islamic Rep.\": \"Iran\",\n",
    "                    \"Hong Kong SAR, China\": \"Hong Kong\"\n",
    "                   }\n",
    "    gdp['Country'] = gdp['Country'].replace(country_dict)\n",
    "\n",
    "    scimen = pd.read_excel('scimagojr-3.xlsx')\n",
    "\n",
    "    df = energy.merge(gdp\n",
    "                      , how='inner'\n",
    "                      , on='Country'\n",
    "                     ).merge(scimen\n",
    "                             , how='inner'\n",
    "                             , on='Country'\n",
    "                            )\n",
    "\n",
    "    cols = ['Country', 'Rank', 'Documents', 'Citable documents', 'Citations', 'Self-citations', 'Citations per document', 'H index'\n",
    "            , 'Energy Supply', 'Energy Supply per Capita', '% Renewable'\n",
    "            , '2006', '2007', '2008', '2009', '2010', '2011', '2012', '2013', '2014', '2015']\n",
    "    df_sorted = df[df['Rank']<16].loc[:, cols].set_index('Country')\n",
    "\n",
    "    return df_sorted"
   ]
  },
  {
   "cell_type": "markdown",
   "metadata": {},
   "source": [
    "### Question 2 (6.6%)\n",
    "The previous question joined three datasets then reduced this to just the top 15 entries. When you joined the datasets, but before you reduced this to the top 15 items, how many entries did you lose?\n",
    "\n",
    "*This function should return a single number.*"
   ]
  },
  {
   "cell_type": "code",
   "execution_count": 16,
   "metadata": {},
   "outputs": [
    {
     "data": {
      "text/html": [
       "<svg width=\"800\" height=\"300\">\n",
       "  <circle cx=\"150\" cy=\"180\" r=\"80\" fill-opacity=\"0.2\" stroke=\"black\" stroke-width=\"2\" fill=\"blue\" />\n",
       "  <circle cx=\"200\" cy=\"100\" r=\"80\" fill-opacity=\"0.2\" stroke=\"black\" stroke-width=\"2\" fill=\"red\" />\n",
       "  <circle cx=\"100\" cy=\"100\" r=\"80\" fill-opacity=\"0.2\" stroke=\"black\" stroke-width=\"2\" fill=\"green\" />\n",
       "  <line x1=\"150\" y1=\"125\" x2=\"300\" y2=\"150\" stroke=\"black\" stroke-width=\"2\" fill=\"black\" stroke-dasharray=\"5,3\"/>\n",
       "  <text  x=\"300\" y=\"165\" font-family=\"Verdana\" font-size=\"35\">Everything but this!</text>\n",
       "</svg>"
      ],
      "text/plain": [
       "<IPython.core.display.HTML object>"
      ]
     },
     "metadata": {},
     "output_type": "display_data"
    }
   ],
   "source": [
    "%%HTML\n",
    "<svg width=\"800\" height=\"300\">\n",
    "  <circle cx=\"150\" cy=\"180\" r=\"80\" fill-opacity=\"0.2\" stroke=\"black\" stroke-width=\"2\" fill=\"blue\" />\n",
    "  <circle cx=\"200\" cy=\"100\" r=\"80\" fill-opacity=\"0.2\" stroke=\"black\" stroke-width=\"2\" fill=\"red\" />\n",
    "  <circle cx=\"100\" cy=\"100\" r=\"80\" fill-opacity=\"0.2\" stroke=\"black\" stroke-width=\"2\" fill=\"green\" />\n",
    "  <line x1=\"150\" y1=\"125\" x2=\"300\" y2=\"150\" stroke=\"black\" stroke-width=\"2\" fill=\"black\" stroke-dasharray=\"5,3\"/>\n",
    "  <text  x=\"300\" y=\"165\" font-family=\"Verdana\" font-size=\"35\">Everything but this!</text>\n",
    "</svg>"
   ]
  },
  {
   "cell_type": "code",
   "execution_count": 45,
   "metadata": {
    "collapsed": true,
    "scrolled": false,
    "umich_part_id": "010",
    "umich_partlist_id": "003"
   },
   "outputs": [],
   "source": [
    "def answer_two():\n",
    "    import pandas as pd\n",
    "    import numpy as np\n",
    "    import re\n",
    "    energy = pd.read_excel('Energy Indicators.xls', skiprows=17)\n",
    "    energy = energy.iloc[:, 2:]\n",
    "    energy.rename(columns={'Unnamed: 2':'Country'\n",
    "                           , 'Petajoules':'Energy Supply'\n",
    "                           , 'Gigajoules':'Energy Supply per Capita'\n",
    "                           , '%':'% Renewable'\n",
    "                          }, inplace=True)\n",
    "    energy = energy[(energy['Country'].notnull())].reset_index(drop=True).iloc[:227, :]\n",
    "    country_dict = {\"Republic of Korea\": \"South Korea\",\n",
    "                    \"United States of America20\": \"United States\",\n",
    "                    \"United Kingdom of Great Britain and Northern Ireland19\": \"United Kingdom\",\n",
    "                    \"China, Hong Kong Special Administrative Region\": \"Hong Kong\",\n",
    "                    'Australia1': 'Australia',\n",
    "                    'Bolivia (Plurinational State of)': 'Bolivia',\n",
    "                    'China2': 'China',\n",
    "                    'China, Macao Special Administrative Region4': 'China, Macao Special Administrative Region',\n",
    "                    'China, Hong Kong Special Administrative Region3': 'Hong Kong',\n",
    "                    'Denmark5': 'Denmark',\n",
    "                    'Falkland Islands (Malvinas)': 'Falkland Islands',\n",
    "                    'France6': 'France',\n",
    "                    'Greenland7': 'Greenland',\n",
    "                    'Indonesia8': 'Indonesia',\n",
    "                    'Iran (Islamic Republic of)': 'Iran',\n",
    "                    'Italy9': 'Italy',\n",
    "                    'Japan10': 'Japan',\n",
    "                    'Kuwait11': 'Kuwait',\n",
    "                    'Micronesia (Federated States of)': 'Micronesia',\n",
    "                    'Netherlands12': 'Netherlands',\n",
    "                    'Portugal13': 'Portugal',\n",
    "                    'Saudi Arabia14': 'Saudi Arabia',\n",
    "                    'Serbia15': 'Serbia',\n",
    "                    'Sint Maarten (Dutch part)': 'Sint Maarten',\n",
    "                    'Spain16': 'Spain',\n",
    "                    'Switzerland17': 'Switzerland',\n",
    "                    'Ukraine18': 'Ukraine',\n",
    "                    'Venezuela (Bolivarian Republic of)': 'Venezuela'\n",
    "                   }\n",
    "    energy['Country'] = energy['Country'].replace(country_dict)\n",
    "\n",
    "    gdp = pd.read_csv('world_bank.csv', skiprows=3, header=1)\n",
    "    gdp.rename(columns={'Country Name':'Country'}, inplace=True)\n",
    "    country_dict = {\"Korea, Rep.\": \"South Korea\", \n",
    "                    \"Iran, Islamic Rep.\": \"Iran\",\n",
    "                    \"Hong Kong SAR, China\": \"Hong Kong\"\n",
    "                   }\n",
    "    gdp['Country'] = gdp['Country'].replace(country_dict)\n",
    "\n",
    "    scimen = pd.read_excel('scimagojr-3.xlsx')\n",
    "\n",
    "    df_merge = energy.merge(gdp\n",
    "                      , how='inner'\n",
    "                      , on='Country'\n",
    "                     ).merge(scimen\n",
    "                             , how='inner'\n",
    "                             , on='Country'\n",
    "                            )\n",
    "\n",
    "    energy_ct = list(energy['Country'])\n",
    "    gdp_ct = list(gdp['Country'])\n",
    "    sci_ct = list(scimen['Country'])\n",
    "    cts = set(energy_ct + gdp_ct + sci_ct)\n",
    "    \n",
    "    answer = len(cts) - len(df_merge.index)\n",
    "    return answer"
   ]
  },
  {
   "cell_type": "markdown",
   "metadata": {},
   "source": [
    "## Answer the following questions in the context of only the top 15 countries by Scimagojr Rank (aka the DataFrame returned by `answer_one()`)"
   ]
  },
  {
   "cell_type": "markdown",
   "metadata": {},
   "source": [
    "### Question 3 (6.6%)\n",
    "What is the average GDP over the last 10 years for each country? (exclude missing values from this calculation.)\n",
    "\n",
    "*This function should return a Series named `avgGDP` with 15 countries and their average GDP sorted in descending order.*"
   ]
  },
  {
   "cell_type": "code",
   "execution_count": 25,
   "metadata": {
    "collapsed": true,
    "scrolled": true,
    "umich_part_id": "011",
    "umich_partlist_id": "003"
   },
   "outputs": [],
   "source": [
    "def answer_three():\n",
    "    import pandas as pd\n",
    "    df = answer_one()\n",
    "    cols = ['2006', '2007', '2008', '2009', '2010', '2011', '2012', '2013', '2014', '2015']\n",
    "    df['avgGDP'] = df[cols].mean(axis=1)\n",
    "   \n",
    "    return pd.Series(df['avgGDP'])"
   ]
  },
  {
   "cell_type": "markdown",
   "metadata": {},
   "source": [
    "### Question 4 (6.6%)\n",
    "By how much had the GDP changed over the 10 year span for the country with the 6th largest average GDP?\n",
    "\n",
    "*This function should return a single number.*"
   ]
  },
  {
   "cell_type": "code",
   "execution_count": 26,
   "metadata": {
    "collapsed": true,
    "scrolled": true,
    "umich_part_id": "012",
    "umich_partlist_id": "003"
   },
   "outputs": [],
   "source": [
    "def answer_four():\n",
    "    import pandas as pd\n",
    "    df = answer_one()\n",
    "    cols = ['2006', '2007', '2008', '2009', '2010', '2011', '2012', '2013', '2014', '2015']\n",
    "    df['avgGDP'] = df[cols].mean(axis=1)\n",
    "    df = df.sort_values(by=['avgGDP'], ascending=False).reset_index()\n",
    "    \n",
    "    df['diff'] = (df['2015'] - df['2006']).astype('float64')\n",
    "    \n",
    "    return (df.iloc[5, :]['diff'])"
   ]
  },
  {
   "cell_type": "markdown",
   "metadata": {},
   "source": [
    "### Question 5 (6.6%)\n",
    "What is the mean `Energy Supply per Capita`?\n",
    "\n",
    "*This function should return a single number.*"
   ]
  },
  {
   "cell_type": "code",
   "execution_count": 64,
   "metadata": {
    "collapsed": true,
    "umich_part_id": "013",
    "umich_partlist_id": "003"
   },
   "outputs": [],
   "source": [
    "def answer_five():\n",
    "    import pandas as pd\n",
    "    df = answer_one()\n",
    "\n",
    "    return df['Energy Supply per Capita'].fillna(0).mean()"
   ]
  },
  {
   "cell_type": "markdown",
   "metadata": {},
   "source": [
    "### Question 6 (6.6%)\n",
    "What country has the maximum % Renewable and what is the percentage?\n",
    "\n",
    "*This function should return a tuple with the name of the country and the percentage.*"
   ]
  },
  {
   "cell_type": "code",
   "execution_count": 28,
   "metadata": {
    "collapsed": true,
    "umich_part_id": "014",
    "umich_partlist_id": "003"
   },
   "outputs": [],
   "source": [
    "def answer_six():\n",
    "    import pandas as pd\n",
    "    df = answer_one()\n",
    "    \n",
    "    max_value_df = df[df['% Renewable'] == df['% Renewable'].max()]\n",
    "    \n",
    "    return str(max_value_df.index.values[0]), float(max_value_df['% Renewable'])"
   ]
  },
  {
   "cell_type": "markdown",
   "metadata": {},
   "source": [
    "### Question 7 (6.6%)\n",
    "Create a new column that is the ratio of Self-Citations to Total Citations. \n",
    "What is the maximum value for this new column, and what country has the highest ratio?\n",
    "\n",
    "*This function should return a tuple with the name of the country and the ratio.*"
   ]
  },
  {
   "cell_type": "code",
   "execution_count": 29,
   "metadata": {
    "collapsed": true,
    "umich_part_id": "015",
    "umich_partlist_id": "003"
   },
   "outputs": [],
   "source": [
    "def answer_seven():\n",
    "    import pandas as pd\n",
    "    df = answer_one()\n",
    "    \n",
    "    df['ratio'] = df['Self-citations'] / df['Citations']\n",
    "    max_value_df = df[df['ratio'] == df['ratio'].max()]\n",
    "    \n",
    "    return str(max_value_df.index.values[0]), float(max_value_df['ratio'])"
   ]
  },
  {
   "cell_type": "markdown",
   "metadata": {},
   "source": [
    "### Question 8 (6.6%)\n",
    "\n",
    "Create a column that estimates the population using Energy Supply and Energy Supply per capita. \n",
    "What is the third most populous country according to this estimate?\n",
    "\n",
    "*This function should return a single string value.*"
   ]
  },
  {
   "cell_type": "code",
   "execution_count": 30,
   "metadata": {
    "collapsed": true,
    "umich_part_id": "016",
    "umich_partlist_id": "003"
   },
   "outputs": [],
   "source": [
    "def answer_eight():\n",
    "    import pandas as pd\n",
    "    df = answer_one()\n",
    "    \n",
    "    df['population'] = df['Energy Supply'] / df['Energy Supply per Capita']\n",
    "    df = df.sort_values(by=['population'], ascending=False).reset_index()\n",
    "    \n",
    "    \n",
    "    return str(df.iloc[2, :]['Country'])"
   ]
  },
  {
   "cell_type": "markdown",
   "metadata": {},
   "source": [
    "### Question 9 (6.6%)\n",
    "Create a column that estimates the number of citable documents per person. \n",
    "What is the correlation between the number of citable documents per capita and the energy supply per capita? Use the `.corr()` method, (Pearson's correlation).\n",
    "\n",
    "*This function should return a single number.*\n",
    "\n",
    "*(Optional: Use the built-in function `plot9()` to visualize the relationship between Energy Supply per Capita vs. Citable docs per Capita)*"
   ]
  },
  {
   "cell_type": "code",
   "execution_count": 63,
   "metadata": {
    "collapsed": true,
    "umich_part_id": "017",
    "umich_partlist_id": "003"
   },
   "outputs": [],
   "source": [
    "def answer_nine():\n",
    "    import pandas as pd\n",
    "    df = answer_one()\n",
    "    df['population'] = df['Energy Supply'] / df['Energy Supply per Capita']\n",
    "    df['ratio'] = df['Citable documents'] / df['population']\n",
    "    \n",
    "    column_1 = df['Energy Supply per Capita'].astype('float32')\n",
    "    column_2 = df['ratio'].astype('float32')\n",
    "    \n",
    "    return column_1.corr(column_2)"
   ]
  },
  {
   "cell_type": "code",
   "execution_count": 64,
   "metadata": {},
   "outputs": [
    {
     "data": {
      "text/plain": [
       "0.79400104171723707"
      ]
     },
     "execution_count": 64,
     "metadata": {},
     "output_type": "execute_result"
    }
   ],
   "source": [
    "answer_nine()"
   ]
  },
  {
   "cell_type": "code",
   "execution_count": 32,
   "metadata": {
    "collapsed": true
   },
   "outputs": [],
   "source": [
    "def plot9():\n",
    "    import matplotlib as plt\n",
    "    %matplotlib inline\n",
    "    \n",
    "    Top15 = answer_one()\n",
    "    Top15['PopEst'] = Top15['Energy Supply'] / Top15['Energy Supply per Capita']\n",
    "    Top15['Citable docs per Capita'] = Top15['Citable documents'] / Top15['PopEst']\n",
    "    Top15.plot(x='Citable docs per Capita', y='Energy Supply per Capita', kind='scatter', xlim=[0, 0.0006])"
   ]
  },
  {
   "cell_type": "code",
   "execution_count": 33,
   "metadata": {
    "collapsed": true
   },
   "outputs": [],
   "source": [
    "# plot9() # Be sure to comment out plot9() before submitting the assignment!"
   ]
  },
  {
   "cell_type": "markdown",
   "metadata": {},
   "source": [
    "### Question 10 (6.6%)\n",
    "Create a new column with a 1 if the country's % Renewable value is at or above the median for all countries in the top 15, and a 0 if the country's % Renewable value is below the median.\n",
    "\n",
    "*This function should return a series named `HighRenew` whose index is the country name sorted in ascending order of rank.*"
   ]
  },
  {
   "cell_type": "code",
   "execution_count": 25,
   "metadata": {
    "collapsed": true,
    "umich_part_id": "018",
    "umich_partlist_id": "003"
   },
   "outputs": [],
   "source": [
    "def answer_ten():\n",
    "    import pandas as pd\n",
    "    df = answer_one()\n",
    "    \n",
    "    df.loc[df['% Renewable'] >= df['% Renewable'].median(), 'HighRenew'] = 1\n",
    "    df.loc[df['% Renewable'] < df['% Renewable'].median(), 'HighRenew'] = 0\n",
    "    df = df.sort_values(by='Rank')\n",
    "        \n",
    "    return df['HighRenew']"
   ]
  },
  {
   "cell_type": "markdown",
   "metadata": {},
   "source": [
    "### Question 11 (6.6%)\n",
    "Use the following dictionary to group the Countries by Continent, then create a dateframe that displays the sample size (the number of countries in each continent bin), and the sum, mean, and std deviation for the estimated population of each country.\n",
    "\n",
    "```python\n",
    "ContinentDict  = {'China':'Asia', \n",
    "                  'United States':'North America', \n",
    "                  'Japan':'Asia', \n",
    "                  'United Kingdom':'Europe', \n",
    "                  'Russian Federation':'Europe', \n",
    "                  'Canada':'North America', \n",
    "                  'Germany':'Europe', \n",
    "                  'India':'Asia',\n",
    "                  'France':'Europe', \n",
    "                  'South Korea':'Asia', \n",
    "                  'Italy':'Europe', \n",
    "                  'Spain':'Europe', \n",
    "                  'Iran':'Asia',\n",
    "                  'Australia':'Australia', \n",
    "                  'Brazil':'South America'}\n",
    "```\n",
    "\n",
    "*This function should return a DataFrame with index named Continent `['Asia', 'Australia', 'Europe', 'North America', 'South America']` and columns `['size', 'sum', 'mean', 'std']`*"
   ]
  },
  {
   "cell_type": "code",
   "execution_count": 35,
   "metadata": {
    "collapsed": true,
    "umich_part_id": "019",
    "umich_partlist_id": "003"
   },
   "outputs": [],
   "source": [
    "def answer_eleven():\n",
    "    import pandas as pd\n",
    "    import numpy as np\n",
    "    df = answer_one()\n",
    "    ContinentDict  = {'China':'Asia', \n",
    "                      'United States':'North America', \n",
    "                      'Japan':'Asia', \n",
    "                      'United Kingdom':'Europe', \n",
    "                      'Russian Federation':'Europe', \n",
    "                      'Canada':'North America', \n",
    "                      'Germany':'Europe', \n",
    "                      'India':'Asia',\n",
    "                      'France':'Europe', \n",
    "                      'South Korea':'Asia', \n",
    "                      'Italy':'Europe', \n",
    "                      'Spain':'Europe', \n",
    "                      'Iran':'Asia',\n",
    "                      'Australia':'Australia', \n",
    "                      'Brazil':'South America'}\n",
    "    df['Continent'] = list(pd.Series(df.index).map(ContinentDict))\n",
    "    df['population'] = df['Energy Supply'] / df['Energy Supply per Capita']\n",
    "    df['population'] = df['population'].astype('float')\n",
    "\n",
    "\n",
    "    answer = df.groupby('Continent').agg({'population':['size', 'sum', 'mean', 'std']})['population'] \n",
    "    return answer"
   ]
  },
  {
   "cell_type": "markdown",
   "metadata": {},
   "source": [
    "### Question 12 (6.6%)\n",
    "Cut % Renewable into 5 bins. Group Top15 by the Continent, as well as these new % Renewable bins. How many countries are in each of these groups?\n",
    "\n",
    "*This function should return a __Series__ with a MultiIndex of `Continent`, then the bins for `% Renewable`. Do not include groups with no countries.*"
   ]
  },
  {
   "cell_type": "code",
   "execution_count": 36,
   "metadata": {
    "collapsed": true,
    "scrolled": true
   },
   "outputs": [],
   "source": [
    "def answer_twelve():\n",
    "    import pandas as pd\n",
    "    import numpy as np\n",
    "    df = answer_one()\n",
    "    ContinentDict  = {'China':'Asia', \n",
    "                          'United States':'North America', \n",
    "                          'Japan':'Asia', \n",
    "                          'United Kingdom':'Europe', \n",
    "                          'Russian Federation':'Europe', \n",
    "                          'Canada':'North America', \n",
    "                          'Germany':'Europe', \n",
    "                          'India':'Asia',\n",
    "                          'France':'Europe', \n",
    "                          'South Korea':'Asia', \n",
    "                          'Italy':'Europe', \n",
    "                          'Spain':'Europe', \n",
    "                          'Iran':'Asia',\n",
    "                          'Australia':'Australia', \n",
    "                          'Brazil':'South America'}\n",
    "    df['Continent'] = list(pd.Series(df.index).map(ContinentDict))\n",
    "\n",
    "    ls = list(df['% Renewable'])\n",
    "    df['bins'] = pd.cut(ls, bins=5)\n",
    "    answer = df.loc[:, ['Continent', '% Renewable', 'bins']].sort_values(by='% Renewable').groupby(['Continent', 'bins']).agg('size')\n",
    "    return answer"
   ]
  },
  {
   "cell_type": "markdown",
   "metadata": {},
   "source": [
    "### Question 13 (6.6%)\n",
    "Convert the Population Estimate series to a string with thousands separator (using commas). Do not round the results.\n",
    "\n",
    "e.g. 317615384.61538464 -> 317,615,384.61538464\n",
    "\n",
    "*This function should return a Series `PopEst` whose index is the country name and whose values are the population estimate string.*"
   ]
  },
  {
   "cell_type": "code",
   "execution_count": 37,
   "metadata": {
    "collapsed": true,
    "scrolled": true,
    "umich_part_id": "020",
    "umich_partlist_id": "003"
   },
   "outputs": [],
   "source": [
    "def answer_thirteen():\n",
    "    import pandas as pd\n",
    "    import numpy as np\n",
    "    df = answer_one()\n",
    "    df['population'] = df['Energy Supply'] / df['Energy Supply per Capita']\n",
    "    df['PopEst'] = df['population'].map('{:,}'.format)\n",
    "    return df['PopEst']"
   ]
  },
  {
   "cell_type": "markdown",
   "metadata": {},
   "source": [
    "### Optional\n",
    "\n",
    "Use the built in function `plot_optional()` to see an example visualization."
   ]
  },
  {
   "cell_type": "code",
   "execution_count": 38,
   "metadata": {
    "collapsed": true,
    "scrolled": true
   },
   "outputs": [],
   "source": [
    "def plot_optional():\n",
    "    import matplotlib as plt\n",
    "    %matplotlib inline\n",
    "    Top15 = answer_one()\n",
    "    ax = Top15.plot(x='Rank', y='% Renewable', kind='scatter', \n",
    "                    c=['#e41a1c','#377eb8','#e41a1c','#4daf4a','#4daf4a','#377eb8','#4daf4a','#e41a1c',\n",
    "                       '#4daf4a','#e41a1c','#4daf4a','#4daf4a','#e41a1c','#dede00','#ff7f00'], \n",
    "                    xticks=range(1,16), s=6*Top15['2014']/10**10, alpha=.75, figsize=[16,6]);\n",
    "\n",
    "    for i, txt in enumerate(Top15.index):\n",
    "        ax.annotate(txt, [Top15['Rank'][i], Top15['% Renewable'][i]], ha='center')\n",
    "\n",
    "    print(\"This is an example of a visualization that can be created to help understand the data. \\\n",
    "This is a bubble chart showing % Renewable vs. Rank. The size of the bubble corresponds to the countries' \\\n",
    "2014 GDP, and the color corresponds to the continent.\")"
   ]
  },
  {
   "cell_type": "code",
   "execution_count": 39,
   "metadata": {
    "collapsed": true
   },
   "outputs": [],
   "source": [
    "# plot_optional() # Be sure to comment out plot_optional() before submitting the assignment!"
   ]
  },
  {
   "cell_type": "code",
   "execution_count": null,
   "metadata": {
    "collapsed": true
   },
   "outputs": [],
   "source": []
  }
 ],
 "metadata": {
  "anaconda-cloud": {},
  "coursera": {
   "course_slug": "python-data-analysis",
   "graded_item_id": "zAr06",
   "launcher_item_id": "KSSjT",
   "part_id": "SL3fU"
  },
  "kernelspec": {
   "display_name": "Python 3",
   "language": "python",
   "name": "python3"
  },
  "language_info": {
   "codemirror_mode": {
    "name": "ipython",
    "version": 3
   },
   "file_extension": ".py",
   "mimetype": "text/x-python",
   "name": "python",
   "nbconvert_exporter": "python",
   "pygments_lexer": "ipython3",
   "version": "3.8.3"
  },
  "umich": {
   "id": "Assignment 3",
   "version": "1.5"
  }
 },
 "nbformat": 4,
 "nbformat_minor": 1
}
