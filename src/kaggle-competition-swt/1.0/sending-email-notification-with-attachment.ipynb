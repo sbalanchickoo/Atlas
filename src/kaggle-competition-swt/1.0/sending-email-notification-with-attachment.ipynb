{
 "cells": [
  {
   "cell_type": "markdown",
   "metadata": {},
   "source": [
    "# Introduction\n",
    "\n",
    "I can imagine that waiting for the results of your notebooks/scripts when solving it using heuristic algorithms is very stressful, especially when you are not able to access your computer/cloud service. This is a simple example showing how you can get an email notification with the submission file attached so that you can be noticed your algorithm's progress at any time and any place with your phone and internet connection on. \n",
    "\n",
    "Moreover, I suppose this can be used when commiting kaggle notebooks with internet on (I haven't tested this yet)."
   ]
  },
  {
   "cell_type": "code",
   "execution_count": 1,
   "metadata": {
    "_cell_guid": "b1076dfc-b9ad-4769-8c92-a6c4dae69d19",
    "_uuid": "8f2839f25d086af736a60e9eeb907d3b93b6e0e5"
   },
   "outputs": [],
   "source": [
    "import time, os\n",
    "import numpy as np\n",
    "import smtplib\n",
    "import mimetypes\n",
    "import requests, bs4, smtplib\n",
    "from email.header import Header\n",
    "from email.mime.multipart import MIMEMultipart\n",
    "from email import encoders\n",
    "from email.message import Message\n",
    "from email.mime.audio import MIMEAudio\n",
    "from email.mime.base import MIMEBase\n",
    "from email.mime.image import MIMEImage\n",
    "from email.mime.text import MIMEText\n",
    "from email import encoders\n",
    "\n",
    "#  Here, I just use TEST to finish running the notebook. Remove TEST to use it.\n",
    "TEST = True"
   ]
  },
  {
   "cell_type": "code",
   "execution_count": 2,
   "metadata": {
    "_cell_guid": "79c7e3d0-c299-4dcb-8224-4455121ee9b0",
    "_uuid": "d629ff2d2480ee46fbb7e2d37f6b5fab8052498a"
   },
   "outputs": [],
   "source": [
    "# Modified from https://github.com/jorgemgr94/python-smtplib-attachments\n",
    "\n",
    "def sendattachmail(sender_address, sender_pass, receiver_mails, content, file_dir, num):\n",
    "    # The mail addresses and password, in this example i'm using Gmail\n",
    "    sender_address = sender_address\n",
    "    sender_pass = sender_pass\n",
    "    smtp_server = 'smtp.gmail.com'\n",
    "    smtp_port = 587\n",
    "\n",
    "    # Setup mail content\n",
    "    mail_content = content\n",
    "\n",
    "    # Setup global the MIME\n",
    "    message = MIMEMultipart()\n",
    "    message['Subject'] = 'Report ' + str(num) \n",
    "\n",
    "    # Body and the attachments for the mail\n",
    "    message.attach(MIMEText(mail_content, 'plain'))\n",
    "    attach_file_name = file_dir + f'/submission_{content}.csv'\n",
    "    attach_file = open(attach_file_name, 'rb') # Open the file as binary mode\n",
    "    payload = MIMEBase('application', 'octate-stream')\n",
    "    payload.set_payload((attach_file).read())\n",
    "    encoders.encode_base64(payload) # Encode the attachment\n",
    "    payload.add_header('Content-Disposition', 'attachment', filename=f'submission_{content}.csv')\n",
    "    message.attach(payload)\n",
    "\n",
    "    #Create SMTP session \n",
    "    session = smtplib.SMTP(smtp_server, smtp_port)\n",
    "    session.starttls() #enable security\n",
    "    session.login(sender_address, sender_pass) #login\n",
    "    text = message.as_string()\n",
    "\n",
    "    # mails = ['xxxx@gmail.com', 'xxxx@gmail.com', ...]\n",
    "    mails = receiver_mails\n",
    "\n",
    "    for receiver_address in mails:\n",
    "        # Setup the MIME\n",
    "        message['From'] = sender_address\n",
    "        message['To'] = receiver_address\n",
    "        session.sendmail(sender_address, receiver_address, text)\n",
    "        print('Mail Sent: '+receiver_address)\n",
    "    \n",
    "    session.quit()"
   ]
  },
  {
   "cell_type": "code",
   "execution_count": 3,
   "metadata": {},
   "outputs": [],
   "source": [
    "if not TEST:\n",
    "    \n",
    "    # Your submission file path\n",
    "    DIR = 'C:/Users/yirun_zhang008/Project/Santa/submission'\n",
    "\n",
    "    # Check the initial best score\n",
    "    score = []\n",
    "    name = os.listdir(DIR)\n",
    "    for item in name:\n",
    "        score.append(float(item.split('_')[1].split('.c')[0]))\n",
    "    best = np.min(score)\n",
    "    print('Initial Best Score: ', best)\n",
    "\n",
    "    i = 0\n",
    "    while True:\n",
    "        score = []\n",
    "        name = os.listdir(DIR)\n",
    "        for item in name:\n",
    "            score.append(float(item.split('_')[1].split('.c')[0]))\n",
    "        if np.min(score) < best:\n",
    "            i += 1\n",
    "            best = np.min(score)\n",
    "            print(f'New Score: {best}')\n",
    "            print('-'*40)\n",
    "            sendattachmail(sender_address='xxxx@gmail.com', \n",
    "                           sender_pass='12345678', \n",
    "                           receiver_mails=['xxxx@gmail.com', 'xxxx@gmail.com'], \n",
    "                           content=str(best), \n",
    "                           file_dir=DIR, \n",
    "                           num=i)\n",
    "        time.sleep(300) # check every 5 minutes"
   ]
  }
 ],
 "metadata": {
  "kernelspec": {
   "display_name": "Python 3",
   "language": "python",
   "name": "python3"
  },
  "language_info": {
   "codemirror_mode": {
    "name": "ipython",
    "version": 3
   },
   "file_extension": ".py",
   "mimetype": "text/x-python",
   "name": "python",
   "nbconvert_exporter": "python",
   "pygments_lexer": "ipython3",
   "version": "3.6.6"
  }
 },
 "nbformat": 4,
 "nbformat_minor": 1
}
