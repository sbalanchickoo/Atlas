{
 "cells": [
  {
   "cell_type": "markdown",
   "metadata": {},
   "source": [
    "## Motivation\n",
    "\n",
    "Although many cost functions are more than fast enough already, I wanted to a simple pythonic version, while still being blazing fast. The results are somewhere between 23 and 24 µs.\n",
    "\n",
    "Also, I updated the cost function so it reports how many high and low days there are, instead of only out of bounds. The original function returns 4 values: family cost, accounting cost, number of days under 125 or over 300. I also show how to use closures to combine costs and penalties for out of bounds days. "
   ]
  },
  {
   "cell_type": "markdown",
   "metadata": {},
   "source": [
    "## References:\n",
    "\n",
    "- Original Kernel: https://www.kaggle.com/inversion/santa-s-2019-starter-notebook\n",
    "- First kernel that had the idea to use Numba: https://www.kaggle.com/nickel/250x-faster-cost-function-with-numba-jit\n",
    "- Another great cost function optimization: https://www.kaggle.com/sekrier/fast-scoring-using-c-52-usec\n",
    "- Original cost matrix idea: https://www.kaggle.com/paulorzp/cost-matrix-low-memory-and-fast\n",
    "- Better performance with family cost matrix idea: https://www.kaggle.com/xhlulu/santa-s-2019-300x-faster-cost-function-37-s\n",
    "- Better performance with accounting cost matrix idea: https://www.kaggle.com/xhlulu/santa-s-2019-faster-cost-function-24-s\n",
    "- Submission fle from: https://www.kaggle.com/xhlulu/santa-s-2019-stochastic-product-search"
   ]
  },
  {
   "cell_type": "code",
   "execution_count": 1,
   "metadata": {
    "_cell_guid": "b1076dfc-b9ad-4769-8c92-a6c4dae69d19",
    "_uuid": "8f2839f25d086af736a60e9eeb907d3b93b6e0e5"
   },
   "outputs": [],
   "source": [
    "import numpy as np\n",
    "import pandas as pd\n",
    "from numba import njit, prange"
   ]
  },
  {
   "cell_type": "code",
   "execution_count": 2,
   "metadata": {},
   "outputs": [
    {
     "name": "stdout",
     "output_type": "stream",
     "text": [
      "Kaggle\n"
     ]
    }
   ],
   "source": [
    "dir_c = !ls -a\n",
    "dir_c = list(dir_c)\n",
    "if 'kernel-metadata.json' in dir_c:\n",
    "    src_local = True\n",
    "    print('Local')\n",
    "else:\n",
    "    src_local = False\n",
    "    print('Kaggle')\n",
    "\n",
    "if src_local:\n",
    "    data_folder = '../../../data/santa-workshop-tour-2019/'\n",
    "else:\n",
    "    data_folder = '../input/santa-2019-workshop-scheduling/'"
   ]
  },
  {
   "cell_type": "code",
   "execution_count": 2,
   "metadata": {
    "_cell_guid": "79c7e3d0-c299-4dcb-8224-4455121ee9b0",
    "_uuid": "d629ff2d2480ee46fbb7e2d37f6b5fab8052498a"
   },
   "outputs": [],
   "source": [
    "data = pd.read_csv('/kaggle/input/santa-workshop-tour-2019/family_data.csv', index_col='family_id')\n",
    "prediction = pd.read_csv(\"/kaggle/input/santa-s-2019-stochastic-product-search/submission.csv\", index_col='family_id').assigned_day.values\n",
    "family_size = data.n_people.values.astype(np.int8)"
   ]
  },
  {
   "cell_type": "code",
   "execution_count": 3,
   "metadata": {},
   "outputs": [],
   "source": [
    "penalties = np.asarray([\n",
    "    [\n",
    "        0,\n",
    "        50,\n",
    "        50 + 9 * n,\n",
    "        100 + 9 * n,\n",
    "        200 + 9 * n,\n",
    "        200 + 18 * n,\n",
    "        300 + 18 * n,\n",
    "        300 + 36 * n,\n",
    "        400 + 36 * n,\n",
    "        500 + 36 * n + 199 * n,\n",
    "        500 + 36 * n + 398 * n\n",
    "    ] for n in range(family_size.max() + 1)\n",
    "])\n",
    "family_cost_matrix = np.concatenate(data.n_people.apply(lambda n: np.repeat(penalties[n, 10], 100).reshape(1, 100)))\n",
    "for fam in data.index:\n",
    "    for choice_order, day in enumerate(data.loc[fam].drop(\"n_people\")):\n",
    "        family_cost_matrix[fam, day - 1] = penalties[data.loc[fam, \"n_people\"], choice_order]"
   ]
  },
  {
   "cell_type": "code",
   "execution_count": 4,
   "metadata": {},
   "outputs": [],
   "source": [
    "accounting_cost_matrix = np.zeros((500, 500))\n",
    "for n in range(accounting_cost_matrix.shape[0]):\n",
    "    for diff in range(accounting_cost_matrix.shape[1]):\n",
    "        accounting_cost_matrix[n, diff] = max(0, (n - 125.0) / 400.0 * n**(0.5 + diff / 50.0))\n"
   ]
  },
  {
   "cell_type": "code",
   "execution_count": 5,
   "metadata": {},
   "outputs": [],
   "source": [
    "@njit(fastmath=True)\n",
    "def cost_function(prediction, family_size, family_cost_matrix, accounting_cost_matrix):\n",
    "    N_DAYS = family_cost_matrix.shape[1]\n",
    "    MAX_OCCUPANCY = 300\n",
    "    MIN_OCCUPANCY = 125\n",
    "    penalty = 0\n",
    "    daily_occupancy = np.zeros(N_DAYS + 1, dtype=np.int16)\n",
    "    for i, (pred, n) in enumerate(zip(prediction, family_size)):\n",
    "        daily_occupancy[pred - 1] += n\n",
    "        penalty += family_cost_matrix[i, pred - 1]\n",
    "\n",
    "    accounting_cost = 0\n",
    "    n_low = 0\n",
    "    n_high = 0\n",
    "    daily_occupancy[-1] = daily_occupancy[-2]\n",
    "    for day in range(N_DAYS):\n",
    "        n_next = daily_occupancy[day + 1]\n",
    "        n = daily_occupancy[day]\n",
    "        n_high += (n > MAX_OCCUPANCY) \n",
    "        n_low += (n < MIN_OCCUPANCY)\n",
    "        diff = abs(n - n_next)\n",
    "        accounting_cost += accounting_cost_matrix[n, diff]\n",
    "\n",
    "    return np.asarray([penalty, accounting_cost, n_low, n_high])"
   ]
  },
  {
   "cell_type": "code",
   "execution_count": 6,
   "metadata": {},
   "outputs": [],
   "source": [
    "family_size = family_size.astype(np.int16)"
   ]
  },
  {
   "cell_type": "code",
   "execution_count": 7,
   "metadata": {},
   "outputs": [
    {
     "data": {
      "text/plain": [
       "array([71340.        ,  5906.77453972,     0.        ,     0.        ])"
      ]
     },
     "execution_count": 7,
     "metadata": {},
     "output_type": "execute_result"
    }
   ],
   "source": [
    "cost_function(prediction, family_size, family_cost_matrix, accounting_cost_matrix)"
   ]
  },
  {
   "cell_type": "code",
   "execution_count": 8,
   "metadata": {},
   "outputs": [
    {
     "name": "stdout",
     "output_type": "stream",
     "text": [
      "23.5 µs ± 267 ns per loop (mean ± std. dev. of 7 runs, 10000 loops each)\n"
     ]
    }
   ],
   "source": [
    "%timeit cost_function(prediction, family_size, family_cost_matrix, accounting_cost_matrix)"
   ]
  },
  {
   "cell_type": "code",
   "execution_count": 9,
   "metadata": {},
   "outputs": [
    {
     "data": {
      "text/plain": [
       "77246.7745397196"
      ]
     },
     "execution_count": 9,
     "metadata": {},
     "output_type": "execute_result"
    }
   ],
   "source": [
    "def get_cost_consolidated(prediction): \n",
    "    fc, ac, l, h = cost_function(prediction, family_size, family_cost_matrix, accounting_cost_matrix)\n",
    "    return (fc + ac) + (l + h) * 1000000\n",
    "\n",
    "get_cost_consolidated(prediction)"
   ]
  },
  {
   "cell_type": "code",
   "execution_count": 10,
   "metadata": {},
   "outputs": [],
   "source": [
    "prediction = pd.Series(prediction, name=\"assigned_day\")\n",
    "prediction.index.name = \"family_id\"\n",
    "prediction.to_csv(\"submission.csv\", index=True, header=True)"
   ]
  }
 ],
 "metadata": {
  "kernelspec": {
   "display_name": "Python 3",
   "language": "python",
   "name": "python3"
  },
  "language_info": {
   "codemirror_mode": {
    "name": "ipython",
    "version": 3
   },
   "file_extension": ".py",
   "mimetype": "text/x-python",
   "name": "python",
   "nbconvert_exporter": "python",
   "pygments_lexer": "ipython3",
   "version": "3.7.3"
  }
 },
 "nbformat": 4,
 "nbformat_minor": 1
}
