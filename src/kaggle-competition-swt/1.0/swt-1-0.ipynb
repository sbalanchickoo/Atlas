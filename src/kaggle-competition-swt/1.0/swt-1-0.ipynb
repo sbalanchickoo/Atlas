{
 "cells": [
  {
   "cell_type": "code",
   "execution_count": 259,
   "metadata": {},
   "outputs": [],
   "source": [
    "import numpy as np, pandas as pd, seaborn as sns, time, matplotlib.pyplot as plt, copy\n",
    "from numba import njit, prange\n",
    "%matplotlib inline"
   ]
  },
  {
   "cell_type": "code",
   "execution_count": 260,
   "metadata": {},
   "outputs": [
    {
     "name": "stdout",
     "output_type": "stream",
     "text": [
      "Local\n"
     ]
    }
   ],
   "source": [
    "dir_linux = !ls -a\n",
    "dir_win = !dir /b\n",
    "dir_all = list(dir_linux) + list(dir_win)\n",
    "if 'kernel-metadata.json' in dir_all:\n",
    "    src_local = True\n",
    "    print('Local')\n",
    "else:\n",
    "    src_local = False\n",
    "    print('Kaggle')\n",
    "\n",
    "if src_local:\n",
    "    data_folder = '../../../data/santa-workshop-tour-2019/'\n",
    "else:\n",
    "    data_folder = '../input/santa-2019-workshop-scheduling/'"
   ]
  },
  {
   "cell_type": "code",
   "execution_count": 261,
   "metadata": {},
   "outputs": [
    {
     "name": "stdout",
     "output_type": "stream",
     "text": [
      "../../../data/santa-workshop-tour-2019/family_data.csv\n",
      "../../../data/santa-workshop-tour-2019/sample_submission.csv\n"
     ]
    }
   ],
   "source": [
    "# Input data files are available in the \"../input/\" directory.\n",
    "# For example, running this (by clicking run or pressing Shift+Enter) will list all files under the input directory\n",
    "\n",
    "import os\n",
    "for dirname, _, filenames in os.walk(data_folder):\n",
    "    for filename in filenames:\n",
    "        print(os.path.join(dirname, filename))"
   ]
  },
  {
   "cell_type": "code",
   "execution_count": 262,
   "metadata": {},
   "outputs": [],
   "source": [
    "step_1 = True\n",
    "step_2 = True\n",
    "step_3 = True\n",
    "step_4 = True\n",
    "step_5 = False\n",
    "step_99 = False"
   ]
  },
  {
   "cell_type": "code",
   "execution_count": 263,
   "metadata": {},
   "outputs": [],
   "source": [
    "fpath = data_folder + 'family_data.csv'\n",
    "df = pd.read_csv(fpath, index_col='family_id')\n",
    "\n",
    "fpath = data_folder + 'sample_submission.csv'\n",
    "submission = pd.read_csv(fpath, index_col='family_id')"
   ]
  },
  {
   "cell_type": "code",
   "execution_count": 264,
   "metadata": {},
   "outputs": [],
   "source": [
    "N_DAYS = 100\n",
    "MAX_OCCUPANCY = 300\n",
    "MIN_OCCUPANCY = 125\n",
    "OPTIMAL_OCCUPANCY = 210\n",
    "OPTIMAL_OCCUPANCY_MIN = 205\n",
    "OPTIMAL_OCCUPANCY_MAX = 215"
   ]
  },
  {
   "cell_type": "code",
   "execution_count": 311,
   "metadata": {},
   "outputs": [],
   "source": [
    "def get_day_counts(day):\n",
    "    return family_day_assign[family_day_assign['choice_day']==day]['people'].sum()"
   ]
  },
  {
   "cell_type": "code",
   "execution_count": 312,
   "metadata": {},
   "outputs": [],
   "source": [
    "family_cost_matrix = pd.DataFrame()\n",
    "choice_list = [choice for choice in range(0,11)]\n",
    "for n in df['n_people'].unique():\n",
    "    penalties = [\n",
    "        0,\n",
    "        50,\n",
    "        50 + 9 * n,\n",
    "        100 + 9 * n,\n",
    "        200 + 9 * n,\n",
    "        200 + 18 * n,\n",
    "        300 + 18 * n,\n",
    "        300 + 36 * n,\n",
    "        400 + 36 * n,\n",
    "        500 + 36 * n + 199 * n,\n",
    "        500 + 36 * n + 398 * n\n",
    "    ]\n",
    "    people_list = [n for p in choice_list]\n",
    "    cost_dict = [{'people': n, 'choice': choice_list[x], 'penalty': penalties[x]} for x in choice_list]\n",
    "    df_cost = pd.DataFrame(cost_dict, columns=['people', 'choice', 'penalty'])\n",
    "    family_cost_matrix = pd.concat([family_cost_matrix, df_cost])\n",
    "family_cost_matrix = family_cost_matrix.reset_index(drop=True)"
   ]
  },
  {
   "cell_type": "code",
   "execution_count": 313,
   "metadata": {},
   "outputs": [],
   "source": [
    "def get_family_cost():\n",
    "    day_counts = calc_day_counts()\n",
    "    cost = family_day_assign.merge(family_cost_matrix\n",
    "                                      , left_on=['people', 'choice_number']\n",
    "                                      , right_on=['people', 'choice'])['penalty'].sum()\n",
    "    return cost"
   ]
  },
  {
   "cell_type": "code",
   "execution_count": 314,
   "metadata": {},
   "outputs": [],
   "source": [
    "def get_accounting_cost(count, diff):\n",
    "    cost = max(0, (count-125.0) / 400.0 * count**(0.5 + diff / 50.0))\n",
    "    return cost"
   ]
  },
  {
   "cell_type": "code",
   "execution_count": 315,
   "metadata": {},
   "outputs": [],
   "source": [
    "# Calculate the accounting cost\n",
    "# The first day (day 100) is treated special\n",
    "def get_total_accounting_cost():\n",
    "    day_counts = calc_day_counts()\n",
    "    day_counts_dict = day_counts.to_dict()['people']\n",
    "    \n",
    "    today_count = day_counts_dict[100]\n",
    "    if today_count >= MIN_OCCUPANCY and today_count <= MAX_OCCUPANCY:\n",
    "        accounting_cost = (today_count-125.0) / 400.0 * today_count**(0.5)\n",
    "    else:\n",
    "        accounting_cost = 0\n",
    "    \n",
    "    today = 99\n",
    "    yesterday = 100\n",
    "    yesterday_count = day_counts_dict[yesterday]\n",
    "    accounting_cost = 0\n",
    "    for today in range(99,0,-1):\n",
    "        yesterday = today + 1\n",
    "        # today_count = day_counts.iat[day, 0]\n",
    "        today_count = day_counts_dict[today]\n",
    "        diff = abs(today_count - yesterday_count)\n",
    "        if (today_count >= MIN_OCCUPANCY \n",
    "            and today_count <= MAX_OCCUPANCY \n",
    "            and yesterday_count <= MIN_OCCUPANCY \n",
    "            and yesterday_count <= MAX_OCCUPANCY):\n",
    "            accounting_cost += max(0, get_accounting_cost(today_count, diff))\n",
    "        yesterday_count = today_count\n",
    "    return accounting_cost"
   ]
  },
  {
   "cell_type": "code",
   "execution_count": 316,
   "metadata": {},
   "outputs": [],
   "source": [
    "def calc_day_counts():\n",
    "    day_counts = pd.DataFrame([], columns=['day', 'people'])\n",
    "    for day in range(1, 101):\n",
    "        count = family_day_assign[family_day_assign['choice_day']==day]['people'].sum()\n",
    "        count_row = pd.DataFrame([{'day': day\n",
    "                               , 'people': count}])\n",
    "        day_counts = day_counts.append(count_row, sort=False)\n",
    "    day_counts = day_counts.set_index('day')\n",
    "    return day_counts"
   ]
  },
  {
   "cell_type": "code",
   "execution_count": 317,
   "metadata": {},
   "outputs": [],
   "source": [
    "def get_day_costs():\n",
    "    day_counts = calc_day_counts()\n",
    "    cost = 0\n",
    "    for day in range(1, 101):\n",
    "        count = day_counts.at[day, 'people']\n",
    "        if count > MAX_OCCUPANCY:\n",
    "            cost = 100000000\n",
    "            break\n",
    "        if count < MIN_OCCUPANCY:\n",
    "            cost = 100000000\n",
    "            break\n",
    "    return cost"
   ]
  },
  {
   "cell_type": "code",
   "execution_count": 318,
   "metadata": {},
   "outputs": [],
   "source": [
    "def get_total_costs():\n",
    "    family_cost = get_family_cost()\n",
    "    accounting_cost = get_total_accounting_cost()\n",
    "    day_cost = get_day_costs()\n",
    "    cost = family_cost + accounting_cost + day_cost\n",
    "    return cost"
   ]
  },
  {
   "cell_type": "code",
   "execution_count": 319,
   "metadata": {},
   "outputs": [
    {
     "data": {
      "text/plain": [
       "<Figure size 432x288 with 0 Axes>"
      ]
     },
     "metadata": {},
     "output_type": "display_data"
    },
    {
     "data": {
      "image/png": "[encoded data removed]",
      "text/plain": [
       "<Figure size 1440x720 with 1 Axes>"
      ]
     },
     "metadata": {
      "needs_background": "light"
     },
     "output_type": "display_data"
    }
   ],
   "source": [
    "costs = []\n",
    "counts = [c for c in range(150,301)]\n",
    "for c in counts:\n",
    "    for d in range(0, max(300-c, c-150)+1):\n",
    "        cost = get_accounting_cost(c,d)\n",
    "        cost_entry = {'count': c, 'diff': d, 'cost': cost}\n",
    "        costs.append(cost_entry)\n",
    "\n",
    "        \n",
    "fig = plt.figure()\n",
    "plt.figure(figsize=(20,10))\n",
    "for count in range(150,160):\n",
    "    diffs=[cost_row['diff'] for cost_row in costs if (cost_row['count']==count and cost_row['cost']<10000)]\n",
    "    c=[cost_row['cost'] for cost_row in costs if (cost_row['count']==count and cost_row['cost']<10000)]\n",
    "    ax = sns.lineplot(x=diffs, y=c)\n",
    "    plt.legend(counts)\n",
    "plt.xlabel('Diff')\n",
    "plt.ylabel('Cost')\n",
    "plt.xticks(range(0, 155, 5))\n",
    "plt.yticks(range(0, 10500, 500))\n",
    "plt.grid(axis='both')\n",
    "plt.show()"
   ]
  },
  {
   "cell_type": "code",
   "execution_count": 320,
   "metadata": {},
   "outputs": [],
   "source": [
    "choices = list(df.columns)\n",
    "choice_numbers = []\n",
    "for col in choices:\n",
    "    if col[0:7] != 'choice_':\n",
    "        choices.remove(col)\n",
    "for choice in choices:\n",
    "    choice_numbers.append(int(choice[7:]))"
   ]
  },
  {
   "cell_type": "code",
   "execution_count": 321,
   "metadata": {},
   "outputs": [
    {
     "name": "stdout",
     "output_type": "stream",
     "text": [
      "Start\n"
     ]
    }
   ],
   "source": [
    "family_day_assign = pd.DataFrame([], columns=['family', 'choice_number', 'choice_day', 'people'])\n",
    "t_elapsed = 0\n",
    "print('Start')"
   ]
  },
  {
   "cell_type": "code",
   "execution_count": 322,
   "metadata": {},
   "outputs": [],
   "source": [
    "# Starting with choice 0, assign day to families if occupancy is within optimal_occupancy. iterate through choice_numbers\n",
    "if step_1:\n",
    "    t_start = time.perf_counter()\n",
    "    for choice_number in choice_numbers:\n",
    "        choice = 'choice_' + str(choice_number)\n",
    "        for family in df.sort_values(by=['n_people'], ascending=False).index:\n",
    "            if family not in list(family_day_assign['family']):\n",
    "                assigned = False\n",
    "                people = df.at[family, 'n_people']\n",
    "                if not assigned:\n",
    "                    choice_day = int(df.at[family, choice])\n",
    "                    new_count = get_day_counts(choice_day) + people\n",
    "                    if (new_count <= OPTIMAL_OCCUPANCY):\n",
    "                        assign = pd.DataFrame([{'family': family\n",
    "                                                , 'choice_number': choice_number\n",
    "                                                , 'choice_day': choice_day\n",
    "                                                , 'people': people}])\n",
    "                        family_day_assign = family_day_assign.append(assign, sort=False)\n",
    "                        assigned = True\n",
    "    if 'family' in family_day_assign.columns:\n",
    "        family_day_assign.set_index('family', inplace=True, drop=False)\n",
    "    t_stop = time.perf_counter()\n",
    "    t_elapsed += t_stop-t_start"
   ]
  },
  {
   "cell_type": "code",
   "execution_count": 323,
   "metadata": {},
   "outputs": [],
   "source": [
    "# If no choice available, start assigning to meet optimal occupancy\n",
    "if step_2:\n",
    "    t_start = time.perf_counter()\n",
    "    for family in df.sort_values(by=['n_people'], ascending=False).index:\n",
    "        if family not in list(family_day_assign.index):\n",
    "            assigned = False\n",
    "            people = df.at[family, 'n_people']\n",
    "            for day in range(100, 0, -1):\n",
    "                if not assigned:\n",
    "                    new_count = get_day_counts(day) + people\n",
    "                    if new_count <= OPTIMAL_OCCUPANCY:\n",
    "                        assign = pd.DataFrame([{'family': family\n",
    "                                                , 'choice_number': 10\n",
    "                                                , 'choice_day': day\n",
    "                                                , 'people': people}])\n",
    "                        family_day_assign = family_day_assign.append(assign, sort=False)\n",
    "                        assigned = True\n",
    "    if 'family' in family_day_assign.columns:\n",
    "        family_day_assign.set_index('family', inplace=True, drop=False)\n",
    "    t_stop = time.perf_counter()\n",
    "    t_elapsed += t_stop-t_start"
   ]
  },
  {
   "cell_type": "code",
   "execution_count": 324,
   "metadata": {},
   "outputs": [],
   "source": [
    "# Assign any small outliers\n",
    "if step_3:\n",
    "    t_start = time.perf_counter()\n",
    "    for family in df.sort_values(by=['n_people'], ascending=False).index:\n",
    "        if family not in list(family_day_assign.index):\n",
    "            assigned = False\n",
    "            people = df.at[family, 'n_people']\n",
    "            for day in range(100, 0, -1):\n",
    "                if not assigned:\n",
    "                    new_count = get_day_counts(day) + people\n",
    "                    OPTIMAL_OCCUPANCY_UPPER = OPTIMAL_OCCUPANCY + 4\n",
    "                    if new_count <= OPTIMAL_OCCUPANCY_UPPER:\n",
    "                        assign = pd.DataFrame([{'family': family\n",
    "                                                , 'choice_number': 10\n",
    "                                                , 'choice_day': day\n",
    "                                                , 'people': people}])\n",
    "                        family_day_assign = family_day_assign.append(assign, sort=False)\n",
    "                        assigned = True\n",
    "    if 'family' in family_day_assign.columns:\n",
    "        family_day_assign.set_index('family', inplace=True, drop=False)\n",
    "    t_stop = time.perf_counter()\n",
    "    t_elapsed += t_stop-t_start"
   ]
  },
  {
   "cell_type": "code",
   "execution_count": 325,
   "metadata": {},
   "outputs": [],
   "source": [
    "family_day_assign_base = copy.deepcopy(family_day_assign)"
   ]
  },
  {
   "cell_type": "code",
   "execution_count": 297,
   "metadata": {},
   "outputs": [],
   "source": [
    "# family_day_assign = copy.deepcopy(family_day_assign_base)"
   ]
  },
  {
   "cell_type": "code",
   "execution_count": 168,
   "metadata": {},
   "outputs": [],
   "source": [
    "# family_row = family_day_assign.at[1019, 'choice_number']\n",
    "# family_row"
   ]
  },
  {
   "cell_type": "code",
   "execution_count": 169,
   "metadata": {},
   "outputs": [],
   "source": [
    "# assigned_choice_number = int(family_row['choice_number'])\n",
    "# assigned_choice_number "
   ]
  },
  {
   "cell_type": "code",
   "execution_count": 326,
   "metadata": {},
   "outputs": [
    {
     "data": {
      "text/html": [
       "<div>\n",
       "<style scoped>\n",
       "    .dataframe tbody tr th:only-of-type {\n",
       "        vertical-align: middle;\n",
       "    }\n",
       "\n",
       "    .dataframe tbody tr th {\n",
       "        vertical-align: top;\n",
       "    }\n",
       "\n",
       "    .dataframe thead th {\n",
       "        text-align: right;\n",
       "    }\n",
       "</style>\n",
       "<table border=\"1\" class=\"dataframe\">\n",
       "  <thead>\n",
       "    <tr style=\"text-align: right;\">\n",
       "      <th></th>\n",
       "      <th>family</th>\n",
       "      <th>choice_number</th>\n",
       "      <th>choice_day</th>\n",
       "      <th>people</th>\n",
       "    </tr>\n",
       "    <tr>\n",
       "      <th>family</th>\n",
       "      <th></th>\n",
       "      <th></th>\n",
       "      <th></th>\n",
       "      <th></th>\n",
       "    </tr>\n",
       "  </thead>\n",
       "  <tbody>\n",
       "    <tr>\n",
       "      <th>1840</th>\n",
       "      <td>1840</td>\n",
       "      <td>0</td>\n",
       "      <td>7</td>\n",
       "      <td>8</td>\n",
       "    </tr>\n",
       "    <tr>\n",
       "      <th>2680</th>\n",
       "      <td>2680</td>\n",
       "      <td>0</td>\n",
       "      <td>67</td>\n",
       "      <td>8</td>\n",
       "    </tr>\n",
       "    <tr>\n",
       "      <th>504</th>\n",
       "      <td>504</td>\n",
       "      <td>0</td>\n",
       "      <td>1</td>\n",
       "      <td>8</td>\n",
       "    </tr>\n",
       "    <tr>\n",
       "      <th>1822</th>\n",
       "      <td>1822</td>\n",
       "      <td>0</td>\n",
       "      <td>10</td>\n",
       "      <td>8</td>\n",
       "    </tr>\n",
       "    <tr>\n",
       "      <th>896</th>\n",
       "      <td>896</td>\n",
       "      <td>0</td>\n",
       "      <td>29</td>\n",
       "      <td>8</td>\n",
       "    </tr>\n",
       "  </tbody>\n",
       "</table>\n",
       "</div>"
      ],
      "text/plain": [
       "       family choice_number choice_day people\n",
       "family                                       \n",
       "1840     1840             0          7      8\n",
       "2680     2680             0         67      8\n",
       "504       504             0          1      8\n",
       "1822     1822             0         10      8\n",
       "896       896             0         29      8"
      ]
     },
     "execution_count": 326,
     "metadata": {},
     "output_type": "execute_result"
    }
   ],
   "source": [
    "family_day_assign.head()"
   ]
  },
  {
   "cell_type": "code",
   "execution_count": 171,
   "metadata": {},
   "outputs": [],
   "source": [
    "# family_day_assign.at[1019, 'choice_number'] = 4"
   ]
  },
  {
   "cell_type": "code",
   "execution_count": 329,
   "metadata": {},
   "outputs": [
    {
     "ename": "KeyboardInterrupt",
     "evalue": "",
     "output_type": "error",
     "traceback": [
      "\u001b[1;31m---------------------------------------------------------------------------\u001b[0m",
      "\u001b[1;31mKeyboardInterrupt\u001b[0m                         Traceback (most recent call last)",
      "\u001b[1;32m<ipython-input-329-88088403ab89>\u001b[0m in \u001b[0;36m<module>\u001b[1;34m\u001b[0m\n\u001b[0;32m     25\u001b[0m \u001b[1;33m\u001b[0m\u001b[0m\n\u001b[0;32m     26\u001b[0m                 \u001b[1;31m# new cost\u001b[0m\u001b[1;33m\u001b[0m\u001b[1;33m\u001b[0m\u001b[1;33m\u001b[0m\u001b[0m\n\u001b[1;32m---> 27\u001b[1;33m                 \u001b[0mnew_cost\u001b[0m \u001b[1;33m=\u001b[0m \u001b[0mget_total_costs\u001b[0m\u001b[1;33m(\u001b[0m\u001b[1;33m)\u001b[0m\u001b[1;33m\u001b[0m\u001b[1;33m\u001b[0m\u001b[0m\n\u001b[0m\u001b[0;32m     28\u001b[0m \u001b[1;33m\u001b[0m\u001b[0m\n\u001b[0;32m     29\u001b[0m                 \u001b[1;32mif\u001b[0m \u001b[0mnew_cost\u001b[0m \u001b[1;33m>=\u001b[0m \u001b[0morig_cost\u001b[0m\u001b[1;33m:\u001b[0m\u001b[1;33m\u001b[0m\u001b[1;33m\u001b[0m\u001b[0m\n",
      "\u001b[1;32m<ipython-input-318-b28536f2e4ea>\u001b[0m in \u001b[0;36mget_total_costs\u001b[1;34m()\u001b[0m\n\u001b[0;32m      1\u001b[0m \u001b[1;32mdef\u001b[0m \u001b[0mget_total_costs\u001b[0m\u001b[1;33m(\u001b[0m\u001b[1;33m)\u001b[0m\u001b[1;33m:\u001b[0m\u001b[1;33m\u001b[0m\u001b[1;33m\u001b[0m\u001b[0m\n\u001b[0;32m      2\u001b[0m     \u001b[0mfamily_cost\u001b[0m \u001b[1;33m=\u001b[0m \u001b[0mget_family_cost\u001b[0m\u001b[1;33m(\u001b[0m\u001b[1;33m)\u001b[0m\u001b[1;33m\u001b[0m\u001b[1;33m\u001b[0m\u001b[0m\n\u001b[1;32m----> 3\u001b[1;33m     \u001b[0maccounting_cost\u001b[0m \u001b[1;33m=\u001b[0m \u001b[0mget_total_accounting_cost\u001b[0m\u001b[1;33m(\u001b[0m\u001b[1;33m)\u001b[0m\u001b[1;33m\u001b[0m\u001b[1;33m\u001b[0m\u001b[0m\n\u001b[0m\u001b[0;32m      4\u001b[0m     \u001b[0mday_cost\u001b[0m \u001b[1;33m=\u001b[0m \u001b[0mget_day_costs\u001b[0m\u001b[1;33m(\u001b[0m\u001b[1;33m)\u001b[0m\u001b[1;33m\u001b[0m\u001b[1;33m\u001b[0m\u001b[0m\n\u001b[0;32m      5\u001b[0m     \u001b[0mcost\u001b[0m \u001b[1;33m=\u001b[0m \u001b[0mfamily_cost\u001b[0m \u001b[1;33m+\u001b[0m \u001b[0maccounting_cost\u001b[0m \u001b[1;33m+\u001b[0m \u001b[0mday_cost\u001b[0m\u001b[1;33m\u001b[0m\u001b[1;33m\u001b[0m\u001b[0m\n",
      "\u001b[1;32m<ipython-input-315-e8407c1bf297>\u001b[0m in \u001b[0;36mget_total_accounting_cost\u001b[1;34m()\u001b[0m\n\u001b[0;32m      2\u001b[0m \u001b[1;31m# The first day (day 100) is treated special\u001b[0m\u001b[1;33m\u001b[0m\u001b[1;33m\u001b[0m\u001b[1;33m\u001b[0m\u001b[0m\n\u001b[0;32m      3\u001b[0m \u001b[1;32mdef\u001b[0m \u001b[0mget_total_accounting_cost\u001b[0m\u001b[1;33m(\u001b[0m\u001b[1;33m)\u001b[0m\u001b[1;33m:\u001b[0m\u001b[1;33m\u001b[0m\u001b[1;33m\u001b[0m\u001b[0m\n\u001b[1;32m----> 4\u001b[1;33m     \u001b[0mday_counts\u001b[0m \u001b[1;33m=\u001b[0m \u001b[0mcalc_day_counts\u001b[0m\u001b[1;33m(\u001b[0m\u001b[1;33m)\u001b[0m\u001b[1;33m\u001b[0m\u001b[1;33m\u001b[0m\u001b[0m\n\u001b[0m\u001b[0;32m      5\u001b[0m     \u001b[0mday_counts_dict\u001b[0m \u001b[1;33m=\u001b[0m \u001b[0mday_counts\u001b[0m\u001b[1;33m.\u001b[0m\u001b[0mto_dict\u001b[0m\u001b[1;33m(\u001b[0m\u001b[1;33m)\u001b[0m\u001b[1;33m[\u001b[0m\u001b[1;34m'people'\u001b[0m\u001b[1;33m]\u001b[0m\u001b[1;33m\u001b[0m\u001b[1;33m\u001b[0m\u001b[0m\n\u001b[0;32m      6\u001b[0m \u001b[1;33m\u001b[0m\u001b[0m\n",
      "\u001b[1;32m<ipython-input-316-7bbaa336da09>\u001b[0m in \u001b[0;36mcalc_day_counts\u001b[1;34m()\u001b[0m\n\u001b[0;32m      4\u001b[0m         \u001b[0mcount\u001b[0m \u001b[1;33m=\u001b[0m \u001b[0mfamily_day_assign\u001b[0m\u001b[1;33m[\u001b[0m\u001b[0mfamily_day_assign\u001b[0m\u001b[1;33m[\u001b[0m\u001b[1;34m'choice_day'\u001b[0m\u001b[1;33m]\u001b[0m\u001b[1;33m==\u001b[0m\u001b[0mday\u001b[0m\u001b[1;33m]\u001b[0m\u001b[1;33m[\u001b[0m\u001b[1;34m'people'\u001b[0m\u001b[1;33m]\u001b[0m\u001b[1;33m.\u001b[0m\u001b[0msum\u001b[0m\u001b[1;33m(\u001b[0m\u001b[1;33m)\u001b[0m\u001b[1;33m\u001b[0m\u001b[1;33m\u001b[0m\u001b[0m\n\u001b[0;32m      5\u001b[0m         count_row = pd.DataFrame([{'day': day\n\u001b[1;32m----> 6\u001b[1;33m                                , 'people': count}])\n\u001b[0m\u001b[0;32m      7\u001b[0m         \u001b[0mday_counts\u001b[0m \u001b[1;33m=\u001b[0m \u001b[0mday_counts\u001b[0m\u001b[1;33m.\u001b[0m\u001b[0mappend\u001b[0m\u001b[1;33m(\u001b[0m\u001b[0mcount_row\u001b[0m\u001b[1;33m,\u001b[0m \u001b[0msort\u001b[0m\u001b[1;33m=\u001b[0m\u001b[1;32mFalse\u001b[0m\u001b[1;33m)\u001b[0m\u001b[1;33m\u001b[0m\u001b[1;33m\u001b[0m\u001b[0m\n\u001b[0;32m      8\u001b[0m     \u001b[0mday_counts\u001b[0m \u001b[1;33m=\u001b[0m \u001b[0mday_counts\u001b[0m\u001b[1;33m.\u001b[0m\u001b[0mset_index\u001b[0m\u001b[1;33m(\u001b[0m\u001b[1;34m'day'\u001b[0m\u001b[1;33m)\u001b[0m\u001b[1;33m\u001b[0m\u001b[1;33m\u001b[0m\u001b[0m\n",
      "\u001b[1;32mC:\\ProgramData\\Anaconda3\\lib\\site-packages\\pandas\\core\\frame.py\u001b[0m in \u001b[0;36m__init__\u001b[1;34m(self, data, index, columns, dtype, copy)\u001b[0m\n\u001b[0;32m    434\u001b[0m                         \u001b[0mcolumns\u001b[0m \u001b[1;33m=\u001b[0m \u001b[0mdata\u001b[0m\u001b[1;33m[\u001b[0m\u001b[1;36m0\u001b[0m\u001b[1;33m]\u001b[0m\u001b[1;33m.\u001b[0m\u001b[0m_fields\u001b[0m\u001b[1;33m\u001b[0m\u001b[1;33m\u001b[0m\u001b[0m\n\u001b[0;32m    435\u001b[0m                     \u001b[0marrays\u001b[0m\u001b[1;33m,\u001b[0m \u001b[0mcolumns\u001b[0m \u001b[1;33m=\u001b[0m \u001b[0mto_arrays\u001b[0m\u001b[1;33m(\u001b[0m\u001b[0mdata\u001b[0m\u001b[1;33m,\u001b[0m \u001b[0mcolumns\u001b[0m\u001b[1;33m,\u001b[0m \u001b[0mdtype\u001b[0m\u001b[1;33m=\u001b[0m\u001b[0mdtype\u001b[0m\u001b[1;33m)\u001b[0m\u001b[1;33m\u001b[0m\u001b[1;33m\u001b[0m\u001b[0m\n\u001b[1;32m--> 436\u001b[1;33m                     \u001b[0mcolumns\u001b[0m \u001b[1;33m=\u001b[0m \u001b[0mensure_index\u001b[0m\u001b[1;33m(\u001b[0m\u001b[0mcolumns\u001b[0m\u001b[1;33m)\u001b[0m\u001b[1;33m\u001b[0m\u001b[1;33m\u001b[0m\u001b[0m\n\u001b[0m\u001b[0;32m    437\u001b[0m \u001b[1;33m\u001b[0m\u001b[0m\n\u001b[0;32m    438\u001b[0m                     \u001b[1;31m# set the index\u001b[0m\u001b[1;33m\u001b[0m\u001b[1;33m\u001b[0m\u001b[1;33m\u001b[0m\u001b[0m\n",
      "\u001b[1;32mC:\\ProgramData\\Anaconda3\\lib\\site-packages\\pandas\\core\\indexes\\base.py\u001b[0m in \u001b[0;36mensure_index\u001b[1;34m(index_like, copy)\u001b[0m\n\u001b[0;32m   5362\u001b[0m             \u001b[0mindex_like\u001b[0m \u001b[1;33m=\u001b[0m \u001b[0mlist\u001b[0m\u001b[1;33m(\u001b[0m\u001b[0mindex_like\u001b[0m\u001b[1;33m)\u001b[0m\u001b[1;33m\u001b[0m\u001b[1;33m\u001b[0m\u001b[0m\n\u001b[0;32m   5363\u001b[0m \u001b[1;33m\u001b[0m\u001b[0m\n\u001b[1;32m-> 5364\u001b[1;33m         \u001b[0mconverted\u001b[0m\u001b[1;33m,\u001b[0m \u001b[0mall_arrays\u001b[0m \u001b[1;33m=\u001b[0m \u001b[0mlib\u001b[0m\u001b[1;33m.\u001b[0m\u001b[0mclean_index_list\u001b[0m\u001b[1;33m(\u001b[0m\u001b[0mindex_like\u001b[0m\u001b[1;33m)\u001b[0m\u001b[1;33m\u001b[0m\u001b[1;33m\u001b[0m\u001b[0m\n\u001b[0m\u001b[0;32m   5365\u001b[0m \u001b[1;33m\u001b[0m\u001b[0m\n\u001b[0;32m   5366\u001b[0m         \u001b[1;32mif\u001b[0m \u001b[0mlen\u001b[0m\u001b[1;33m(\u001b[0m\u001b[0mconverted\u001b[0m\u001b[1;33m)\u001b[0m \u001b[1;33m>\u001b[0m \u001b[1;36m0\u001b[0m \u001b[1;32mand\u001b[0m \u001b[0mall_arrays\u001b[0m\u001b[1;33m:\u001b[0m\u001b[1;33m\u001b[0m\u001b[1;33m\u001b[0m\u001b[0m\n",
      "\u001b[1;32mpandas/_libs/lib.pyx\u001b[0m in \u001b[0;36mpandas._libs.lib.clean_index_list\u001b[1;34m()\u001b[0m\n",
      "\u001b[1;32mpandas/_libs/lib.pyx\u001b[0m in \u001b[0;36mpandas._libs.lib.infer_dtype\u001b[1;34m()\u001b[0m\n",
      "\u001b[1;32mC:\\ProgramData\\Anaconda3\\lib\\importlib\\_bootstrap.py\u001b[0m in \u001b[0;36m_find_and_load\u001b[1;34m(name, import_)\u001b[0m\n",
      "\u001b[1;32mC:\\ProgramData\\Anaconda3\\lib\\importlib\\_bootstrap.py\u001b[0m in \u001b[0;36m_find_and_load_unlocked\u001b[1;34m(name, import_)\u001b[0m\n",
      "\u001b[1;32mC:\\ProgramData\\Anaconda3\\lib\\importlib\\_bootstrap.py\u001b[0m in \u001b[0;36m_find_spec\u001b[1;34m(name, path, target)\u001b[0m\n",
      "\u001b[1;32mC:\\ProgramData\\Anaconda3\\lib\\importlib\\_bootstrap_external.py\u001b[0m in \u001b[0;36mfind_spec\u001b[1;34m(cls, fullname, path, target)\u001b[0m\n",
      "\u001b[1;32mC:\\ProgramData\\Anaconda3\\lib\\importlib\\_bootstrap_external.py\u001b[0m in \u001b[0;36m_get_spec\u001b[1;34m(cls, fullname, path, target)\u001b[0m\n",
      "\u001b[1;32mC:\\ProgramData\\Anaconda3\\lib\\importlib\\_bootstrap_external.py\u001b[0m in \u001b[0;36mfind_spec\u001b[1;34m(self, fullname, target)\u001b[0m\n",
      "\u001b[1;32mC:\\ProgramData\\Anaconda3\\lib\\importlib\\_bootstrap_external.py\u001b[0m in \u001b[0;36m_path_stat\u001b[1;34m(path)\u001b[0m\n",
      "\u001b[1;31mKeyboardInterrupt\u001b[0m: "
     ]
    }
   ],
   "source": [
    "# iterate through families descending by number of people, say 8\n",
    "# save cost\n",
    "# if choice_number is 10, if assigning to choice 9 will, reduce cost, while maintaining min and max counts, do it\n",
    "# move on to next family\n",
    "if step_4:\n",
    "    t_start = time.perf_counter()\n",
    "    better_choices = [a for a in range(10, 9, -1)]\n",
    "    for choice in better_choices:\n",
    "        new_choice = choice - 1\n",
    "        new_choice_str = 'choice_' + str(new_choice)\n",
    "        family_day_choice = family_day_assign.loc[family_day_assign['choice_number']==choice]\n",
    "        for family in family_day_choice.sort_values(by=['people'], ascending=False).index:\n",
    "            # initial cost\n",
    "            orig_cost = get_day_costs()\n",
    "\n",
    "            assigned_choice_number = choice\n",
    "            assigned_choice_day = family_day_assign.at[family, 'choice_day']\n",
    "            people = family_day_choice.at[family, 'people']\n",
    "            \n",
    "            if assigned_choice_number == choice:\n",
    "                new_choice_day = df.at[family, new_choice_str]\n",
    "                family_day_assign.at[family, 'choice_number'] = new_choice\n",
    "                family_day_assign.at[family, 'choice_day'] = new_choice_day\n",
    "                day_counts = calc_day_counts()\n",
    "                \n",
    "                # new cost\n",
    "                new_cost = get_total_costs()\n",
    "                \n",
    "                if new_cost >= orig_cost:\n",
    "                    family_day_assign.at[family, 'choice_number'] = assigned_choice_number\n",
    "                    family_day_assign.at[family, 'choice_day'] = assigned_choice_day\n",
    "    t_stop = time.perf_counter()\n",
    "    t_elapsed += t_stop-t_start"
   ]
  },
  {
   "cell_type": "code",
   "execution_count": null,
   "metadata": {},
   "outputs": [],
   "source": [
    "day_counts = calc_day_counts()\n",
    "unassigned_families = df.loc[[family for family in list(df.index) if family not in list(family_day_assign.index)]]\n",
    "\n",
    "over_days = []\n",
    "under_days = []\n",
    "zero_days = []\n",
    "families_assigned = family_day_assign.index\n",
    "\n",
    "for day in range(1, 101):\n",
    "    count = day_counts.at[day, 'people']\n",
    "    if count > MAX_OCCUPANCY:\n",
    "        over_days.append(day)\n",
    "    if count < MIN_OCCUPANCY:\n",
    "        under_days.append(day)\n",
    "    if count == 0:\n",
    "        zero_days.append(day)"
   ]
  },
  {
   "cell_type": "code",
   "execution_count": null,
   "metadata": {},
   "outputs": [],
   "source": [
    "print('Over days: {}'.format(len(over_days)))\n",
    "print('Under days: {}'.format(len(under_days)))\n",
    "print('Zero days: {}'.format(len(zero_days)))\n",
    "print('Families: {}'.format(len(families_assigned)))\n",
    "print('{label:<30s}: {value:.2f}'.format(\n",
    "            label='Elapsed time in minutes',\n",
    "            value=t_elapsed/60))"
   ]
  },
  {
   "cell_type": "code",
   "execution_count": 257,
   "metadata": {},
   "outputs": [
    {
     "name": "stdout",
     "output_type": "stream",
     "text": [
      "Family cost: 1,336,438\n",
      "Accounting cost: 0.4880583734785301\n",
      "Day cost: 100,000,000\n"
     ]
    }
   ],
   "source": [
    "family_cost = get_family_cost()\n",
    "accounting_cost = get_total_accounting_cost()\n",
    "day_cost = get_day_costs()\n",
    "cost = family_cost + accounting_cost + day_cost\n",
    "print('Family cost: {:,}'.format(family_cost))\n",
    "print('Accounting cost: {:,}'.format(accounting_cost))\n",
    "print('Day cost: {:,}'.format(day_cost))\n",
    "print('Total cost: {:,}'.format(total_cost))"
   ]
  },
  {
   "cell_type": "code",
   "execution_count": 214,
   "metadata": {},
   "outputs": [],
   "source": [
    "# 1,336,438"
   ]
  },
  {
   "cell_type": "code",
   "execution_count": 295,
   "metadata": {
    "scrolled": true
   },
   "outputs": [
    {
     "data": {
      "text/plain": [
       "<Figure size 432x288 with 0 Axes>"
      ]
     },
     "metadata": {},
     "output_type": "display_data"
    },
    {
     "data": {
      "image/png": "[encoded data removed]",
      "text/plain": [
       "<Figure size 1440x720 with 1 Axes>"
      ]
     },
     "metadata": {
      "needs_background": "light"
     },
     "output_type": "display_data"
    }
   ],
   "source": [
    "fig = plt.figure()\n",
    "plt.figure(figsize=(20,10))\n",
    "days = day_counts.index\n",
    "counts = list(day_counts['people'])\n",
    "ax = sns.lineplot(x=days, y=counts)\n",
    "plt.xlabel('Day')\n",
    "plt.ylabel('Count')\n",
    "plt.xticks(range(0, 106, 7))\n",
    "plt.yticks(range(0, 305, 10))\n",
    "plt.grid(axis='both')\n",
    "plt.show()"
   ]
  },
  {
   "cell_type": "code",
   "execution_count": 180,
   "metadata": {},
   "outputs": [
    {
     "data": {
      "text/html": [
       "<div>\n",
       "<style scoped>\n",
       "    .dataframe tbody tr th:only-of-type {\n",
       "        vertical-align: middle;\n",
       "    }\n",
       "\n",
       "    .dataframe tbody tr th {\n",
       "        vertical-align: top;\n",
       "    }\n",
       "\n",
       "    .dataframe thead th {\n",
       "        text-align: right;\n",
       "    }\n",
       "</style>\n",
       "<table border=\"1\" class=\"dataframe\">\n",
       "  <thead>\n",
       "    <tr style=\"text-align: right;\">\n",
       "      <th></th>\n",
       "      <th>choice_0</th>\n",
       "      <th>choice_1</th>\n",
       "      <th>choice_2</th>\n",
       "      <th>choice_3</th>\n",
       "      <th>choice_4</th>\n",
       "      <th>choice_5</th>\n",
       "      <th>choice_6</th>\n",
       "      <th>choice_7</th>\n",
       "      <th>choice_8</th>\n",
       "      <th>choice_9</th>\n",
       "      <th>n_people</th>\n",
       "    </tr>\n",
       "    <tr>\n",
       "      <th>family_id</th>\n",
       "      <th></th>\n",
       "      <th></th>\n",
       "      <th></th>\n",
       "      <th></th>\n",
       "      <th></th>\n",
       "      <th></th>\n",
       "      <th></th>\n",
       "      <th></th>\n",
       "      <th></th>\n",
       "      <th></th>\n",
       "      <th></th>\n",
       "    </tr>\n",
       "  </thead>\n",
       "  <tbody>\n",
       "  </tbody>\n",
       "</table>\n",
       "</div>"
      ],
      "text/plain": [
       "Empty DataFrame\n",
       "Columns: [choice_0, choice_1, choice_2, choice_3, choice_4, choice_5, choice_6, choice_7, choice_8, choice_9, n_people]\n",
       "Index: []"
      ]
     },
     "execution_count": 180,
     "metadata": {},
     "output_type": "execute_result"
    }
   ],
   "source": [
    "unassigned_families.head()"
   ]
  },
  {
   "cell_type": "code",
   "execution_count": 423,
   "metadata": {},
   "outputs": [
    {
     "data": {
      "text/plain": [
       "<Figure size 432x288 with 0 Axes>"
      ]
     },
     "metadata": {},
     "output_type": "display_data"
    },
    {
     "data": {
      "image/png": "[encoded data removed]",
      "text/plain": [
       "<Figure size 720x360 with 1 Axes>"
      ]
     },
     "metadata": {
      "needs_background": "light"
     },
     "output_type": "display_data"
    }
   ],
   "source": [
    "fig = plt.figure()\n",
    "plt.figure(figsize=(10,5))\n",
    "days = day_counts.index\n",
    "counts = list(day_counts['people'])\n",
    "# ax = sns.barplot(x=unassigned_families['n_people'].value_counts().index, y=unassigned_families['n_people'].value_counts())\n",
    "ax = sns.barplot(x=unassigned_families['n_people'].unique(), y=unassigned_families['n_people'].value_counts())\n",
    "# plt.xlabel('Day')\n",
    "# plt.ylabel('Count')\n",
    "# plt.xticks(range(0, 106, 7))\n",
    "# plt.yticks(range(0, 305, 10))\n",
    "# plt.grid(axis='both')\n",
    "plt.show()"
   ]
  },
  {
   "cell_type": "code",
   "execution_count": 424,
   "metadata": {},
   "outputs": [
    {
     "data": {
      "text/plain": [
       "5.644761461437064"
      ]
     },
     "execution_count": 424,
     "metadata": {},
     "output_type": "execute_result"
    }
   ],
   "source": [
    "get_accounting_cost(215,5)"
   ]
  },
  {
   "cell_type": "code",
   "execution_count": null,
   "metadata": {},
   "outputs": [],
   "source": []
  }
 ],
 "metadata": {
  "kernelspec": {
   "display_name": "Python 3",
   "language": "python",
   "name": "python3"
  },
  "language_info": {
   "codemirror_mode": {
    "name": "ipython",
    "version": 3
   },
   "file_extension": ".py",
   "mimetype": "text/x-python",
   "name": "python",
   "nbconvert_exporter": "python",
   "pygments_lexer": "ipython3",
   "version": "3.7.3"
  }
 },
 "nbformat": 4,
 "nbformat_minor": 1
}
