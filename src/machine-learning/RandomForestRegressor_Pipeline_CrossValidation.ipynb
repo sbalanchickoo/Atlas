{
 "cells": [
  {
   "cell_type": "code",
   "execution_count": 7,
   "metadata": {},
   "outputs": [],
   "source": [
    "import pandas as pd\n",
    "from sklearn.ensemble import RandomForestRegressor\n",
    "from sklearn.metrics import mean_absolute_error, mean_squared_error\n",
    "from sklearn.model_selection import train_test_split, cross_val_score\n",
    "from sklearn.preprocessing import OneHotEncoder\n",
    "from sklearn.impute import SimpleImputer\n",
    "from sklearn.compose import ColumnTransformer\n",
    "from sklearn.pipeline import Pipeline"
   ]
  },
  {
   "cell_type": "code",
   "execution_count": 8,
   "metadata": {},
   "outputs": [],
   "source": [
    "# Read the data\n",
    "X = pd.read_csv('../../data/home-data-for-ml-course/train.csv', index_col='Id') \n",
    "X_test = pd.read_csv('../../data/home-data-for-ml-course/test.csv', index_col='Id')\n",
    "\n",
    "# Remove rows with missing target, separate target from predictors\n",
    "X.dropna(axis=0, subset=['SalePrice'], inplace=True)\n",
    "y = X.SalePrice\n",
    "X.drop(['SalePrice'], axis=1, inplace=True)"
   ]
  },
  {
   "cell_type": "code",
   "execution_count": 9,
   "metadata": {},
   "outputs": [],
   "source": [
    "# Apply pipeline processing on columns\n",
    "object_cols = [col for col in X.columns if X[col].dtype == 'object']\n",
    "high_cardinality_cols = [col for col in object_cols if X[col].dtype == 'object' and X[col].nunique() >= 10]\n",
    "low_cardinality_cols = [col for col in object_cols if X[col].dtype == 'object' and X[col].nunique() < 10]\n",
    "\n",
    "numerical_cols = [col for col in X.columns if X[col].dtype in ['int', 'float']]\n",
    "\n",
    "# Preprocessing for numerical data\n",
    "numerical_transformer = SimpleImputer(strategy='constant')\n",
    "\n",
    "# Preprocessing for categorical data\n",
    "categorical_transformer = Pipeline(steps=[\n",
    "    ('imputer', SimpleImputer(strategy='most_frequent')),\n",
    "    ('onehot', OneHotEncoder(handle_unknown='ignore', sparse=False))\n",
    "])\n",
    "\n",
    "# Bundle preprocessing for numerical and categorical data\n",
    "preprocessor = ColumnTransformer(\n",
    "    transformers=[\n",
    "        ('num', numerical_transformer, numerical_cols),\n",
    "        ('cat', categorical_transformer, low_cardinality_cols)\n",
    "    ])\n",
    "\n",
    "# To keep things simple, we'll drop columns with missing values\n",
    "#cols_with_missing = [col for col in X.columns if X[col].isnull().any()] \n",
    "#X.drop(cols_with_missing, axis=1, inplace=True)\n",
    "#X_test.drop(cols_with_missing, axis=1, inplace=True)"
   ]
  },
  {
   "cell_type": "code",
   "execution_count": 10,
   "metadata": {},
   "outputs": [],
   "source": [
    "# Break off validation set from training data\n",
    "#X_train, X_valid, y_train, y_valid = train_test_split(X, y,\n",
    "#                                                      train_size=0.8, test_size=0.2,\n",
    "#                                                      random_state=0)"
   ]
  },
  {
   "cell_type": "code",
   "execution_count": 11,
   "metadata": {},
   "outputs": [],
   "source": [
    "# Fit, transform\n",
    "#onehot = OneHotEncoder(handle_unknown='ignore', sparse=False)\n",
    "#OH_cols_X_train = pd.DataFrame(onehot.fit_transform(X_train[low_cardinality_cols])) # Your code here\n",
    "#OH_cols_X_valid = pd.DataFrame(onehot.transform(X_valid[low_cardinality_cols])) # Your code here\n",
    "\n",
    "# Reapply index\n",
    "#OH_cols_X_train.index = X_train.index\n",
    "#OH_cols_X_valid.index = X_valid.index\n",
    "\n",
    "# Drop object columns\n",
    "#num_X_train = X_train.drop(object_cols, axis=1)\n",
    "#num_X_valid = X_valid.drop(object_cols, axis=1)\n",
    "\n",
    "# Combine everything\n",
    "#OH_X_train = pd.concat([num_X_train, OH_cols_X_train], axis=1)\n",
    "#OH_X_valid = pd.concat([num_X_valid, OH_cols_X_valid], axis=1)\n"
   ]
  },
  {
   "cell_type": "code",
   "execution_count": 44,
   "metadata": {},
   "outputs": [],
   "source": [
    "def get_scores(number_of_estimators):\n",
    "    decision_tree_model = RandomForestRegressor(random_state=0, n_estimators=number_of_estimators)\n",
    "    \n",
    "    # Bundle preprocessing and modeling code in a pipeline\n",
    "    my_pipeline = Pipeline(steps=[('preprocessor', preprocessor),\n",
    "                              ('model', decision_tree_model)\n",
    "                             ])\n",
    "    scores = -1 * cross_val_score(my_pipeline, X, y,\n",
    "                              cv=5,\n",
    "                              scoring='neg_mean_absolute_error')\n",
    "    \n",
    "    #my_pipeline.fit(X_train, y_train)\n",
    "    #preds = my_pipeline.predict(X_valid)\n",
    "    #my_mse = mean_squared_error(preds, y_valid)\n",
    "    return scores.mean()"
   ]
  },
  {
   "cell_type": "code",
   "execution_count": 45,
   "metadata": {},
   "outputs": [],
   "source": [
    "nodes = range(100, 501, 100)\n",
    "#mse_values = {node: [get_scores(node)] for node in nodes}\n",
    "mse_values = {node: get_scores(node) for node in nodes}"
   ]
  },
  {
   "cell_type": "code",
   "execution_count": 47,
   "metadata": {},
   "outputs": [
    {
     "data": {
      "image/png": "[encoded data removed]",
      "text/plain": [
       "<Figure size 432x288 with 1 Axes>"
      ]
     },
     "metadata": {
      "needs_background": "light"
     },
     "output_type": "display_data"
    }
   ],
   "source": [
    "import matplotlib.pyplot as plt\n",
    "%matplotlib inline\n",
    "\n",
    "legends = ['num. of estimators = ' + str(x) for x in mse_values.keys()]\n",
    "#for key in mse_values.keys():\n",
    "    #plt.plot(list(mse_values.get(key))[0])\n",
    "\n",
    "plt.plot(mse_values.keys(), mse_values.values())\n",
    "plt.legend(legends, loc='upper left')\n",
    "\n",
    "#list(mse_values.get(100))[0][0]\n",
    "plt.show()"
   ]
  },
  {
   "cell_type": "code",
   "execution_count": null,
   "metadata": {},
   "outputs": [],
   "source": [
    "\n"
   ]
  }
 ],
 "metadata": {
  "kernelspec": {
   "display_name": "Python 3",
   "language": "python",
   "name": "python3"
  },
  "language_info": {
   "codemirror_mode": {
    "name": "ipython",
    "version": 3
   },
   "file_extension": ".py",
   "mimetype": "text/x-python",
   "name": "python",
   "nbconvert_exporter": "python",
   "pygments_lexer": "ipython3",
   "version": "3.7.3"
  }
 },
 "nbformat": 4,
 "nbformat_minor": 2
}
