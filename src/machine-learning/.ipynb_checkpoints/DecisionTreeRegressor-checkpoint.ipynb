{
 "cells": [
  {
   "cell_type": "code",
   "execution_count": 1,
   "metadata": {},
   "outputs": [],
   "source": [
    "import pandas as pd\n",
    "from sklearn.tree import DecisionTreeRegressor\n",
    "from sklearn.metrics import mean_absolute_error\n",
    "from sklearn.model_selection import train_test_split"
   ]
  },
  {
   "cell_type": "code",
   "execution_count": 11,
   "metadata": {},
   "outputs": [
    {
     "name": "stdout",
     "output_type": "stream",
     "text": [
      "  % Total    % Received % Xferd  Average Speed   Time    Time     Time  Current\n",
      "                                 Dload  Upload   Total   Spent    Left  Speed\n",
      "100  5190  100  5190    0     0  14828      0 --:--:-- --:--:-- --:--:-- 14871\n"
     ]
    }
   ],
   "source": [
    "!curl https://raw.githubusercontent.com/petroleum101/figures/db46e7f48b8aab67a0dfe31696f6071fb7a84f1e/oil_price/oil_price.csv -o ../oil_price_temp.csv"
   ]
  },
  {
   "cell_type": "code",
   "execution_count": 6,
   "metadata": {
    "collapsed": true
   },
   "outputs": [
    {
     "name": "stdout",
     "output_type": "stream",
     "text": [
      "Date,BP us dollar of the day,US Domestic Oil Price (US $) PET_F000000__3_A,U.S. Landed Costs of Saudi Arabian Light Crude Oil isa4990008a,BP Arabian Light posted at Ras Tanura.,Crude Oil Prices: Brent – Europe  ACOILBRENTEU,Crude Oil Prices: West Texas Intermediate (WTI)  ACOILWTICO, Imported Crude Oil Price (refiner average imported crude oil acquisition cost) (PET.R1300____3.A),\"U.S. Crude Oil Domestic Acquisition Cost by Refiners, Annual (PET.R1200____3.A)\",Dubai Crude Oil Price opendataforafrica.org/IMFPCP2014Jan\r\n",
      "1861,0.49,0.49,,,,,,,\r\n",
      "1862,1.05,1.05,,,,,,,\r\n",
      "1863,3.15,3.15,,,,,,,\r\n",
      "1864,8.06,8.06,,,,,,,\r\n",
      "1865,6.59,6.59,,,,,,,\r\n",
      "1866,3.74,3.74,,,,,,,\r\n",
      "1867,2.41,2.41,,,,,,,\r\n",
      "1868,3.63,3.62,,,,,,,\r\n",
      "1869,3.64,5.64,,,,,,,\r\n",
      "1870,3.86,3.86,,,,,,,\r\n",
      "1871,4.34,4.34,,,,,,,\r\n",
      "1872,3.64,3.64,,,,,,,\r\n",
      "1873,1.83,1.83,,,,,,,\r\n",
      "1874,1.17,1.17,,,,,,,\r\n",
      "1875,1.35,1.35,,,,,,,\r\n",
      "1876,2.56,2.52,,,,,,,\r\n",
      "1877,2.42,2.38,,,,,,,\r\n",
      "1878,1.19,1.17,,,,,,,\r\n",
      "1879,0.86,0.86,,,,,,,\r\n",
      "1880,0.95,0.94,,,,,,,\r\n",
      "1881,0.86,0.92,,,,,,,\r\n",
      "1882,0.78,0.78,,,,,,,\r\n",
      "1883,1,1.1,,,,,,,\r\n",
      "1884,0.84,0.85,,,,,,,\r\n",
      "1885,0.88,0.88,,,,,,,\r\n",
      "1886,0.71,0.71,,,,,,,\r\n",
      "1887,0.67,0.67,,,,,,,\r\n",
      "1888,0.88,0.65,,,,,,,\r\n",
      "1889,0.94,0.77,,,,,,,\r\n",
      "1890,0.87,0.77,,,,,,,\r\n",
      "1891,0.67,0.56,,,,,,,\r\n",
      "1892,0.56,0.51,,,,,,,\r\n",
      "1893,0.64,0.6,,,,,,,\r\n",
      "1894,0.84,0.72,,,,,,,\r\n",
      "1895,1.36,1.09,,,,,,,\r\n",
      "1896,1.18,0.96,,,,,,,\r\n",
      "1897,0.79,0.68,,,,,,,\r\n",
      "1898,0.91,0.8,,,,,,,\r\n",
      "1899,1.29,1.13,,,,,,,\r\n",
      "1900,1.19,1.19,,,,,,,\r\n",
      "1901,0.96,0.96,,,,,,,\r\n",
      "1902,0.8,0.8,,,,,,,\r\n",
      "1903,0.94,0.94,,,,,,,\r\n",
      "1904,0.86,0.86,,,,,,,\r\n",
      "1905,0.62,0.62,,,,,,,\r\n",
      "1906,0.73,0.73,,,,,,,\r\n",
      "1907,0.72,0.72,,,,,,,\r\n",
      "1908,0.72,0.72,,,,,,,\r\n",
      "1909,0.7,0.7,,,,,,,\r\n",
      "1910,0.61,0.61,,,,,,,\r\n",
      "1911,0.61,0.61,,,,,,,\r\n",
      "1912,0.74,0.74,,,,,,,\r\n",
      "1913,0.95,0.95,,,,,,,\r\n",
      "1914,0.81,0.81,,,,,,,\r\n",
      "1915,0.64,0.64,,,,,,,\r\n",
      "1916,1.1,1.1,,,,,,,\r\n",
      "1917,1.56,1.56,,,,,,,\r\n",
      "1918,1.98,1.98,,,,,,,\r\n",
      "1919,2.01,2.01,,,,,,,\r\n",
      "1920,3.07,3.07,,,,,,,\r\n",
      "1921,1.73,1.73,,,,,,,\r\n",
      "1922,1.61,1.61,,,,,,,\r\n",
      "1923,1.34,1.34,,,,,,,\r\n",
      "1924,1.43,1.43,,,,,,,\r\n",
      "1925,1.68,1.68,,,,,,,\r\n",
      "1926,1.88,1.88,,,,,,,\r\n",
      "1927,1.3,1.3,,,,,,,\r\n",
      "1928,1.17,1.17,,,,,,,\r\n",
      "1929,1.27,1.27,,,,,,,\r\n",
      "1930,1.19,1.19,,,,,,,\r\n",
      "1931,0.65,0.65,,,,,,,\r\n",
      "1932,0.87,0.87,,,,,,,\r\n",
      "1933,0.67,0.67,,,,,,,\r\n",
      "1934,1,1,,,,,,,\r\n",
      "1935,0.97,0.97,,,,,,,\r\n",
      "1936,1.09,1.09,,,,,,,\r\n",
      "1937,1.18,1.18,,,,,,,\r\n",
      "1938,1.13,1.13,,,,,,,\r\n",
      "1939,1.02,1.02,,,,,,,\r\n",
      "1940,1.02,1.02,,,,,,,\r\n",
      "1941,1.14,1.14,,,,,,,\r\n",
      "1942,1.19,1.19,,,,,,,\r\n",
      "1943,1.2,1.2,,,,,,,\r\n",
      "1944,1.21,1.21,,,,,,,\r\n",
      "1945,1.05,1.22,,1.05,,,,,\r\n",
      "1946,1.12,1.41,,1.12,,,,,\r\n",
      "1947,1.9,1.93,,1.9,,,,,\r\n",
      "1948,1.99,2.6,,1.99,,,,,\r\n",
      "1949,1.78,2.54,,1.78,,,,,\r\n",
      "1950,1.71,2.51,,1.71,,,,,\r\n",
      "1951,1.71,2.53,,1.71,,,,,\r\n",
      "1952,1.71,2.53,,1.71,,,,,\r\n",
      "1953,1.93,2.68,,1.93,,,,,\r\n",
      "1954,1.93,2.78,,1.93,,,,,\r\n",
      "1955,1.93,2.77,,1.93,,,,,\r\n",
      "1956,1.93,2.79,,1.93,,,,,\r\n",
      "1957,1.9,3.09,,1.9,,,,,\r\n",
      "1958,2.08,3.01,,2.08,,,,,\r\n",
      "1959,2.08,2.9,,2.08,,,,,\r\n",
      "1960,1.9,2.88,,1.9,,,,,\r\n",
      "1961,1.8,2.89,,1.8,,,,,\r\n",
      "1962,1.8,2.9,,1.8,,,,,\r\n",
      "1963,1.8,2.89,,1.8,,,,,\r\n",
      "1964,1.8,2.88,,1.8,,,,,\r\n",
      "1965,1.8,2.86,,1.8,,,,,\r\n",
      "1966,1.8,2.88,,1.8,,,,,\r\n",
      "1967,1.8,2.92,,1.8,,,,,\r\n",
      "1968,1.8,2.94,,1.8,,,2.9,3.21,\r\n",
      "1969,1.8,3.09,,1.8,,,2.8,3.37,\r\n",
      "1970,1.8,3.18,,1.8,,,2.96,3.46,\r\n",
      "1971,2.24,3.39,,2.24,,,3.17,3.68,\r\n",
      "1972,2.48,3.39,,2.48,,,3.22,3.67,\r\n",
      "1973,3.29,3.89,,3.29,,,4.08,4.17,\r\n",
      "1974,11.58,6.87,,11.58,,,12.52,7.18,\r\n",
      "1975,11.53,7.67,,11.53,,,13.93,8.39,\r\n",
      "1976,12.8,8.19,,12.8,,,13.48,8.84,\r\n",
      "1977,13.92,8.57,,13.92,,,14.53,9.55,\r\n",
      "1978,14.02,9,14.04,14.02,,,14.57,10.61,\r\n",
      "1979,31.61,12.64,19.18,31.61,,,21.67,14.27,\r\n",
      "1980,36.83,21.59,29.57,36.83,,,33.89,24.23,35.85\r\n",
      "1981,35.93,31.77,34.32,35.93,,,37.05,34.33,34.29\r\n",
      "1982,32.97,28.52,35.65,32.97,,,33.55,31.22,31.76\r\n",
      "1983,29.55,26.19,30.95,29.55,,,29.3,28.87,28.47\r\n",
      "1984,28.78,25.88,30.61,,,,28.88,28.53,27.51\r\n",
      "1985,27.56,24.09,25.35,,,,26.99,26.66,26.51\r\n",
      "1986,14.43,12.51,13.06,,,15.05,14,14.82,13.06\r\n",
      "1987,18.44,15.4,17.88,,18.53,19.2,18.13,17.76,16.96\r\n",
      "1988,14.92,12.58,14.04,,14.91,15.97,14.56,14.74,13.36\r\n",
      "1989,18.23,15.86,17.96,,18.23,19.64,18.08,17.87,15.78\r\n",
      "1990,23.73,20.03,22.49,,23.76,24.53,21.76,22.59,20.73\r\n",
      "1991,20,16.54,18.49,,20.04,21.54,18.7,19.33,16.61\r\n",
      "1992,19.32,15.99,18.54,,19.32,20.58,18.2,18.63,17.14\r\n",
      "1993,16.97,14.25,16.62,,17.01,18.43,16.14,16.67,14.91\r\n",
      "1994,15.82,13.19,15.83,,15.86,17.2,15.51,15.67,14.83\r\n",
      "1995,17.02,14.62,17.17,,17.02,18.43,17.14,17.33,16.13\r\n",
      "1996,20.67,18.46,20.86,,20.64,22.12,20.64,20.77,18.54\r\n",
      "1997,19.09,17.23,18.11,,19.11,20.61,18.53,19.61,18.1\r\n",
      "1998,12.72,10.87,12.36,,12.76,14.42,12.04,13.18,12.09\r\n",
      "1999,17.97,15.56,18.03,,17.9,19.34,17.26,17.9,17.08\r\n",
      "2000,28.5,26.72,27.54,,28.66,30.38,27.7,29.11,26.09\r\n",
      "2001,24.44,21.84,21.64,,24.46,25.98,22,24.33,22.71\r\n",
      "2002,25.02,22.51,25.01,,24.99,26.18,23.71,24.65,23.73\r\n",
      "2003,28.83,27.56,28.25,,28.85,31.08,27.71,29.82,26.73\r\n",
      "2004,38.27,36.77,38.01,,38.26,41.51,35.9,38.97,33.46\r\n",
      "2005,54.52,50.28,52.92,,54.57,56.64,48.86,52.94,49.2\r\n",
      "2006,65.14,59.69,60.51,,65.16,66.05,59.02,62.62,61.43\r\n",
      "2007,72.39,66.52,71.62,,72.44,72.34,67.04,69.65,68.37\r\n",
      "2008,97.26,94.04,94.38,,96.94,99.67,92.77,98.47,93.78\r\n",
      "2009,61.67,56.35,63.1,,61.74,61.95,59.17,59.49,61.76\r\n",
      "2010,79.5,74.71,79.65,,79.61,79.48,75.86,78.01,78.06\r\n",
      "2011,111.26,95.73,109.43,,111.26,94.88,102.63,100.71,106.03\r\n",
      "2012,111.67,94.52,108.93,,111.63,94.05,101.09,100.72,108.92\r\n",
      "2013,108.66,95.99,103.44,,108.56,97.98,98.11,102.91,105.43\r\n",
      "2014,98.95,87.39,96.83,,98.97,93.22,89.56,94.05,96.66\r\n"
     ]
    }
   ],
   "source": [
    "!cat ../oil_price_temp.csv"
   ]
  },
  {
   "cell_type": "code",
   "execution_count": 1,
   "metadata": {},
   "outputs": [
    {
     "name": "stdout",
     "output_type": "stream",
     "text": [
      "DecisionTreeRegressor.ipynb  kaggle.json\r\n"
     ]
    }
   ],
   "source": [
    "!ls"
   ]
  },
  {
   "cell_type": "code",
   "execution_count": 11,
   "metadata": {},
   "outputs": [
    {
     "name": "stdout",
     "output_type": "stream",
     "text": [
      "Uninstalling kaggle-1.5.5:\n",
      "  Would remove:\n",
      "    /home/nbuser/anaconda3_501/bin/kaggle\n",
      "    /home/nbuser/anaconda3_501/lib/python3.6/site-packages/kaggle-1.5.5.dist-info/*\n",
      "    /home/nbuser/anaconda3_501/lib/python3.6/site-packages/kaggle/*\n",
      "Proceed (y/n)? ^C\n",
      "\u001b[31mERROR: Operation cancelled by user\u001b[0m\n"
     ]
    }
   ],
   "source": [
    "!pip uninstall kaggle"
   ]
  },
  {
   "cell_type": "code",
   "execution_count": 15,
   "metadata": {},
   "outputs": [],
   "source": [
    "!cp './kaggle.json' /home/nbuser/.kaggle/"
   ]
  },
  {
   "cell_type": "code",
   "execution_count": 4,
   "metadata": {},
   "outputs": [
    {
     "name": "stdout",
     "output_type": "stream",
     "text": [
      "DecisionTreeRegressor.ipynb  kaggle.json\r\n"
     ]
    }
   ],
   "source": [
    "!ls"
   ]
  },
  {
   "cell_type": "code",
   "execution_count": 9,
   "metadata": {},
   "outputs": [
    {
     "name": "stdout",
     "output_type": "stream",
     "text": [
      "DecisionTreeRegressor.ipynb  kaggle.json\r\n"
     ]
    }
   ],
   "source": [
    "!ls ."
   ]
  },
  {
   "cell_type": "code",
   "execution_count": 10,
   "metadata": {},
   "outputs": [
    {
     "name": "stdout",
     "output_type": "stream",
     "text": [
      "ls: cannot open directory '/root': Permission denied\r\n"
     ]
    }
   ],
   "source": [
    "!ls /root"
   ]
  },
  {
   "cell_type": "code",
   "execution_count": 12,
   "metadata": {},
   "outputs": [
    {
     "name": "stdout",
     "output_type": "stream",
     "text": [
      "api\t       cli.py\t\t __init__.py  __pycache__  tests\r\n",
      "api_client.py  configuration.py  models       rest.py\r\n"
     ]
    }
   ],
   "source": [
    "!ls /home/nbuser/anaconda3_501/lib/python3.6/site-packages/kaggle/"
   ]
  },
  {
   "cell_type": "code",
   "execution_count": 16,
   "metadata": {},
   "outputs": [
    {
     "name": "stdout",
     "output_type": "stream",
     "text": [
      "Warning: Your Kaggle API key is readable by other users on this system! To fix this, you can run 'chmod 600 /home/nbuser/.kaggle/kaggle.json'\n",
      "ref                                                  title                                        size  lastUpdated          downloadCount  voteCount  usabilityRating  \n",
      "---------------------------------------------------  -------------------------------------------  ----  -------------------  -------------  ---------  ---------------  \n",
      "airbnb/boston                                        Boston Airbnb Open Data                      17MB  2016-11-17 05:18:33           7713         82  0.875            \n",
      "ankkur13/boston-crime-data                           Crimes in Boston                             11MB  2018-10-04 13:52:08           5612        128  0.8235294        \n",
      "AnalyzeBoston/crimes-in-boston                       Crimes in Boston                             10MB  2018-09-04 17:56:03           6594        151  0.8235294        \n",
      "vikrishnan/boston-house-prices                       Boston House Prices                          13KB  2017-08-03 17:06:12           7561         84  0.7058824        \n",
      "schirmerchad/bostonhoustingmlnd                      Boston Housing                                4KB  2017-06-11 15:07:11           2370         27  0.7058824        \n",
      "rojour/boston-results                                Finishers Boston Marathon 2015, 2016 & 2017   5MB  2017-04-29 21:57:12           2975         57  0.7352941        \n",
      "crawford/boston-public-schools                       Boston Public Schools                        21KB  2018-09-18 21:49:50           1796         23  0.5882353        \n",
      "heptapod/uci-ml-datasets                             UCI ML Datasets                              12KB  2017-05-04 15:11:22            707          8  0.7647059        \n",
      "altavish/boston-housing-dataset                      Boston housing dataset                       12KB  2017-10-27 12:17:34            878          8  0.5882353        \n",
      "kyasar/boston-housing                                Boston Housing                               12KB  2018-05-21 14:30:01            240          3  0.470588237      \n",
      "rojour/finishers-boston-marathon-2017                Finishers Boston Marathon 2017                2MB  2017-04-28 22:17:12            319         11  0.5882353        \n",
      "harunshimanto/hubway-bicycles-in-boston              Hubway Bicycles in Boston                    33MB  2018-09-22 20:47:13             52          4  0.6875           \n",
      "lianglirong/boston-housing                           Boston housing                               13KB  2018-08-16 02:19:06             42          2  0.1764706        \n",
      "kosovanolexandr/boston-offenses-and-other-open-data  Boston Offenses and Other Open Data          71MB  2018-10-11 08:40:01             84          3  0.7352941        \n",
      "fauzantaufik/boston-housepredict                     Boston House-Predict                         13KB  2018-04-16 22:19:05            117          2  0.294117659      \n",
      "srinath2648/boston-housing                           Boston Housing                               13KB  2018-01-13 09:28:45            163          3  0.382352948      \n",
      "jenlooper/mr-boston-cocktail-dataset                 Mr. Boston Cocktail Dataset                  39KB  2019-01-07 19:58:57             63          7  0.294117659      \n",
      "puxama/bostoncsv                                     Boston.csv                                   13KB  2018-07-09 04:19:14           1253          6  0.1764706        \n",
      "carlolepelaars/toy-dataset                           Toy Dataset                                   1MB  2018-12-10 21:15:44           1739         40  0.9411765        \n",
      "selfishgene/historical-hourly-weather-data           Historical Hourly Weather Data 2012-2017     12MB  2017-12-28 01:39:38          11469        201  0.7058824        \n"
     ]
    }
   ],
   "source": [
    "!kaggle datasets list -s \"Boston\""
   ]
  },
  {
   "cell_type": "code",
   "execution_count": 14,
   "metadata": {},
   "outputs": [
    {
     "name": "stdout",
     "output_type": "stream",
     "text": [
      "mkdir: cannot create directory ‘/home/nbuser/.kaggle’: File exists\r\n"
     ]
    }
   ],
   "source": [
    "!mkdir /home/nbuser/.kaggle"
   ]
  },
  {
   "cell_type": "code",
   "execution_count": null,
   "metadata": {},
   "outputs": [],
   "source": []
  }
 ],
 "metadata": {
  "kernelspec": {
   "display_name": "Python 3",
   "language": "python",
   "name": "python3"
  },
  "language_info": {
   "codemirror_mode": {
    "name": "ipython",
    "version": 3
   },
   "file_extension": ".py",
   "mimetype": "text/x-python",
   "name": "python",
   "nbconvert_exporter": "python",
   "pygments_lexer": "ipython3",
   "version": "3.7.3"
  }
 },
 "nbformat": 4,
 "nbformat_minor": 2
}
