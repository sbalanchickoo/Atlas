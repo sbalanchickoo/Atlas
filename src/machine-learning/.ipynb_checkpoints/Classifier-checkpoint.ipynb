{
 "cells": [
  {
   "cell_type": "code",
   "execution_count": null,
   "metadata": {},
   "outputs": [],
   "source": [
    "# Input data files are available in the \"../input/\" directory.\n",
    "# Any results you write to the current directory are saved as output.\n",
    "# For example, running this (by clicking run or pressing Shift+Enter) will list all files under the input directory\n",
    "import os\n",
    "for dirname, _, filenames in os.walk('/kaggle/input'):\n",
    "    for filename in filenames:\n",
    "        print(os.path.join(dirname, filename))\n",
    "\n",
    "import numpy as np # linear algebra\n",
    "import pandas as pd # data processing, CSV file I/O (e.g. pd.read_csv)\n",
    "import seaborn as sns\n",
    "import matplotlib.pyplot as plt\n",
    "import copy\n",
    "\n",
    "from sklearn.ensemble import RandomForestClassifier\n",
    "from sklearn.tree import DecisionTreeClassifier\n",
    "from xgboost import XGBClassifier\n",
    "from sklearn.metrics import accuracy_score\n",
    "from sklearn.model_selection import train_test_split, cross_val_score, KFold, GridSearchCV\n",
    "from sklearn.pipeline import Pipeline\n",
    "\n",
    "%matplotlib inline"
   ]
  },
  {
   "cell_type": "code",
   "execution_count": null,
   "metadata": {},
   "outputs": [],
   "source": [
    "# Local environment\n",
    "data_path = '../../data/learn-together'\n",
    "\n",
    "# Kaggle\n",
    "#data_path = '../input/learn-together'\n",
    "\n",
    "df_test = pd.read_csv(data_path + '/test.csv')\n",
    "df_sample_submission = pd.read_csv(data_path + '/sample_submission.csv')\n",
    "df = pd.read_csv(data_path + '/train.csv')"
   ]
  },
  {
   "cell_type": "code",
   "execution_count": null,
   "metadata": {},
   "outputs": [],
   "source": [
    "grid_search = True\n",
    "generate_output = True"
   ]
  },
  {
   "cell_type": "code",
   "execution_count": null,
   "metadata": {},
   "outputs": [],
   "source": [
    "df.head()"
   ]
  },
  {
   "cell_type": "code",
   "execution_count": null,
   "metadata": {},
   "outputs": [],
   "source": [
    "# Identify columns with only 1 value, these are unlikely to be helpful\n",
    "col_singular = [col for col in df.columns if df[col].nunique() == 1]\n",
    "print('Singular columns: {}'.format(col_singular))"
   ]
  },
  {
   "cell_type": "code",
   "execution_count": null,
   "metadata": {},
   "outputs": [],
   "source": [
    "# Check if target types are evenly spread\n",
    "plt.ylabel('frequency')\n",
    "plt.xlabel('cover type')\n",
    "plt.bar(df['Cover_Type'].unique(), df['Cover_Type'].value_counts(), color ='green', width=0.2)\n",
    "plt.rcParams[\"figure.figsize\"] = (5,5)\n",
    "plt.show()\n",
    "\n",
    "# Evenly distributed, **that's great**"
   ]
  },
  {
   "cell_type": "code",
   "execution_count": null,
   "metadata": {},
   "outputs": [],
   "source": [
    "# Separate features and target\n",
    "target = 'Cover_Type'\n",
    "features = list(df.columns)\n",
    "features.remove(target)\n",
    "\n",
    "X = df[features]\n",
    "y = df[target]\n",
    "X_train, X_val, y_train, y_val = train_test_split(X, y, test_size=0.2, train_size=0.8, random_state=5)"
   ]
  },
  {
   "cell_type": "code",
   "execution_count": null,
   "metadata": {},
   "outputs": [],
   "source": [
    "# Get correlation to see if dimensionality can be reduced. \n",
    "# Only considering non-categorical columns for simplicity\n",
    "df_subset = df[['Elevation', 'Aspect', 'Slope',\n",
    "       'Horizontal_Distance_To_Hydrology', 'Vertical_Distance_To_Hydrology',\n",
    "       'Horizontal_Distance_To_Roadways', 'Hillshade_9am', 'Hillshade_Noon',\n",
    "       'Hillshade_3pm', 'Horizontal_Distance_To_Fire_Points',\n",
    "       'Wilderness_Area1', 'Wilderness_Area2', 'Wilderness_Area3',\n",
    "       'Wilderness_Area4', 'Cover_Type']]\n",
    "\n",
    "corrmat = df_subset.corr()\n",
    "top_corr_features = corrmat.index\n",
    "plt.figure(figsize=(10,10))\n",
    "g=sns.heatmap(df_subset[top_corr_features].corr(),annot=True,cmap=\"RdYlGn\")"
   ]
  },
  {
   "cell_type": "code",
   "execution_count": null,
   "metadata": {},
   "outputs": [],
   "source": [
    "# Looks like Aspect has the lowest correlation with Cover_Type, and has a high correlation with \n",
    "# Hillshade_9am and Hillshade_3pm\n",
    "# But Hillshade_3pm has a decent correlation with Cover_Type; verify all combinations\n",
    "low_correlation_cols = ['Aspect', 'Hillshade_9am', 'Hillshade_3pm']"
   ]
  },
  {
   "cell_type": "code",
   "execution_count": null,
   "metadata": {},
   "outputs": [],
   "source": [
    "# Determine which models to evaluate\n",
    "models = [(DecisionTreeClassifier(random_state=5), 'Decision Tree', True)\n",
    "          , (RandomForestClassifier(random_state=5), 'Random Forest', True)\n",
    "          , (XGBClassifier(random_state=5), 'XGBoost', True)]"
   ]
  },
  {
   "cell_type": "code",
   "execution_count": null,
   "metadata": {},
   "outputs": [],
   "source": [
    "# Function to get initial scores list of models\n",
    "def get_init_scores(features: list, model: list) -> list:\n",
    "    scores = []\n",
    "    X_func = X_train[features]\n",
    "    for model, name, flag in models:\n",
    "        if flag:\n",
    "            score = cross_val_score(model, X_func, y_train, cv=5, scoring='accuracy').mean()\n",
    "            new_score = {'model': name, 'score': score}\n",
    "            scores.append(new_score)\n",
    "    return scores"
   ]
  },
  {
   "cell_type": "code",
   "execution_count": null,
   "metadata": {},
   "outputs": [],
   "source": [
    "initial_scores = get_init_scores(features, models)\n",
    "initial_scores"
   ]
  },
  {
   "cell_type": "code",
   "execution_count": null,
   "metadata": {},
   "outputs": [],
   "source": [
    "# Cases, different combinations of columns to be dropped\n",
    "cases = []\n",
    "scenarios = []\n",
    "case_A = ['']\n",
    "case_B = col_singular\n",
    "case_C = col_singular + ['Aspect']\n",
    "case_D = col_singular + ['Aspect', 'Hillshade_9am']\n",
    "case_E = col_singular + ['Aspect', 'Hillshade_3pm']\n",
    "case_F = col_singular + ['Aspect', 'Hillshade_9am', 'Hillshade_3pm']\n",
    "\n",
    "cases += [case_A]\n",
    "cases += [case_B]\n",
    "cases += [case_C]\n",
    "cases += [case_D]\n",
    "cases += [case_E]\n",
    "cases += [case_F]\n",
    "\n",
    "for model, model_name, flag in models:\n",
    "    if flag:\n",
    "        for case in cases:\n",
    "            scenario = {}\n",
    "            features_subset = copy.deepcopy(features)\n",
    "            for col in case:\n",
    "                if col in features_subset:\n",
    "                    features_subset.remove(col)\n",
    "            scenario['model_name'] = model_name\n",
    "            scenario['columns_dropped'] = case\n",
    "            scenario['features'] = features_subset\n",
    "            scenario['model'] = model\n",
    "            scenarios.append(scenario)\n",
    "\n",
    "\n",
    "#for scenario in scenarios:\n",
    "#    score = cross_val_score(model, X_train[scenario['features']], y_train, cv=5, scoring='accuracy').mean()\n",
    "#    scenario['score'] = score\n",
    "\n",
    "#for scenario in sorted(scenarios, key = lambda i: i['score'], reverse=True):\n",
    "#    print('Model: {model}\\nColumns dropped: {cols}\\nScore: {score:.4f}\\n'.format(model=scenario['model_name']\n",
    "#                                                                                 , cols=scenario['columns_dropped']\n",
    "#                                                                                 , score=scenario['score']))"
   ]
  },
  {
   "cell_type": "code",
   "execution_count": null,
   "metadata": {},
   "outputs": [],
   "source": [
    "outputs = []\n",
    "keys = ['model_name', 'columns_dropped', 'score']\n",
    "#for scenario in sorted(scenarios, key = lambda i: i['score'], reverse=True):\n",
    "#    output = {}\n",
    "#    output = {key: scenario[key] for key in keys}\n",
    "#    outputs.append(output)\n",
    "outputs = [{'model_name': 'Decision Tree',\n",
    "  'columns_dropped': ['Soil_Type7', 'Soil_Type15', 'Aspect', 'Hillshade_9am'],\n",
    "  'score': 0.7638101896377367},\n",
    " {'model_name': 'Random Forest',\n",
    "  'columns_dropped': ['Soil_Type7', 'Soil_Type15', 'Aspect', 'Hillshade_9am'],\n",
    "  'score': 0.7638101896377367},\n",
    " {'model_name': 'XGBoost',\n",
    "  'columns_dropped': ['Soil_Type7', 'Soil_Type15', 'Aspect', 'Hillshade_9am'],\n",
    "  'score': 0.7638101896377367},\n",
    " {'model_name': 'Decision Tree',\n",
    "  'columns_dropped': [''],\n",
    "  'score': 0.7626546001058426},\n",
    " {'model_name': 'Decision Tree',\n",
    "  'columns_dropped': ['Soil_Type7', 'Soil_Type15'],\n",
    "  'score': 0.7626546001058426},\n",
    " {'model_name': 'Random Forest',\n",
    "  'columns_dropped': [''],\n",
    "  'score': 0.7626546001058426},\n",
    " {'model_name': 'Random Forest',\n",
    "  'columns_dropped': ['Soil_Type7', 'Soil_Type15'],\n",
    "  'score': 0.7626546001058426},\n",
    " {'model_name': 'XGBoost',\n",
    "  'columns_dropped': [''],\n",
    "  'score': 0.7626546001058426},\n",
    " {'model_name': 'XGBoost',\n",
    "  'columns_dropped': ['Soil_Type7', 'Soil_Type15'],\n",
    "  'score': 0.7626546001058426},\n",
    " {'model_name': 'Decision Tree',\n",
    "  'columns_dropped': ['Soil_Type7', 'Soil_Type15', 'Aspect'],\n",
    "  'score': 0.7625706219483699},\n",
    " {'model_name': 'Random Forest',\n",
    "  'columns_dropped': ['Soil_Type7', 'Soil_Type15', 'Aspect'],\n",
    "  'score': 0.7625706219483699},\n",
    " {'model_name': 'XGBoost',\n",
    "  'columns_dropped': ['Soil_Type7', 'Soil_Type15', 'Aspect'],\n",
    "  'score': 0.7625706219483699},\n",
    " {'model_name': 'Decision Tree',\n",
    "  'columns_dropped': ['Soil_Type7', 'Soil_Type15', 'Aspect', 'Hillshade_9am', 'Hillshade_3pm'],\n",
    "  'score': 0.7614941575593148},\n",
    " {'model_name': 'Random Forest',\n",
    "  'columns_dropped': ['Soil_Type7', 'Soil_Type15', 'Aspect', 'Hillshade_9am', 'Hillshade_3pm'],\n",
    "  'score': 0.7614941575593148},\n",
    " {'model_name': 'XGBoost',\n",
    "  'columns_dropped': ['Soil_Type7', 'Soil_Type15', 'Aspect', 'Hillshade_9am', 'Hillshade_3pm'],\n",
    "  'score': 0.7614941575593148},\n",
    " {'model_name': 'Decision Tree',\n",
    "  'columns_dropped': ['Soil_Type7', 'Soil_Type15', 'Aspect', 'Hillshade_3pm'],\n",
    "  'score': 0.7598421860923201},\n",
    " {'model_name': 'Random Forest',\n",
    "  'columns_dropped': ['Soil_Type7', 'Soil_Type15', 'Aspect', 'Hillshade_3pm'],\n",
    "  'score': 0.7598421860923201},\n",
    " {'model_name': 'XGBoost',\n",
    "  'columns_dropped': ['Soil_Type7', 'Soil_Type15', 'Aspect', 'Hillshade_3pm'],\n",
    "  'score': 0.7598421860923201}]"
   ]
  },
  {
   "cell_type": "code",
   "execution_count": null,
   "metadata": {},
   "outputs": [],
   "source": [
    "# Below case had the best results\n",
    "features_subset = copy.deepcopy(features)\n",
    "cols_dropped = ['Soil_Type7', 'Soil_Type15', 'Aspect', 'Hillshade_9am']\n",
    "for col in cols_dropped:\n",
    "    if col in features_subset:\n",
    "        features_subset.remove(col)\n",
    "\n",
    "\n",
    "X = X[features_subset]\n",
    "X_train = X_train[features_subset]\n",
    "X_val = X_val[features_subset]\n",
    "df_test = df_test[features_subset]"
   ]
  },
  {
   "cell_type": "code",
   "execution_count": null,
   "metadata": {},
   "outputs": [],
   "source": [
    "# Random forest gave the best initial result. Will tune it further\n",
    "# Do a grid search for different combinations\n",
    "\n",
    "grid_search_results = []\n",
    "model = RandomForestClassifier(criterion='gini',random_state=5)\n",
    "n_splits = 10\n",
    "kfold = KFold(n_splits=n_splits, shuffle=True)\n",
    "pipeline = Pipeline(steps=[('model', model)])\n",
    "best_model = copy.deepcopy(model)\n",
    "\n",
    "if grid_search:\n",
    "    parameters = {}\n",
    "    parameters['model__n_estimators'] = [100, 150, 200, 400, 600, 800, 1000, 1100]\n",
    "    #parameters['model__max_depth'] = range(10, 21, 1)\n",
    "    print(parameters)\n",
    "    \n",
    "    CV = GridSearchCV(pipeline, param_grid=parameters, scoring = 'accuracy', n_jobs=-1, cv=kfold)\n",
    "    CV.fit(X_train, y_train)   \n",
    "    \n",
    "    best_model = CV.best_estimator_\n",
    "    print('Best score and parameter combination = ')\n",
    "    print(CV.best_score_)    \n",
    "    print(CV.best_params_) "
   ]
  },
  {
   "cell_type": "markdown",
   "metadata": {},
   "source": [
    "## **Saved outputs from grid searches**\n",
    "\n",
    "* max_depth = 20 [19,20,21]\n",
    "* min_samples_leaf = 1 [1,2,3]\n",
    "* n_estimators = 200 [100,150,200]\n",
    "* **Score: 0.87**\n",
    "\n",
    "\n",
    "* max_depth = 21 [19,20,21]\n",
    "* min_samples_leaf = 1 [1,2,3]\n",
    "* n_estimators = 300 [200,250,300]\n",
    "* **Score: 0.875**"
   ]
  },
  {
   "cell_type": "code",
   "execution_count": null,
   "metadata": {},
   "outputs": [],
   "source": [
    "# Test against holdout set\n",
    "best_model.fit(X, y)\n",
    "#preds = best_model.predict(X_val)\n",
    "#score = accuracy_score(y_val, preds)\n",
    "#print(score)"
   ]
  },
  {
   "cell_type": "code",
   "execution_count": null,
   "metadata": {},
   "outputs": [],
   "source": [
    "# Final output\n",
    "if generate_output:\n",
    "    preds = best_model.predict(df_test)\n",
    "\n",
    "    # Save test predictions to file\n",
    "    output = pd.DataFrame({'Id': df_sample_submission.Id,\n",
    "                       'Cover_Type': preds})\n",
    "    output.head()\n",
    "    output.to_csv('submission.csv', index=False)"
   ]
  }
 ],
 "metadata": {
  "kernelspec": {
   "display_name": "Python 3",
   "language": "python",
   "name": "python3"
  },
  "language_info": {
   "codemirror_mode": {
    "name": "ipython",
    "version": 3
   },
   "file_extension": ".py",
   "mimetype": "text/x-python",
   "name": "python",
   "nbconvert_exporter": "python",
   "pygments_lexer": "ipython3",
   "version": "3.7.3"
  }
 },
 "nbformat": 4,
 "nbformat_minor": 1
}
