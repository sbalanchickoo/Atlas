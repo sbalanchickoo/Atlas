{
 "cells": [
  {
   "cell_type": "markdown",
   "metadata": {},
   "source": [
    "# Lists"
   ]
  },
  {
   "cell_type": "markdown",
   "metadata": {},
   "source": [
    "### Create List"
   ]
  },
  {
   "cell_type": "code",
   "execution_count": 3,
   "metadata": {},
   "outputs": [
    {
     "data": {
      "text/plain": [
       "[2, 3, 4, 1]"
      ]
     },
     "execution_count": 3,
     "metadata": {},
     "output_type": "execute_result"
    }
   ],
   "source": [
    "a = [2, 3, 4, 1]\n",
    "a"
   ]
  },
  {
   "cell_type": "code",
   "execution_count": 4,
   "metadata": {},
   "outputs": [
    {
     "data": {
      "text/plain": [
       "['red', 'blue', 'black', 'yellow', 'orange']"
      ]
     },
     "execution_count": 4,
     "metadata": {},
     "output_type": "execute_result"
    }
   ],
   "source": [
    "colors = ['red', 'blue', 'black', 'yellow', 'orange']\n",
    "colors"
   ]
  },
  {
   "cell_type": "code",
   "execution_count": 5,
   "metadata": {},
   "outputs": [
    {
     "data": {
      "text/plain": [
       "[{'name': 'john', 'age': 20},\n",
       " {'name': 'jill', 'age': 30},\n",
       " {'name': 'joan', 'age': 25},\n",
       " {'name': 'adam', 'age': 27}]"
      ]
     },
     "execution_count": 5,
     "metadata": {},
     "output_type": "execute_result"
    }
   ],
   "source": [
    "students = [{'name': 'john', 'age': 20}\n",
    "            ,{'name': 'jill','age': 30}\n",
    "            ,{'name': 'joan','age': 25}\n",
    "            ,{'name': 'adam','age': 27}]\n",
    "students"
   ]
  },
  {
   "cell_type": "code",
   "execution_count": 6,
   "metadata": {},
   "outputs": [
    {
     "data": {
      "text/plain": [
       "[]"
      ]
     },
     "execution_count": 6,
     "metadata": {},
     "output_type": "execute_result"
    }
   ],
   "source": [
    "# empty list\n",
    "b = []\n",
    "b"
   ]
  },
  {
   "cell_type": "markdown",
   "metadata": {},
   "source": [
    "### Sorting - without changing original list"
   ]
  },
  {
   "cell_type": "code",
   "execution_count": 7,
   "metadata": {},
   "outputs": [
    {
     "name": "stdout",
     "output_type": "stream",
     "text": [
      "['black', 'blue', 'orange', 'red', 'yellow']\n",
      "\n",
      "\n",
      "['yellow', 'red', 'orange', 'blue', 'black']\n",
      "\n",
      "\n",
      "[{'name': 'john', 'age': 20}, {'name': 'joan', 'age': 25}, {'name': 'adam', 'age': 27}, {'name': 'jill', 'age': 30}]\n",
      "\n",
      "\n",
      "[{'name': 'john', 'age': 20}, {'name': 'joan', 'age': 25}, {'name': 'adam', 'age': 27}]\n"
     ]
    }
   ],
   "source": [
    "# ascending order\n",
    "print(sorted(colors))\n",
    "\n",
    "# descending order\n",
    "print('\\n')\n",
    "print(sorted(colors, reverse=True))\n",
    "\n",
    "# based on lanbda function\n",
    "print('\\n')\n",
    "print(sorted(students, key=lambda student: student['age']))\n",
    "\n",
    "# return subset of results\n",
    "print('\\n')\n",
    "print(sorted(students, key=lambda student: student['age'])[:3])"
   ]
  },
  {
   "cell_type": "markdown",
   "metadata": {},
   "source": [
    "### Sorting - in place"
   ]
  },
  {
   "cell_type": "code",
   "execution_count": 8,
   "metadata": {},
   "outputs": [
    {
     "name": "stdout",
     "output_type": "stream",
     "text": [
      "[1, 2, 3, 4]\n",
      "\n",
      "\n",
      "[4, 3, 2, 1]\n"
     ]
    }
   ],
   "source": [
    "# ascending order\n",
    "a.sort()\n",
    "print(a)\n",
    "\n",
    "# descending order\n",
    "a.sort(reverse=True)\n",
    "print('\\n')\n",
    "print(a)"
   ]
  },
  {
   "cell_type": "markdown",
   "metadata": {},
   "source": [
    "### Slicing"
   ]
  },
  {
   "cell_type": "code",
   "execution_count": 9,
   "metadata": {},
   "outputs": [
    {
     "name": "stdout",
     "output_type": "stream",
     "text": [
      "[4, 3, 2, 1]\n",
      "3\n",
      "[3, 2, 1]\n",
      "[4]\n",
      "[2]\n"
     ]
    }
   ],
   "source": [
    "print (a)\n",
    "print(a[1])\n",
    "print(a[1:])\n",
    "\n",
    "print(a[:1]) # right hand side value of (:) while slicing is not included\n",
    "print(a[2:3])"
   ]
  },
  {
   "cell_type": "markdown",
   "metadata": {},
   "source": [
    "### List comprehension"
   ]
  },
  {
   "cell_type": "code",
   "execution_count": 10,
   "metadata": {},
   "outputs": [
    {
     "data": {
      "text/plain": [
       "[1, 4, 9, 16]"
      ]
     },
     "execution_count": 10,
     "metadata": {},
     "output_type": "execute_result"
    }
   ],
   "source": [
    "# list comprehension\n",
    "numbers = [1, 2, 3, 4]\n",
    "squares = []\n",
    "\n",
    "for n in numbers:\n",
    "  squares.append(n**2)\n",
    "\n",
    "numbers = [1, 2, 3, 4]\n",
    "squares = [n**2 for n in numbers]\n",
    "squares"
   ]
  },
  {
   "cell_type": "code",
   "execution_count": 11,
   "metadata": {},
   "outputs": [
    {
     "data": {
      "text/plain": [
       "[2, 3, 4]"
      ]
     },
     "execution_count": 11,
     "metadata": {},
     "output_type": "execute_result"
    }
   ],
   "source": [
    "# using conditions in list comprehension\n",
    "list_a = [1, 2, 3, 4]\n",
    "list_b = [2, 3, 4, 5]\n",
    "\n",
    "common_num = []\n",
    "\n",
    "for a in list_a:\n",
    "  for b in list_b:\n",
    "    if a == b:\n",
    "      common_num.append(a)\n",
    "\n",
    "common_num = [a for a in list_a for b in list_b if a == b]\n",
    "common_num"
   ]
  },
  {
   "cell_type": "markdown",
   "metadata": {},
   "source": [
    "# Sets"
   ]
  },
  {
   "cell_type": "markdown",
   "metadata": {},
   "source": [
    "### Create set"
   ]
  },
  {
   "cell_type": "code",
   "execution_count": 12,
   "metadata": {},
   "outputs": [
    {
     "name": "stdout",
     "output_type": "stream",
     "text": [
      "set()\n",
      "\n",
      "\n",
      "{1, 2, 3}\n"
     ]
    }
   ],
   "source": [
    "# empty set\n",
    "emptyset = set()\n",
    "print(emptyset)\n",
    "\n",
    "# set with values\n",
    "s = set([1, 2, 3, 2])\n",
    "print('\\n')\n",
    "print(s)"
   ]
  },
  {
   "cell_type": "markdown",
   "metadata": {},
   "source": [
    "# Classes"
   ]
  },
  {
   "cell_type": "markdown",
   "metadata": {},
   "source": [
    "### Decorators"
   ]
  },
  {
   "cell_type": "code",
   "execution_count": 1,
   "metadata": {},
   "outputs": [],
   "source": [
    "# Property decorator\n",
    "# https://www.programiz.com/python-programming/property\n",
    "\n",
    "class Celsius:\n",
    "    def __init__(self, temperature = 0):\n",
    "        self._temperature = temperature\n",
    "\n",
    "    def to_fahrenheit(self):\n",
    "        return (self.temperature * 1.8) + 32\n",
    "\n",
    "    @property\n",
    "    def temperature(self):\n",
    "        print(\"Getting value\")\n",
    "        return self._temperature\n",
    "\n",
    "    @temperature.setter\n",
    "    def temperature(self, value):\n",
    "        if value < -273:\n",
    "            raise ValueError(\"Temperature below -273 is not possible\")\n",
    "        print(\"Setting value\")\n",
    "        self._temperature = value"
   ]
  },
  {
   "cell_type": "code",
   "execution_count": 2,
   "metadata": {},
   "outputs": [
    {
     "name": "stdout",
     "output_type": "stream",
     "text": [
      "this is before func\n",
      "2\n",
      "this is after func\n"
     ]
    }
   ],
   "source": [
    "import functools\n",
    "\n",
    "def decorator(func):\n",
    "    @functools.wraps(func)\n",
    "    def wrapper_decorator(*args, **kwargs):\n",
    "        # Do something before\n",
    "        print('this is before func')\n",
    "        \n",
    "        value = func(*args, **kwargs)\n",
    "        print(value)\n",
    "        \n",
    "        # Do something after\n",
    "        print('this is after func')\n",
    "        \n",
    "        return value\n",
    "    return wrapper_decorator\n",
    "\n",
    "@decorator\n",
    "def summer(*args, **kwargs):\n",
    "    summation = sum(args)\n",
    "    # for num in args:\n",
    "    #     sum += num\n",
    "    return summation\n",
    "\n",
    "@decorator\n",
    "def summer2(x: int, y: int) -> float:\n",
    "    return x%y\n",
    "\n",
    "a = summer2(5, 3)"
   ]
  },
  {
   "cell_type": "markdown",
   "metadata": {},
   "source": [
    "# Strings"
   ]
  },
  {
   "cell_type": "markdown",
   "metadata": {},
   "source": [
    "### String replace"
   ]
  },
  {
   "cell_type": "code",
   "execution_count": 1,
   "metadata": {},
   "outputs": [
    {
     "name": "stdout",
     "output_type": "stream",
     "text": [
      "_u_v\n"
     ]
    }
   ],
   "source": [
    "import re\n",
    "s = \"_u1_v1\"\n",
    "print(re.sub('\\d', '', s))"
   ]
  },
  {
   "cell_type": "markdown",
   "metadata": {},
   "source": [
    "# Misc"
   ]
  },
  {
   "cell_type": "markdown",
   "metadata": {},
   "source": [
    "### Zip"
   ]
  },
  {
   "cell_type": "code",
   "execution_count": 6,
   "metadata": {},
   "outputs": [
    {
     "name": "stdout",
     "output_type": "stream",
     "text": [
      "<class 'zip'>\n",
      "[(1, 6, 11), (2, 7, 12), (3, 8, 13), (4, 9, 14), (5, 10, 15)]\n",
      "[(1, 6, 11), (2, 7, 12), (3, 8, 13)]\n"
     ]
    }
   ],
   "source": [
    "# takes two or more sequences or iterables, takes 1st from each, forms tuple and returns zip object \n",
    "zip_generator = zip([1,2,3,4,5], [6,7,8,9,10], [11, 12, 13, 14, 15])\n",
    "print(type(zip_generator))\n",
    "\n",
    "# can make list of zip object\n",
    "print(list(zip_generator))\n",
    "\n",
    "# if unequal number of objects, takes lowest\n",
    "zip_generator = zip([1,2,3], [6,7,8,9,10], [11, 12, 13, 14, 15])\n",
    "print(list(zip_generator))"
   ]
  },
  {
   "cell_type": "code",
   "execution_count": 9,
   "metadata": {},
   "outputs": [
    {
     "name": "stdout",
     "output_type": "stream",
     "text": [
      "(1, 6) (2, 7) (3, 8) (4, 9) (5, 10)\n"
     ]
    }
   ],
   "source": [
    "zip_generator = zip([1,2,3,4,5], [6,7,8,9,10])\n",
    "\n",
    "# The single star * unpacks a collection into positional arguments\n",
    "print(*zip_generator)"
   ]
  },
  {
   "cell_type": "markdown",
   "metadata": {},
   "source": [
    "### Map"
   ]
  },
  {
   "cell_type": "code",
   "execution_count": 1,
   "metadata": {},
   "outputs": [
    {
     "name": "stdout",
     "output_type": "stream",
     "text": [
      "<class 'int'>\n",
      "<class 'str'>\n"
     ]
    }
   ],
   "source": [
    "a = [1, 2, 3]\n",
    "print(type(a[0]))\n",
    "\n",
    "a = list(map(str, a))\n",
    "print(type(a[0]))\n"
   ]
  },
  {
   "cell_type": "markdown",
   "metadata": {},
   "source": [
    "### All"
   ]
  },
  {
   "cell_type": "code",
   "execution_count": 4,
   "metadata": {},
   "outputs": [
    {
     "name": "stdout",
     "output_type": "stream",
     "text": [
      "False\n",
      "True\n"
     ]
    }
   ],
   "source": [
    "a = [True, True, False]\n",
    "print(all(a))\n",
    "\n",
    "a = [True, True, True]\n",
    "print(all(a))"
   ]
  },
  {
   "cell_type": "markdown",
   "metadata": {},
   "source": [
    "### Isinstance"
   ]
  },
  {
   "cell_type": "code",
   "execution_count": 6,
   "metadata": {},
   "outputs": [
    {
     "data": {
      "text/plain": [
       "True"
      ]
     },
     "execution_count": 6,
     "metadata": {},
     "output_type": "execute_result"
    }
   ],
   "source": [
    "isinstance('a', str)"
   ]
  },
  {
   "cell_type": "markdown",
   "metadata": {},
   "source": [
    "# Range"
   ]
  },
  {
   "cell_type": "code",
   "execution_count": 1,
   "metadata": {},
   "outputs": [],
   "source": [
    "a = range(5)"
   ]
  },
  {
   "cell_type": "code",
   "execution_count": 7,
   "metadata": {},
   "outputs": [],
   "source": [
    "b = [k for k in range(0, -5, -1)]"
   ]
  },
  {
   "cell_type": "code",
   "execution_count": 8,
   "metadata": {},
   "outputs": [
    {
     "data": {
      "text/plain": [
       "[0, -1, -2, -3, -4]"
      ]
     },
     "execution_count": 8,
     "metadata": {},
     "output_type": "execute_result"
    }
   ],
   "source": [
    "b"
   ]
  },
  {
   "cell_type": "markdown",
   "metadata": {},
   "source": [
    "# Files"
   ]
  },
  {
   "cell_type": "code",
   "execution_count": 9,
   "metadata": {},
   "outputs": [],
   "source": [
    "fitness = open ('D:/MyDocuments/Notes/fitness.csv', 'r')"
   ]
  },
  {
   "cell_type": "code",
   "execution_count": 11,
   "metadata": {},
   "outputs": [
    {
     "data": {
      "text/plain": [
       "'D:/MyDocuments/Notes/fitness.csv'"
      ]
     },
     "execution_count": 11,
     "metadata": {},
     "output_type": "execute_result"
    }
   ],
   "source": [
    "fitness.name"
   ]
  },
  {
   "cell_type": "code",
   "execution_count": 12,
   "metadata": {},
   "outputs": [],
   "source": [
    "fitness_content = fitness.read()"
   ]
  },
  {
   "cell_type": "code",
   "execution_count": 13,
   "metadata": {},
   "outputs": [
    {
     "data": {
      "text/plain": [
       "\"Date,Exercise,Set Number,Weight,Unit,Rep,Notes\\n2017-03-14,Squat,1,25,KG,5,Good form\\n2017-03-14,Squat,2,25,KG,5,Good form\\n2017-03-14,Squat,3,25,KG,5,Good form\\n2017-03-14,Overhead press,1,20,KG,5,Good form\\n2017-03-14,Overhead press,2,20,KG,5,Good form\\n2017-03-14,Overhead press,3,20,KG,5,Good form\\n2017-03-14,Deadlift,1,40,KG,5,Good form\\n2019-05-16,Squat,1,20,KG,5,Good form\\n2019-05-16,Squat,2,35,KG,5,Good form\\n2019-05-16,Squat,3,40,KG,5,Good form\\n2019-05-16,Deadlift,1,40,KG,5,Good form\\n2019-05-16,Deadlift,2,40,KG,5,Okay form\\n2019-05-16,Deadlift,3,40,KG,5,Okay form\\n2019-05-16,Curl,1,8,KG,8,Good form\\n2019-05-16,Curl,2,10,KG,8,Good form\\n2019-05-16,Curl,3,10,KG,6,Good form\\n2019-05-16,Benchpress,1,30,KG,5,Good form\\n2019-05-16,Benchpress,2,30,KG,5,Good form\\n2019-05-16,Benchpress,3,30,KG,5,Good form\\n2019-05-16,Farmer's walk,1,20,KG,,Good form\\n2019-05-16,Farmer's walk,2,20,KG,,Good form\\n2019-05-16,Farmer's walk,3,20,KG,,Good form\\n2019-05-16,Plank,1,30,sec,,Good form\\n2019-05-16,Plank,2,30,sec,,Good form\\n2019-05-16,Plank,3,30,sec,,Good form\\n2019-05-18,Squat,1,40,KG,5,Good form\\n2019-05-18,Squat,2,40,KG,5,Good form\\n2019-05-18,Squat,3,40,KG,5,Good form\\n2019-05-18,Deadlift,1,40,KG,5,Good form\\n2019-05-18,Deadlift,2,40,KG,5,Good form\\n2019-05-18,Deadlift,3,40,KG,5,Good form\\n2019-05-18,Curl,1,10,KG,8,Good form\\n2019-05-18,Curl,2,10,KG,5,Good form\\n2019-05-18,Curl,3,10,KG,4,Good form\\n2019-05-18,Overhead press,1,20,KG,5,Good form\\n2019-05-18,Overhead press,2,20,KG,5,Good form\\n2019-05-18,Overhead press,3,20,KG,5,Good form\\n2019-05-18,Farmer's walk,1,24,KG,,Good form\\n2019-05-18,Farmer's walk,2,24,KG,,Good form\\n2019-05-18,Farmer's walk,3,24,KG,,Good form\\n2019-05-18,Plank,1,60,sec,,Good form\\n2019-05-18,Plank,2,45,sec,,Good form\\n2019-05-18,Plank,3,35,sec,,Good form\\n\""
      ]
     },
     "execution_count": 13,
     "metadata": {},
     "output_type": "execute_result"
    }
   ],
   "source": [
    "fitness_content"
   ]
  },
  {
   "cell_type": "code",
   "execution_count": 14,
   "metadata": {},
   "outputs": [],
   "source": [
    "%config Completer.use_jedi = False"
   ]
  },
  {
   "cell_type": "code",
   "execution_count": 15,
   "metadata": {},
   "outputs": [
    {
     "data": {
      "text/plain": [
       "\"Date,Exercise,Set Number,Weight,Unit,Rep,Notes\\n2017-03-14,Squat,1,25,KG,5,Good form\\n2017-03-14,Squat,2,25,KG,5,Good form\\n2017-03-14,Squat,3,25,KG,5,Good form\\n2017-03-14,Overhead press,1,20,KG,5,Good form\\n2017-03-14,Overhead press,2,20,KG,5,Good form\\n2017-03-14,Overhead press,3,20,KG,5,Good form\\n2017-03-14,Deadlift,1,40,KG,5,Good form\\n2019-05-16,Squat,1,20,KG,5,Good form\\n2019-05-16,Squat,2,35,KG,5,Good form\\n2019-05-16,Squat,3,40,KG,5,Good form\\n2019-05-16,Deadlift,1,40,KG,5,Good form\\n2019-05-16,Deadlift,2,40,KG,5,Okay form\\n2019-05-16,Deadlift,3,40,KG,5,Okay form\\n2019-05-16,Curl,1,8,KG,8,Good form\\n2019-05-16,Curl,2,10,KG,8,Good form\\n2019-05-16,Curl,3,10,KG,6,Good form\\n2019-05-16,Benchpress,1,30,KG,5,Good form\\n2019-05-16,Benchpress,2,30,KG,5,Good form\\n2019-05-16,Benchpress,3,30,KG,5,Good form\\n2019-05-16,Farmer's walk,1,20,KG,,Good form\\n2019-05-16,Farmer's walk,2,20,KG,,Good form\\n2019-05-16,Farmer's walk,3,20,KG,,Good form\\n2019-05-16,Plank,1,30,sec,,Good form\\n2019-05-16,Plank,2,30,sec,,Good form\\n2019-05-16,Plank,3,30,sec,,Good form\\n2019-05-18,Squat,1,40,KG,5,Good form\\n2019-05-18,Squat,2,40,KG,5,Good form\\n2019-05-18,Squat,3,40,KG,5,Good form\\n2019-05-18,Deadlift,1,40,KG,5,Good form\\n2019-05-18,Deadlift,2,40,KG,5,Good form\\n2019-05-18,Deadlift,3,40,KG,5,Good form\\n2019-05-18,Curl,1,10,KG,8,Good form\\n2019-05-18,Curl,2,10,KG,5,Good form\\n2019-05-18,Curl,3,10,KG,4,Good form\\n2019-05-18,Overhead press,1,20,KG,5,Good form\\n2019-05-18,Overhead press,2,20,KG,5,Good form\\n2019-05-18,Overhead press,3,20,KG,5,Good form\\n2019-05-18,Farmer's walk,1,24,KG,,Good form\\n2019-05-18,Farmer's walk,2,24,KG,,Good form\\n2019-05-18,Farmer's walk,3,24,KG,,Good form\\n2019-05-18,Plank,1,60,sec,,Good form\\n2019-05-18,Plank,2,45,sec,,Good form\\n2019-05-18,Plank,3,35,sec,,Good form\\n\""
      ]
     },
     "execution_count": 15,
     "metadata": {},
     "output_type": "execute_result"
    }
   ],
   "source": [
    "fitness_content"
   ]
  },
  {
   "cell_type": "code",
   "execution_count": 16,
   "metadata": {},
   "outputs": [],
   "source": [
    "fitness.close()"
   ]
  },
  {
   "cell_type": "code",
   "execution_count": 26,
   "metadata": {},
   "outputs": [
    {
     "name": "stdout",
     "output_type": "stream",
     "text": [
      "Date,Exercise,Set Number,Weight,Unit,Rep,Notes\n",
      "\n",
      "2017-03-14,Squat,1,25,KG,5,Good form\n",
      "\n",
      "2017-03-14,Squat,2,25,KG,5,Good form\n",
      "\n",
      "2017-03-14,Squat,3,25,KG,5,Good form\n",
      "\n",
      "2017-03-14,Overhead press,1,20,KG,5,Good form\n",
      "\n",
      "2017-03-14,Overhead press,2,20,KG,5,Good form\n",
      "\n",
      "2017-03-14,Overhead press,3,20,KG,5,Good form\n",
      "\n",
      "2017-03-14,Deadlift,1,40,KG,5,Good form\n",
      "\n",
      "2019-05-16,Squat,1,20,KG,5,Good form\n",
      "\n",
      "2019-05-16,Squat,2,35,KG,5,Good form\n",
      "\n",
      "2019-05-16,Squat,3,40,KG,5,Good form\n",
      "\n",
      "2019-05-16,Deadlift,1,40,KG,5,Good form\n",
      "\n",
      "2019-05-16,Deadlift,2,40,KG,5,Okay form\n",
      "\n"
     ]
    }
   ],
   "source": [
    "with open ('D:/MyDocuments/Notes/fitness.csv', 'r') as fitness:\n",
    "    for line in fitness.readlines(500):\n",
    "        print(line)\n",
    "#     print(fitness.readlines(10))"
   ]
  },
  {
   "cell_type": "code",
   "execution_count": null,
   "metadata": {},
   "outputs": [],
   "source": []
  }
 ],
 "metadata": {
  "kernelspec": {
   "display_name": "Python 3",
   "language": "python",
   "name": "python3"
  },
  "language_info": {
   "codemirror_mode": {
    "name": "ipython",
    "version": 3
   },
   "file_extension": ".py",
   "mimetype": "text/x-python",
   "name": "python",
   "nbconvert_exporter": "python",
   "pygments_lexer": "ipython3",
   "version": "3.8.3"
  }
 },
 "nbformat": 4,
 "nbformat_minor": 4
}
