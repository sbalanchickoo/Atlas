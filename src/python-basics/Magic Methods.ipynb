{
 "cells": [
  {
   "cell_type": "code",
   "execution_count": 1,
   "metadata": {},
   "outputs": [],
   "source": [
    "# Str Repr magic method\n",
    "# str() is used for creating output for end user while repr() is mainly used for debugging and development. \n",
    "# repr’s goal is to be unambiguous and str’s is to be readable. \n",
    "# For example, if we suspect a float has a small rounding error, repr will show us while str may not.\n",
    "\n",
    "class Vehicle:\n",
    "    \n",
    "    def __init__(self, vid, vtype):\n",
    "        self.vid = vid\n",
    "        self.vtype = vtype\n",
    "\n",
    "    def __repr__(self):\n",
    "        return 'Vehicle ID: ' + str(self.vid) + '; Vehicle Type: ' + self.vtype\n",
    "    \n",
    "    def __str__(self):\n",
    "        return 'Vehicle Type: ' + self.vtype"
   ]
  },
  {
   "cell_type": "code",
   "execution_count": 3,
   "metadata": {},
   "outputs": [
    {
     "name": "stdout",
     "output_type": "stream",
     "text": [
      "repr: Vehicle ID: 1; Vehicle Type: car\n",
      "str: Vehicle Type: car\n"
     ]
    }
   ],
   "source": [
    "d = Vehicle(1, 'car')\n",
    "print(\"repr: {}\".format(repr(d)))\n",
    "print(\"str: {}\".format(str(d)))"
   ]
  },
  {
   "cell_type": "code",
   "execution_count": null,
   "metadata": {},
   "outputs": [],
   "source": []
  }
 ],
 "metadata": {
  "kernelspec": {
   "display_name": "Python 3",
   "language": "python",
   "name": "python3"
  },
  "language_info": {
   "codemirror_mode": {
    "name": "ipython",
    "version": 3
   },
   "file_extension": ".py",
   "mimetype": "text/x-python",
   "name": "python",
   "nbconvert_exporter": "python",
   "pygments_lexer": "ipython3",
   "version": "3.7.3"
  }
 },
 "nbformat": 4,
 "nbformat_minor": 2
}
