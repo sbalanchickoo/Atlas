{
 "cells": [
  {
   "cell_type": "code",
   "execution_count": 1,
   "metadata": {},
   "outputs": [
    {
     "name": "stdout",
     "output_type": "stream",
     "text": [
      "Environment set to [Kaggle]\n",
      "/kaggle/input/ashrae-train-1-0/df_train_filled.csv.gz\n",
      "/kaggle/input/ashrae-train-1-0/__output__.json\n",
      "/kaggle/input/ashrae-train-1-0/custom.css\n",
      "/kaggle/input/ashrae-train-1-0/__results__.html\n",
      "/kaggle/input/ashrae-train-1-0/__notebook__.ipynb\n",
      "/kaggle/input/ashrae-test-1-0/df_test_filled.csv.gz\n",
      "/kaggle/input/ashrae-test-1-0/__output__.json\n",
      "/kaggle/input/ashrae-test-1-0/custom.css\n",
      "/kaggle/input/ashrae-test-1-0/__results__.html\n",
      "/kaggle/input/ashrae-test-1-0/__notebook__.ipynb\n"
     ]
    }
   ],
   "source": [
    "# System imports\n",
    "import copy\n",
    "import json\n",
    "import os\n",
    "import numpy as np\n",
    "import pandas as pd\n",
    "import ashrae_scripts as scp\n",
    "import gc\n",
    "import warnings\n",
    "warnings.simplefilter(action='ignore', category=FutureWarning)\n",
    "\n",
    "# Utilities\n",
    "from sklearn.preprocessing import OneHotEncoder, LabelEncoder\n",
    "\n",
    "dir = !ls -a\n",
    "dir = !dir /b\n",
    "output_compression_type = 'gzip'\n",
    "if ('kernel-metadata.json' in dir):\n",
    "    # Local environment\n",
    "    src = 'Local'\n",
    "    compression_type = 'gzip'\n",
    "    data_folder = '../../../data/'\n",
    "    output_folder = '../../../data/'\n",
    "else:\n",
    "    # Kaggle environment\n",
    "    src = 'Kaggle'\n",
    "    compression_type = None\n",
    "    data_folder = '../input/'\n",
    "    output_folder = ''\n",
    "df_path = data_folder + 'ashrae-train-1-0/' + 'df_train_filled.csv.gz'\n",
    "df_test_path = data_folder + 'ashrae-test-1-0/' + 'df_test_filled.csv.gz'\n",
    "    \n",
    "        \n",
    "print('Environment set to [{env}]'.format(env=src))\n",
    "# Input data files are available in the \"../input/\" directory.\n",
    "# For example, running this (by clicking run or pressing Shift+Enter) will list all files under the input directory\n",
    "\n",
    "for dirname, _, filenames in os.walk('/kaggle/input'):\n",
    "    for filename in filenames:\n",
    "        print(os.path.join(dirname, filename))\n",
    "\n",
    "# Any results you write to the current directory are saved as output."
   ]
  },
  {
   "cell_type": "code",
   "execution_count": 2,
   "metadata": {},
   "outputs": [],
   "source": [
    "debug = False\n",
    "if debug:\n",
    "    rows = 1000\n",
    "else:\n",
    "    rows = None"
   ]
  },
  {
   "cell_type": "code",
   "execution_count": 3,
   "metadata": {},
   "outputs": [],
   "source": [
    "cols = ['building_id', 'site_id', 'meter', 'primary_use', 'timestamp', 'square_feet', 'floor_count', 'year_built']\n",
    "time_cols = ['month', 'day', 'hour', 'day_of_week']\n",
    "bool_cols = ['weekend', 'night']\n",
    "target_col = ['meter_reading']\n",
    "weather_cols = ['precip_depth_1_hr', 'wind_direction', 'wind_speed', 'sea_level_pressure', 'dew_temperature', 'air_temperature', 'cloud_coverage']\n",
    "row_col = ['row_id']\n",
    "\n",
    "# Dtypes\n",
    "dtype_cols = {'building_id': 'int16', 'site_id': 'int8', 'meter': 'int8', 'primary_use': 'category', 'square_feet': 'float64', 'floor_count': 'int8', 'year_built': 'int16'}\n",
    "dtype_time_cols = {col: 'int8' for col in time_cols}\n",
    "dtype_bool_cols = {col: 'int8' for col in bool_cols}\n",
    "dtype_target_col = {'meter_reading': 'float64'}\n",
    "dtype_weather_cols = {col: 'float16' for col in weather_cols}"
   ]
  },
  {
   "cell_type": "code",
   "execution_count": 4,
   "metadata": {},
   "outputs": [],
   "source": [
    "df_cols = cols + time_cols + bool_cols + target_col + weather_cols\n",
    "dtype = {}\n",
    "dtype.update(dtype_cols)\n",
    "dtype.update(dtype_time_cols)\n",
    "dtype.update(dtype_bool_cols)\n",
    "dtype.update(dtype_target_col)\n",
    "dtype.update(dtype_weather_cols)"
   ]
  },
  {
   "cell_type": "code",
   "execution_count": 5,
   "metadata": {},
   "outputs": [],
   "source": [
    "df = pd.read_csv(df_path\n",
    "                 , dtype=dtype\n",
    "                 , parse_dates=['timestamp']\n",
    "                 , nrows=rows\n",
    "                 , usecols=df_cols)"
   ]
  },
  {
   "cell_type": "code",
   "execution_count": 6,
   "metadata": {},
   "outputs": [],
   "source": [
    "# Apply label encoder \n",
    "label_encoder = LabelEncoder()\n",
    "label_cols = ['primary_use']\n",
    "for col in label_cols:\n",
    "    df[col] = label_encoder.fit_transform(df[col])"
   ]
  },
  {
   "cell_type": "code",
   "execution_count": 7,
   "metadata": {},
   "outputs": [],
   "source": [
    "df.to_csv('df_label_enc.csv.gz', index=False, compression='gzip')"
   ]
  },
  {
   "cell_type": "code",
   "execution_count": 8,
   "metadata": {},
   "outputs": [
    {
     "data": {
      "text/plain": [
       "22"
      ]
     },
     "execution_count": 8,
     "metadata": {},
     "output_type": "execute_result"
    }
   ],
   "source": [
    "del df\n",
    "gc.collect()"
   ]
  },
  {
   "cell_type": "code",
   "execution_count": 9,
   "metadata": {},
   "outputs": [],
   "source": [
    "df_test_cols = cols + time_cols + bool_cols + weather_cols + row_col\n",
    "dtype = {}\n",
    "dtype.update(dtype_cols)\n",
    "dtype.update(dtype_time_cols)\n",
    "dtype.update(dtype_bool_cols)\n",
    "dtype.update(dtype_target_col)\n",
    "dtype.update(dtype_weather_cols)"
   ]
  },
  {
   "cell_type": "code",
   "execution_count": 10,
   "metadata": {},
   "outputs": [],
   "source": [
    "df_test = pd.read_csv(df_test_path\n",
    "                 , dtype=dtype\n",
    "                 , parse_dates=['timestamp']\n",
    "                 , nrows=rows\n",
    "                 , usecols=df_test_cols)"
   ]
  },
  {
   "cell_type": "code",
   "execution_count": 11,
   "metadata": {},
   "outputs": [],
   "source": [
    "#np.iinfo('int16')\n",
    "#np.finfo('float16')"
   ]
  },
  {
   "cell_type": "code",
   "execution_count": 12,
   "metadata": {},
   "outputs": [],
   "source": [
    "for col in label_cols:\n",
    "    df_test[col] = label_encoder.transform(df_test[col])"
   ]
  },
  {
   "cell_type": "code",
   "execution_count": 13,
   "metadata": {},
   "outputs": [],
   "source": [
    "df_test.to_csv('df_test_label_enc.csv.gz', index=False, compression='gzip')"
   ]
  }
 ],
 "metadata": {
  "kernelspec": {
   "display_name": "Python 3",
   "language": "python",
   "name": "python3"
  },
  "language_info": {
   "codemirror_mode": {
    "name": "ipython",
    "version": 3
   },
   "file_extension": ".py",
   "mimetype": "text/x-python",
   "name": "python",
   "nbconvert_exporter": "python",
   "pygments_lexer": "ipython3",
   "version": "3.6.6"
  }
 },
 "nbformat": 4,
 "nbformat_minor": 1
}
