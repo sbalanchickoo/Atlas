{
 "cells": [
  {
   "cell_type": "code",
   "execution_count": 1,
   "metadata": {
    "_cell_guid": "b1076dfc-b9ad-4769-8c92-a6c4dae69d19",
    "_uuid": "8f2839f25d086af736a60e9eeb907d3b93b6e0e5"
   },
   "outputs": [
    {
     "name": "stderr",
     "output_type": "stream",
     "text": [
      "/opt/conda/lib/python3.6/site-packages/sklearn/externals/joblib/__init__.py:15: DeprecationWarning: sklearn.externals.joblib is deprecated in 0.21 and will be removed in 0.23. Please import this functionality directly from joblib, which can be installed with: pip install joblib. If this warning is raised when loading pickled models, you may need to re-serialize those models with scikit-learn 0.21+.\n",
      "  warnings.warn(msg, category=DeprecationWarning)\n"
     ]
    }
   ],
   "source": [
    "# System imports\n",
    "import copy, json, os, gc\n",
    "import numpy as np, pandas as pd\n",
    "import ashrae_scripts as scp\n",
    "import warnings\n",
    "warnings.simplefilter(action='ignore', category=FutureWarning)\n",
    "import matplotlib.pyplot as plt\n",
    "import seaborn as sns\n",
    "%matplotlib inline\n",
    "\n",
    "# Models\n",
    "from sklearn.ensemble import RandomForestRegressor, ExtraTreesRegressor, AdaBoostRegressor\n",
    "from sklearn.tree import DecisionTreeRegressor\n",
    "from xgboost import XGBRegressor\n",
    "from sklearn.neighbors import KNeighborsRegressor\n",
    "from sklearn.svm import SVC\n",
    "from sklearn.linear_model import LogisticRegression\n",
    "import lightgbm as lgb\n",
    "\n",
    "# Utilities\n",
    "from sklearn.metrics import accuracy_score, mean_squared_log_error\n",
    "from sklearn.model_selection import train_test_split, cross_val_score, KFold, GridSearchCV\n",
    "from sklearn.pipeline import Pipeline\n",
    "from sklearn.feature_selection import SelectKBest, chi2\n",
    "from sklearn.externals import joblib"
   ]
  },
  {
   "cell_type": "code",
   "execution_count": 2,
   "metadata": {
    "_cell_guid": "b1076dfc-b9ad-4769-8c92-a6c4dae69d19",
    "_uuid": "8f2839f25d086af736a60e9eeb907d3b93b6e0e5"
   },
   "outputs": [
    {
     "name": "stdout",
     "output_type": "stream",
     "text": [
      "Environment set to [Kaggle]\n",
      "/kaggle/input/ashrae-train-test-1-0/__results__.html\n",
      "/kaggle/input/ashrae-train-test-1-0/custom.css\n",
      "/kaggle/input/ashrae-train-test-1-0/__notebook__.ipynb\n",
      "/kaggle/input/ashrae-train-test-1-0/df_test_label_enc.csv.gz\n",
      "/kaggle/input/ashrae-train-test-1-0/__output__.json\n",
      "/kaggle/input/ashrae-train-test-1-0/df_label_enc.csv.gz\n",
      "/kaggle/input/ashrae-energy-prediction/train.csv\n",
      "/kaggle/input/ashrae-energy-prediction/building_metadata.csv\n",
      "/kaggle/input/ashrae-energy-prediction/sample_submission.csv\n",
      "/kaggle/input/ashrae-energy-prediction/weather_test.csv\n",
      "/kaggle/input/ashrae-energy-prediction/weather_train.csv\n",
      "/kaggle/input/ashrae-energy-prediction/test.csv\n"
     ]
    }
   ],
   "source": [
    "dir = !ls -a\n",
    "dir = !dir /b\n",
    "output_compression_type = 'gzip'\n",
    "if ('kernel-metadata.json' in dir):\n",
    "    # Local environment\n",
    "    src = 'Local'\n",
    "    compression_type = 'gzip'\n",
    "    data_folder = '../../../data/'\n",
    "    output_folder = '../../../data/'\n",
    "    df_path = data_folder + 'ashrae-train-test-1-0/df_label_enc.csv.gz'\n",
    "    df_test_path = data_folder + 'ashrae-train-test-1-0/df_test_label_enc.csv.gz'\n",
    "else:\n",
    "    # Kaggle environment\n",
    "    src = 'Kaggle'\n",
    "    compression_type = None\n",
    "    data_folder = '../input/'\n",
    "    output_folder = ''\n",
    "    df_path = data_folder + 'ashrae-train-test-1-0/df_label_enc.csv.gz'\n",
    "    df_test_path = data_folder + 'ashrae-train-test-1-0/df_test_label_enc.csv.gz'\n",
    "       \n",
    "print('Environment set to [{env}]'.format(env=src))\n",
    "# Input data files are available in the \"../input/\" directory.\n",
    "# For example, running this (by clicking run or pressing Shift+Enter) will list all files under the input directory\n",
    "\n",
    "for dirname, _, filenames in os.walk('/kaggle/input'):\n",
    "    for filename in filenames:\n",
    "        print(os.path.join(dirname, filename))\n",
    "\n",
    "# Any results you write to the current directory are saved as output."
   ]
  },
  {
   "cell_type": "code",
   "execution_count": 3,
   "metadata": {},
   "outputs": [],
   "source": [
    "debug = False\n",
    "predict_train = False\n",
    "predict_test = True\n",
    "generate_putput = True\n",
    "if debug:\n",
    "    rows = 1000\n",
    "    num_round = 1000\n",
    "else:\n",
    "    rows = None\n",
    "    num_round = 10000"
   ]
  },
  {
   "cell_type": "code",
   "execution_count": 4,
   "metadata": {
    "_cell_guid": "79c7e3d0-c299-4dcb-8224-4455121ee9b0",
    "_uuid": "d629ff2d2480ee46fbb7e2d37f6b5fab8052498a"
   },
   "outputs": [],
   "source": [
    "dtype = {'building_id': 'int16'\n",
    "         , 'meter': 'int8'\n",
    "         , 'site_id': 'int8'\n",
    "         , 'primary_use': 'int8'\n",
    "         , 'year_built': 'int16'\n",
    "         , 'floor_count': 'int8'\n",
    "         , 'air_temperature': 'float16'\n",
    "         , 'cloud_coverage': 'float16'\n",
    "         , 'dew_temperature': 'float16'\n",
    "         , 'precip_depth_1_hr': 'float16'\n",
    "         , 'sea_level_pressure': 'float16'\n",
    "         , 'wind_direction': 'float16'\n",
    "         , 'wind_speed': 'float16'\n",
    "         , 'meter_reading': 'float16'\n",
    "         , 'square_feet': 'float64'\n",
    "         , 'month': 'int8'\n",
    "         , 'day': 'int8'\n",
    "         , 'hour': 'int8'\n",
    "         , 'day_of_week': 'int8'\n",
    "         , 'weekend': 'int8'\n",
    "         , 'night': 'int8'\n",
    "        }\n",
    "df = pd.read_csv(df_path\n",
    "                 , dtype=dtype\n",
    "                 , parse_dates=['timestamp']\n",
    "                 , nrows=rows)"
   ]
  },
  {
   "cell_type": "code",
   "execution_count": 5,
   "metadata": {
    "_cell_guid": "79c7e3d0-c299-4dcb-8224-4455121ee9b0",
    "_uuid": "d629ff2d2480ee46fbb7e2d37f6b5fab8052498a"
   },
   "outputs": [],
   "source": [
    "df.drop(df[df['meter_reading']==np.inf].index, axis=0, inplace=True)"
   ]
  },
  {
   "cell_type": "code",
   "execution_count": 6,
   "metadata": {},
   "outputs": [],
   "source": [
    "# df_temp = pd.DataFrame([[1900, 'a'], [2000, 'a'], [2100, 'b'], [2200, 'b'], [np.NaN, 'a'], [np.NaN, 'b']]\n",
    "#                       , columns=['year', 'site'])\n",
    "# df_temp\n",
    "# grouper = 'site'\n",
    "# col = 'year'\n",
    "# df_temp = scp.fill_by_group('year', 'site', df_temp)\n",
    "# df_temp\n",
    "# df1 = df_temp.groupby(grouper)[col].mean().round(0)\n",
    "# df1 = df1[df1.notnull()]\n",
    "# df1 = df1.reset_index()\n",
    "# df_input = df_input.merge(df1, left_on=grouper, right_on=grouper, how='left')\n",
    "# col_x = col + '_x'\n",
    "# col_y = col + '_y'\n",
    "# print(col_x)\n",
    "# df_input[col_x].fillna(df_input[col_y])\n",
    "# df_input = df_input.rename(columns={col_x: col})\n",
    "# df_input.drop([col_y], 1, inplace=True)\n",
    "# df_temp"
   ]
  },
  {
   "cell_type": "code",
   "execution_count": 7,
   "metadata": {},
   "outputs": [],
   "source": [
    "# df_subset = df[['meter_reading_000'\n",
    "#                 , 'timestamp', 'site_id', 'primary_use', 'year_built']]\n",
    "\n",
    "# corrmat = df_subset.corr()\n",
    "# top_corr_features = corrmat.index\n",
    "# plt.figure(figsize=(5,5))\n",
    "# g=sns.heatmap(df_subset[top_corr_features].corr(),annot=True,cmap=\"RdYlGn\")"
   ]
  },
  {
   "cell_type": "code",
   "execution_count": 8,
   "metadata": {},
   "outputs": [],
   "source": [
    "feature_cols = ['building_id', 'meter', 'site_id', 'primary_use', 'year_built', 'floor_count'\n",
    "                , 'air_temperature', 'cloud_coverage','dew_temperature', 'precip_depth_1_hr'\n",
    "                , 'sea_level_pressure','wind_direction', 'wind_speed', 'square_feet','month'\n",
    "                , 'day', 'hour', 'day_of_week', 'weekend', 'night']\n",
    "target_col = 'meter_reading'\n",
    "min_val = df[target_col].min()\n",
    "max_val = df[target_col].max()\n",
    "X = df[feature_cols]\n",
    "y = df[target_col]"
   ]
  },
  {
   "cell_type": "code",
   "execution_count": 9,
   "metadata": {},
   "outputs": [],
   "source": [
    "if predict_train:\n",
    "    X_train, X_val, y_train, y_val = train_test_split(X, y, test_size=0.2, train_size=0.8)"
   ]
  },
  {
   "cell_type": "code",
   "execution_count": 10,
   "metadata": {},
   "outputs": [],
   "source": [
    "def rmsle(preds, train_data):\n",
    "    labels = train_data.get_label()\n",
    "    preds = np.clip(preds, min_val, max_val)\n",
    "    return 'RMSLE', np.sqrt(np.mean(np.power(np.log1p(preds) - np.log1p(labels), 2))), False"
   ]
  },
  {
   "cell_type": "code",
   "execution_count": 11,
   "metadata": {},
   "outputs": [],
   "source": [
    "params = {\n",
    "        'boosting_type': 'gbdt',\n",
    "        'objective': 'regression',\n",
    "        'metrics': 'rmse',\n",
    "        'num_leaves': 31,\n",
    "        'learning_rate': 0.05,\n",
    "        'feature_fraction': 0.9,\n",
    "        'bagging_fraction': 0.8,\n",
    "        'bagging_freq': 5,\n",
    "        'verbose': 0\n",
    "    }"
   ]
  },
  {
   "cell_type": "code",
   "execution_count": 12,
   "metadata": {},
   "outputs": [],
   "source": [
    "if predict_train:\n",
    "    lgb_train = lgb.Dataset(X_train, y_train)\n",
    "    lgb_val = lgb.Dataset(X_val, y_val)\n",
    "    # specify your configurations as a dict\n",
    "    print('Starting training with custom eval function...')\n",
    "    # train\n",
    "    gbm = lgb.train(params=params\n",
    "                    , train_set=lgb_train\n",
    "                    , num_boost_round=num_round\n",
    "                    , valid_sets=lgb_val\n",
    "                    #, feval=rmsle)\n",
    "                    , early_stopping_rounds=100)"
   ]
  },
  {
   "cell_type": "code",
   "execution_count": 13,
   "metadata": {},
   "outputs": [],
   "source": [
    "if predict_train:\n",
    "    y_pred = gbm.predict(X_val, num_iteration=gbm.best_iteration)\n",
    "    y_pred = np.clip(y_pred, min_val, max_val)"
   ]
  },
  {
   "cell_type": "code",
   "execution_count": 14,
   "metadata": {},
   "outputs": [],
   "source": [
    "if predict_train:\n",
    "    rmsle = mean_squared_log_error(y_val, y_pred)**0.5\n",
    "    print('Mean square log error: {:.2f}'.format(rmsle))"
   ]
  },
  {
   "cell_type": "code",
   "execution_count": 15,
   "metadata": {},
   "outputs": [],
   "source": [
    "# params = {\n",
    "#     'boosting_type': 'gbdt',\n",
    "#     'objective': 'regression',\n",
    "#     'metrics': 'rmsle',\n",
    "#     'num_leaves': 31,\n",
    "#     'learning_rate': 0.05,\n",
    "#     'feature_fraction': 0.9,\n",
    "#     'bagging_fraction': 0.8,\n",
    "#     'bagging_freq': 5,\n",
    "#     'verbose': 0\n",
    "# }\n",
    "# def rmsle(y_true, y_pred):\n",
    "#     y_pred = np.clip(y_pred, min_val, max_val)\n",
    "#     return 'RMSLE', np.sqrt(np.mean(np.power(np.log1p(y_pred) - np.log1p(y_true), 2))), False\n",
    "\n",
    "# gbm = lgb.LGBMRegressor(boosting_type='gbdt', objective='regression', num_boost_round=10000, bagging_freq=5)\n",
    "# gbm.fit(X_train, y_train,\n",
    "#         eval_set=[(X_val, y_val)],\n",
    "#         eval_metric='rmsle',\n",
    "#         early_stopping_rounds=100)\n",
    "\n",
    "# y_pred_fit = gbm.predict(X_val)"
   ]
  },
  {
   "cell_type": "code",
   "execution_count": 16,
   "metadata": {},
   "outputs": [
    {
     "data": {
      "text/plain": [
       "11"
      ]
     },
     "execution_count": 16,
     "metadata": {},
     "output_type": "execute_result"
    }
   ],
   "source": [
    "del df\n",
    "if predict_train:\n",
    "    del X_train\n",
    "    del y_train\n",
    "    del X_val\n",
    "    del y_val\n",
    "if not predict_test:\n",
    "    del X\n",
    "    del y\n",
    "gc.collect()"
   ]
  },
  {
   "cell_type": "code",
   "execution_count": 17,
   "metadata": {},
   "outputs": [],
   "source": [
    "# save model\n",
    "# joblib.dump(gbm, 'lgb.pkl')\n",
    "# # load model\n",
    "# gbm_pickle = joblib.load('lgb.pkl')"
   ]
  },
  {
   "cell_type": "code",
   "execution_count": 18,
   "metadata": {},
   "outputs": [],
   "source": [
    "if predict_test:\n",
    "    dtype = {'building_id': 'int16'\n",
    "             , 'row_id': 'int64'\n",
    "             , 'meter': 'int8'\n",
    "             , 'site_id': 'int8'\n",
    "             , 'primary_use': 'int8'\n",
    "             , 'year_built': 'int16'\n",
    "             , 'floor_count': 'int8'\n",
    "             , 'air_temperature': 'float16'\n",
    "             , 'cloud_coverage': 'float16'\n",
    "             , 'dew_temperature': 'float16'\n",
    "             , 'precip_depth_1_hr': 'float16'\n",
    "             , 'sea_level_pressure': 'float16'\n",
    "             , 'wind_direction': 'float16'\n",
    "             , 'wind_speed': 'float16'\n",
    "             , 'square_feet': 'float64'\n",
    "             , 'month': 'int8'\n",
    "             , 'day': 'int8'\n",
    "             , 'hour': 'int8'\n",
    "             , 'day_of_week': 'int8'\n",
    "             , 'weekend': 'int8'\n",
    "             , 'night': 'int8'\n",
    "            }\n",
    "    df_test = pd.read_csv(df_test_path\n",
    "                     , dtype=dtype\n",
    "                     , parse_dates=['timestamp']\n",
    "                     , nrows=rows)"
   ]
  },
  {
   "cell_type": "code",
   "execution_count": 19,
   "metadata": {},
   "outputs": [],
   "source": [
    "if predict_test:\n",
    "    lgb_full = lgb.Dataset(X, y)\n",
    "    gbm = lgb.train(params=params\n",
    "                    , train_set=lgb_full\n",
    "                    , num_boost_round=num_round)"
   ]
  },
  {
   "cell_type": "code",
   "execution_count": 20,
   "metadata": {},
   "outputs": [],
   "source": [
    "if predict_test:\n",
    "    sites = list(df_test['site_id'].unique())"
   ]
  },
  {
   "cell_type": "code",
   "execution_count": 21,
   "metadata": {},
   "outputs": [
    {
     "name": "stdout",
     "output_type": "stream",
     "text": [
      "Site [0] start...\n",
      "Site [0] end!\n",
      "Site [1] start...\n",
      "Site [1] end!\n",
      "Site [2] start...\n",
      "Site [2] end!\n",
      "Site [3] start...\n",
      "Site [3] end!\n",
      "Site [4] start...\n",
      "Site [4] end!\n",
      "Site [5] start...\n",
      "Site [5] end!\n",
      "Site [6] start...\n",
      "Site [6] end!\n",
      "Site [7] start...\n",
      "Site [7] end!\n",
      "Site [8] start...\n",
      "Site [8] end!\n",
      "Site [9] start...\n",
      "Site [9] end!\n",
      "Site [10] start...\n",
      "Site [10] end!\n",
      "Site [11] start...\n",
      "Site [11] end!\n",
      "Site [12] start...\n",
      "Site [12] end!\n",
      "Site [13] start...\n",
      "Site [13] end!\n",
      "Site [14] start...\n",
      "Site [14] end!\n",
      "Site [15] start...\n",
      "Site [15] end!\n"
     ]
    }
   ],
   "source": [
    "if predict_test:\n",
    "    outputs = pd.DataFrame()\n",
    "    for site in sites:\n",
    "        print('Site [{site_no}] start...'.format(site_no=site))\n",
    "        pred_site = gbm.predict(df_test.loc[df_test['site_id']==site, feature_cols], num_iteration=gbm.best_iteration)\n",
    "        pred_site = np.clip(pred_site, min_val, max_val)\n",
    "        output_site = pd.DataFrame({'row_id': df_test.loc[df_test['site_id']==site, ['row_id']]['row_id'],'meter_reading': pred_site})\n",
    "        outputs = outputs.append(output_site, ignore_index = True)\n",
    "        print('Site [{site_no}] end!'.format(site_no=site))"
   ]
  },
  {
   "cell_type": "code",
   "execution_count": 22,
   "metadata": {},
   "outputs": [],
   "source": [
    "if predict_test:\n",
    "    del df_test\n",
    "    gc.collect()"
   ]
  },
  {
   "cell_type": "code",
   "execution_count": 23,
   "metadata": {},
   "outputs": [],
   "source": [
    "if generate_putput:\n",
    "    outputs.to_csv('submission.csv', index=False)"
   ]
  }
 ],
 "metadata": {
  "kernelspec": {
   "display_name": "Python 3",
   "language": "python",
   "name": "python3"
  },
  "language_info": {
   "codemirror_mode": {
    "name": "ipython",
    "version": 3
   },
   "file_extension": ".py",
   "mimetype": "text/x-python",
   "name": "python",
   "nbconvert_exporter": "python",
   "pygments_lexer": "ipython3",
   "version": "3.6.6"
  }
 },
 "nbformat": 4,
 "nbformat_minor": 1
}
