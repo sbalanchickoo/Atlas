{
 "cells": [
  {
   "cell_type": "code",
   "execution_count": null,
   "metadata": {
    "_cell_guid": "b1076dfc-b9ad-4769-8c92-a6c4dae69d19",
    "_uuid": "8f2839f25d086af736a60e9eeb907d3b93b6e0e5"
   },
   "outputs": [],
   "source": [
    "# This Python 3 environment comes with many helpful analytics libraries installed\n",
    "# It is defined by the kaggle/python docker image: https://github.com/kaggle/docker-python\n",
    "# For example, here's several helpful packages to load in \n",
    "\n",
    "import numpy as np # linear algebra\n",
    "import pandas as pd # data processing, CSV file I/O (e.g. pd.read_csv)\n",
    "\n",
    "# Input data files are available in the \"../input/\" directory.\n",
    "# For example, running this (by clicking run or pressing Shift+Enter) will list all files under the input directory\n",
    "\n",
    "import os\n",
    "for dirname, _, filenames in os.walk('/kaggle/input'):\n",
    "    for filename in filenames:\n",
    "        print(os.path.join(dirname, filename))\n",
    "\n",
    "# Any results you write to the current directory are saved as output."
   ]
  },
  {
   "cell_type": "code",
   "execution_count": null,
   "metadata": {},
   "outputs": [],
   "source": [
    "warnings.simplefilter(action='ignore', category=FutureWarning)\n",
    "\n",
    "# System imports\n",
    "import copy\n",
    "import json\n",
    "import numpy as np\n",
    "import pandas as pd\n",
    "import matplotlib.pyplot as plt\n",
    "import seaborn as sns\n",
    "%matplotlib inline\n",
    "\n",
    "# Models\n",
    "from sklearn.ensemble import RandomForestRegressor, ExtraTreesRegressor, AdaBoostRegressor\n",
    "from sklearn.tree import DecisionTreeRegressor\n",
    "from xgboost import XGBRegressor\n",
    "from sklearn.neighbors import KNeighborsRegressor\n",
    "from sklearn.svm import SVC\n",
    "from sklearn.linear_model import LogisticRegression\n",
    "\n",
    "# Utilities\n",
    "from sklearn.metrics import accuracy_score, mean_squared_log_error\n",
    "from sklearn.model_selection import train_test_split, cross_val_score, KFold, GridSearchCV\n",
    "from sklearn.pipeline import Pipeline\n",
    "from sklearn.feature_selection import SelectKBest, chi2\n",
    "from sklearn.preprocessing import OneHotEncoder"
   ]
  },
  {
   "cell_type": "code",
   "execution_count": null,
   "metadata": {
    "_cell_guid": "79c7e3d0-c299-4dcb-8224-4455121ee9b0",
    "_uuid": "d629ff2d2480ee46fbb7e2d37f6b5fab8052498a",
    "collapsed": true
   },
   "outputs": [],
   "source": [
    "dir = !ls -a\n",
    "if ('kernel-metadata.json' in dir):\n",
    "    src = 'Local'\n",
    "    # Local environment\n",
    "    data_path = '../../../data/'\n",
    "    debug = True\n",
    "else:\n",
    "    # Kaggle environment\n",
    "    src = 'Kaggle'\n",
    "    data_path = '../input/'\n",
    "\n",
    "print('Environment set to [{env}]'.format(env=src))"
   ]
  },
  {
   "cell_type": "code",
   "execution_count": null,
   "metadata": {},
   "outputs": [],
   "source": [
    "debug = False\n",
    "if debug:\n",
    "    rows = 1000\n",
    "else:\n",
    "    rows = None"
   ]
  },
  {
   "cell_type": "code",
   "execution_count": null,
   "metadata": {},
   "outputs": [],
   "source": [
    "cols = ['building_id', 'site_id', 'timestamp', 'meter', 'primary_use', 'timestamp'\n",
    "        , 'square_feet_000', 'floor_count', 'year_built']\n",
    "time_cols = ['month', 'day', 'hour', 'day_of_week']\n",
    "bool_cols = ['weekend', 'night']\n",
    "target_col = ['meter_reading_000']\n",
    "weather_cols = ['precip_depth_1_hr', 'wind_direction', 'wind_speed'\n",
    "                , 'sea_level_pressure', 'dew_temperature', 'air_temperature', 'cloud_coverage']\n",
    "\n",
    "# Dtypes\n",
    "dtype_cols = {'building_id': 'int16', 'site_id': 'int8'\n",
    "              , 'meter': 'category', 'primary_use': 'category'\n",
    "              , 'square_feet_000': 'float16', 'floor_count': 'int8', 'year_built': 'int16'}\n",
    "dtype_time_cols = {col: 'int8' for col in time_cols}\n",
    "dtype_bool_cols = {col: 'bool' for col in bool_cols}\n",
    "dtype_target_col = {'meter_reading_000': 'float16'}\n",
    "dtype_weather_cols = {col: 'float16' for col in weather_cols}"
   ]
  },
  {
   "cell_type": "code",
   "execution_count": null,
   "metadata": {},
   "outputs": [],
   "source": [
    "df_cols = cols + time_cols + bool_cols + target_col + weather_cols\n",
    "dtype = {}\n",
    "dtype.update(dtype_cols)\n",
    "dtype.update(dtype_time_cols)\n",
    "dtype.update(dtype_bool_cols)\n",
    "dtype.update(dtype_target_col)\n",
    "dtype.update(dtype_weather_cols)\n",
    "\n",
    "df = pd.read_csv(data_path + 'ashraetrainohe/df_onehot.csv'\n",
    "                 , dtype=dtype\n",
    "                 , parse_dates=['timestamp']\n",
    "                 , nrows=rows\n",
    "                 , usecols=df_cols)"
   ]
  },
  {
   "cell_type": "code",
   "execution_count": null,
   "metadata": {},
   "outputs": [],
   "source": [
    "df_test_cols = cols + time_cols + bool_cols + weather_cols\n",
    "dtype = {}\n",
    "dtype.update(dtype_cols)\n",
    "dtype.update(dtype_time_cols)\n",
    "dtype.update(dtype_bool_cols)\n",
    "dtype.update(dtype_target_col)\n",
    "dtype.update(dtype_weather_cols)\n",
    "\n",
    "df_test = pd.read_csv(data_path + 'ashraetestohe/df_test_onehot.csv'\n",
    "                 , dtype=dtype\n",
    "                 , parse_dates=['timestamp']\n",
    "                 , nrows=rows\n",
    "                 , usecols=df_test_cols)"
   ]
  },
  {
   "cell_type": "code",
   "execution_count": null,
   "metadata": {},
   "outputs": [],
   "source": [
    "target = 'meter_reading_000'\n",
    "features = list(df.columns)\n",
    "features.remove(target)\n",
    "features.remove('timestamp')\n",
    "features.remove('primary_use')"
   ]
  },
  {
   "cell_type": "code",
   "execution_count": null,
   "metadata": {},
   "outputs": [],
   "source": [
    "X = df[features]\n",
    "y = df[target]\n",
    "X_train, X_val, y_train, y_val = train_test_split(X, y, test_size=0.2, train_size=0.8)"
   ]
  },
  {
   "cell_type": "code",
   "execution_count": null,
   "metadata": {},
   "outputs": [],
   "source": [
    "model = RandomForestRegressor(n_estimators=100, random_state = 5)\n",
    "#model.fit(X_train, y_train)\n",
    "model.fit(X, y)"
   ]
  },
  {
   "cell_type": "code",
   "execution_count": null,
   "metadata": {},
   "outputs": [],
   "source": [
    "# Predict\n",
    "#y_pred = model.predict(X_val)\n",
    "preds = model.predict(df_test[features])\n",
    "preds = preds * 1000\n",
    "\n",
    "output = pd.DataFrame({'row_id': df_test.row_id,\n",
    "                   'meter_reading': preds})\n",
    "output.head()\n",
    "output.to_csv('submission.csv', index=False)\n",
    "# Calculate accuracy\n",
    "#msle = mean_squared_log_error(y_val, y_pred)\n",
    "#print('{} Mean square log error: {:.2f}'.format(model.__class__.__name__, msle))"
   ]
  },
  {
   "cell_type": "code",
   "execution_count": null,
   "metadata": {},
   "outputs": [],
   "source": [
    "# rmsle = np.sqrt(msle)\n",
    "# print('{} Root mean square log error: {:.2f}'.format(model.__class__.__name__, rmsle))"
   ]
  }
 ],
 "metadata": {
  "kernelspec": {
   "display_name": "Python 3",
   "language": "python",
   "name": "python3"
  },
  "language_info": {
   "codemirror_mode": {
    "name": "ipython",
    "version": 3
   },
   "file_extension": ".py",
   "mimetype": "text/x-python",
   "name": "python",
   "nbconvert_exporter": "python",
   "pygments_lexer": "ipython3",
   "version": "3.7.3"
  }
 },
 "nbformat": 4,
 "nbformat_minor": 1
}
