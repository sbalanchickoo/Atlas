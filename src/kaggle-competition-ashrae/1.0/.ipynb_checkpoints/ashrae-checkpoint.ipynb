{
 "cells": [
  {
   "cell_type": "code",
   "execution_count": 30,
   "metadata": {
    "_cell_guid": "b1076dfc-b9ad-4769-8c92-a6c4dae69d19",
    "_uuid": "8f2839f25d086af736a60e9eeb907d3b93b6e0e5"
   },
   "outputs": [],
   "source": [
    "# This Python 3 environment comes with many helpful analytics libraries installed\n",
    "# It is defined by the kaggle/python docker image: https://github.com/kaggle/docker-python\n",
    "# For example, here's several helpful packages to load in \n",
    "\n",
    "import numpy as np # linear algebra\n",
    "import pandas as pd # data processing, CSV file I/O (e.g. pd.read_csv)\n",
    "\n",
    "# Input data files are available in the \"../input/\" directory.\n",
    "# For example, running this (by clicking run or pressing Shift+Enter) will list all files under the input directory\n",
    "\n",
    "import os\n",
    "for dirname, _, filenames in os.walk('/kaggle/input'):\n",
    "    for filename in filenames:\n",
    "        print(os.path.join(dirname, filename))\n",
    "\n",
    "# Any results you write to the current directory are saved as output.\n",
    "\n",
    "import gc"
   ]
  },
  {
   "cell_type": "code",
   "execution_count": 31,
   "metadata": {},
   "outputs": [],
   "source": [
    "import warnings\n",
    "warnings.simplefilter(action='ignore', category=FutureWarning)\n",
    "\n",
    "# System imports\n",
    "import copy\n",
    "import json\n",
    "import numpy as np\n",
    "import pandas as pd\n",
    "import matplotlib.pyplot as plt\n",
    "import seaborn as sns\n",
    "%matplotlib inline\n",
    "\n",
    "# Models\n",
    "from sklearn.ensemble import RandomForestRegressor, ExtraTreesRegressor, AdaBoostRegressor\n",
    "from sklearn.tree import DecisionTreeRegressor\n",
    "from xgboost import XGBRegressor\n",
    "from sklearn.neighbors import KNeighborsRegressor\n",
    "from sklearn.svm import SVC\n",
    "from sklearn.linear_model import LogisticRegression\n",
    "\n",
    "# Utilities\n",
    "from sklearn.metrics import accuracy_score, mean_squared_log_error\n",
    "from sklearn.model_selection import train_test_split, cross_val_score, KFold, GridSearchCV\n",
    "from sklearn.pipeline import Pipeline\n",
    "from sklearn.feature_selection import SelectKBest, chi2\n",
    "from sklearn.preprocessing import OneHotEncoder"
   ]
  },
  {
   "cell_type": "code",
   "execution_count": 32,
   "metadata": {},
   "outputs": [],
   "source": [
    "dir_win = !dir /b\n",
    "dir_linux = !ls -a"
   ]
  },
  {
   "cell_type": "code",
   "execution_count": 33,
   "metadata": {},
   "outputs": [
    {
     "name": "stdout",
     "output_type": "stream",
     "text": [
      "Environment set to [Local]\n"
     ]
    }
   ],
   "source": [
    "if ('kernel-metadata.json' in dir_win) or ('kernel-metadata.json' in dir_linux):\n",
    "    src = 'Local'\n",
    "    # Local environment\n",
    "    data_path = '../../../data/'\n",
    "    debug = True\n",
    "else:\n",
    "    # Kaggle environment\n",
    "    src = 'Kaggle'\n",
    "    data_path = '../input/'\n",
    "\n",
    "print('Environment set to [{env}]'.format(env=src))"
   ]
  },
  {
   "cell_type": "code",
   "execution_count": 34,
   "metadata": {},
   "outputs": [],
   "source": [
    "debug = False"
   ]
  },
  {
   "cell_type": "code",
   "execution_count": 35,
   "metadata": {},
   "outputs": [],
   "source": [
    "if debug:\n",
    "    rows = 1000\n",
    "else:\n",
    "    rows = None"
   ]
  },
  {
   "cell_type": "code",
   "execution_count": 36,
   "metadata": {},
   "outputs": [],
   "source": [
    "init_dtype = {'building_id': 'int16'\n",
    "              , 'meter': 'category'\n",
    "              , 'meter_reading': 'float16'\n",
    "              , 'primary_use': 'category'\n",
    "              , 'square_feet': 'int32'\n",
    "              , 'floor_count': 'int8'\n",
    "              , 'year_built': 'int16'\n",
    "              , 'site_id': 'int8'\n",
    "              , 'precip_depth_1_hr': 'float16'\n",
    "              , 'wind_direction': 'float16'\n",
    "              , 'wind_speed': 'float16'\n",
    "              , 'sea_level_pressure': 'float16'\n",
    "              , 'dew_temperature': 'float16'\n",
    "              , 'air_temperature': 'float16'\n",
    "              , 'cloud_coverage': 'float16'} "
   ]
  },
  {
   "cell_type": "code",
   "execution_count": 37,
   "metadata": {},
   "outputs": [],
   "source": [
    "df = pd.read_csv(data_path + 'ashraetrainfilled/df_train_filled.csv'\n",
    "                 , dtype=init_dtype\n",
    "                 , parse_dates=['timestamp']\n",
    "                 , nrows=rows)"
   ]
  },
  {
   "cell_type": "code",
   "execution_count": 38,
   "metadata": {},
   "outputs": [],
   "source": [
    "# df_sample = pd.read_csv(data_path + 'ashrae-energy-prediction/sample_submission.csv', nrows=1000)\n",
    "# df_sample.head()"
   ]
  },
  {
   "cell_type": "code",
   "execution_count": 39,
   "metadata": {},
   "outputs": [],
   "source": [
    "init_dtype.update({'row_id': 'int32'})\n",
    "df_test = pd.read_csv(data_path + 'ashraetestfilled/df_test_filled.csv'\n",
    "                 , dtype=init_dtype\n",
    "                 , parse_dates=['timestamp']\n",
    "                 , nrows=rows)"
   ]
  },
  {
   "cell_type": "code",
   "execution_count": 40,
   "metadata": {},
   "outputs": [],
   "source": [
    "#np.iinfo('int16')\n",
    "#np.finfo('float16')"
   ]
  },
  {
   "cell_type": "code",
   "execution_count": 41,
   "metadata": {},
   "outputs": [],
   "source": [
    "model = RandomForestRegressor(n_estimators=100, random_state = 5)\n",
    "df['month'] = df['timestamp'].dt.month\n",
    "df['day'] = df['timestamp'].dt.day\n",
    "df['hour'] = df['timestamp'].dt.hour\n",
    "df['day_of_week'] = df['timestamp'].dt.dayofweek\n",
    "df['weekend'] = (df['day_of_week'] == 5) | (df['day_of_week'] == 6)\n",
    "df['night'] = (df['hour'] >= 19) | (df['day_of_week'] < 7)\n",
    "\n",
    "df_test['month'] = df_test['timestamp'].dt.month\n",
    "df_test['day'] = df_test['timestamp'].dt.day\n",
    "df_test['hour'] = df_test['timestamp'].dt.hour\n",
    "df_test['day_of_week'] = df_test['timestamp'].dt.dayofweek\n",
    "df_test['weekend'] = (df_test['day_of_week'] == 5) | (df_test['day_of_week'] == 6)\n",
    "df_test['night'] = (df_test['hour'] >= 19) | (df_test['day_of_week'] < 7)"
   ]
  },
  {
   "cell_type": "code",
   "execution_count": 42,
   "metadata": {},
   "outputs": [],
   "source": [
    "df = df.astype({'month': 'int8', 'day': 'int8', 'hour': 'int8', 'day_of_week': 'int8'})\n",
    "df_test = df_test.astype({'month': 'int8', 'day': 'int8', 'hour': 'int8', 'day_of_week': 'int8'})"
   ]
  },
  {
   "cell_type": "code",
   "execution_count": 43,
   "metadata": {},
   "outputs": [],
   "source": [
    "onehot = OneHotEncoder(handle_unknown='ignore', sparse=False)\n",
    "# Use as many lines of code as you need!\n",
    "low_cardinality_cols = ['primary_use']\n",
    "\n",
    "OH_cols_df = pd.DataFrame(onehot.fit_transform(df[low_cardinality_cols])) # Your code here"
   ]
  },
  {
   "cell_type": "code",
   "execution_count": 44,
   "metadata": {},
   "outputs": [],
   "source": [
    "OH_cols_df_test = pd.DataFrame(onehot.transform(df_test[low_cardinality_cols])) # Your code here"
   ]
  },
  {
   "cell_type": "code",
   "execution_count": 45,
   "metadata": {},
   "outputs": [],
   "source": [
    "column_names = onehot.get_feature_names(['primary_use'])\n",
    "#OH_cols_df =  pd.DataFrame(OH_cols_df, columns=column_names)\n",
    "OH_cols_df.index = df.index\n",
    "df.drop(low_cardinality_cols, axis=1, inplace=True)\n",
    "df = pd.concat([df, OH_cols_df], axis=1) # Your code here"
   ]
  },
  {
   "cell_type": "code",
   "execution_count": 46,
   "metadata": {},
   "outputs": [],
   "source": [
    "OH_cols_df_test.index = df_test.index\n",
    "df_test.drop(low_cardinality_cols, axis=1, inplace=True)\n",
    "df_test = pd.concat([df_test, OH_cols_df_test], axis=1) # Your code here"
   ]
  },
  {
   "cell_type": "code",
   "execution_count": 47,
   "metadata": {},
   "outputs": [],
   "source": [
    "target = 'meter_reading'\n",
    "features = list(df.columns)\n",
    "features.remove(target)\n",
    "features.remove('timestamp')"
   ]
  },
  {
   "cell_type": "code",
   "execution_count": 48,
   "metadata": {},
   "outputs": [],
   "source": [
    "X = df[features]\n",
    "y = df[target]\n",
    "X_train, X_val, y_train, y_val = train_test_split(X, y, test_size=0.2, train_size=0.8)"
   ]
  },
  {
   "cell_type": "code",
   "execution_count": null,
   "metadata": {},
   "outputs": [],
   "source": [
    "#model.fit(X_train, y_train)\n",
    "model.fit(X, y)"
   ]
  },
  {
   "cell_type": "code",
   "execution_count": null,
   "metadata": {},
   "outputs": [],
   "source": [
    "# Predict\n",
    "#y_pred = model.predict(X_val)\n",
    "preds = model.predict(df_test[features])\n",
    "preds = preds * 1000\n",
    "\n",
    "output = pd.DataFrame({'row_id': df_test.row_id,\n",
    "                   'meter_reading': preds})\n",
    "output.head()\n",
    "output.to_csv('submission.csv', index=False)\n",
    "# # Calculate accuracy\n",
    "# #msle = mean_squared_log_error(y_val, y_pred)\n",
    "# #print('{} Mean square log error: {:.2f}'.format(model.__class__.__name__, msle))"
   ]
  },
  {
   "cell_type": "code",
   "execution_count": null,
   "metadata": {},
   "outputs": [],
   "source": [
    "# rmsle = np.sqrt(msle)\n",
    "# print('{} Root mean square log error: {:.2f}'.format(model.__class__.__name__, rmsle))"
   ]
  },
  {
   "cell_type": "code",
   "execution_count": null,
   "metadata": {},
   "outputs": [],
   "source": []
  }
 ],
 "metadata": {
  "kernelspec": {
   "display_name": "Python 3",
   "language": "python",
   "name": "python3"
  },
  "language_info": {
   "codemirror_mode": {
    "name": "ipython",
    "version": 3
   },
   "file_extension": ".py",
   "mimetype": "text/x-python",
   "name": "python",
   "nbconvert_exporter": "python",
   "pygments_lexer": "ipython3",
   "version": "3.7.3"
  }
 },
 "nbformat": 4,
 "nbformat_minor": 1
}
