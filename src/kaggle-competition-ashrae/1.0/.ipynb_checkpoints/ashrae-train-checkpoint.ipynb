{
 "cells": [
  {
   "cell_type": "code",
   "execution_count": 10,
   "metadata": {
    "_cell_guid": "b1076dfc-b9ad-4769-8c92-a6c4dae69d19",
    "_uuid": "8f2839f25d086af736a60e9eeb907d3b93b6e0e5"
   },
   "outputs": [
    {
     "name": "stdout",
     "output_type": "stream",
     "text": [
      "Environment set to [Local]\n"
     ]
    }
   ],
   "source": [
    "import os\n",
    "import numpy as np\n",
    "import pandas as pd\n",
    "import ashrae_scripts as scp\n",
    "import gc\n",
    "\n",
    "dir = !ls -a\n",
    "if ('kernel-metadata.json' in dir):\n",
    "    src = 'Local'\n",
    "    # Local environment\n",
    "    data_path = '../../../data/'\n",
    "    rows=1000\n",
    "else:\n",
    "    # Kaggle environment\n",
    "    src = 'Kaggle'\n",
    "    data_path = '../input/'\n",
    "    rows=None\n",
    "\n",
    "print('Environment set to [{env}]'.format(env=src))"
   ]
  },
  {
   "cell_type": "code",
   "execution_count": 11,
   "metadata": {},
   "outputs": [],
   "source": [
    "init_dtype = {'building_id': 'int16'\n",
    "              , 'meter': 'category'\n",
    "              , 'timestamp': 'str'\n",
    "              , 'meter_reading': 'float32'}\n",
    "df_train = pd.read_csv(data_path + 'ashrae-energy-prediction/' + 'train.csv', dtype=init_dtype, nrows=rows)"
   ]
  },
  {
   "cell_type": "code",
   "execution_count": 12,
   "metadata": {
    "_cell_guid": "79c7e3d0-c299-4dcb-8224-4455121ee9b0",
    "_uuid": "d629ff2d2480ee46fbb7e2d37f6b5fab8052498a"
   },
   "outputs": [],
   "source": [
    "init_dtype = {'site_id': 'str'\n",
    "              , 'building_id': 'int16'\n",
    "              , 'primary_use': 'category'\n",
    "              , 'square_feet': 'float32'\n",
    "              , 'floor_count': 'float16'\n",
    "              , 'year_built': 'float16'}\n",
    "df_bldg_meta = pd.read_csv(data_path + 'ashrae-energy-prediction/' + '/building_metadata.csv', dtype=init_dtype)"
   ]
  },
  {
   "cell_type": "code",
   "execution_count": 13,
   "metadata": {},
   "outputs": [],
   "source": [
    "init_dtype = {'timestamp': 'str'\n",
    "              , 'site_id': 'str'\n",
    "              , 'precip_depth_1_hr': 'float16'\n",
    "              , 'wind_direction': 'float16'\n",
    "              , 'wind_speed': 'float16'\n",
    "              , 'sea_level_pressure': 'float32'\n",
    "              , 'dew_temperature': 'float32'\n",
    "              , 'air_temperature': 'float32'}\n",
    "df_weather_train = pd.read_csv(data_path + 'ashrae-energy-prediction/' + 'weather_train.csv', dtype=init_dtype)"
   ]
  },
  {
   "cell_type": "code",
   "execution_count": 14,
   "metadata": {},
   "outputs": [],
   "source": [
    "df_bldg_meta = scp.get_bldg_meta(df_bldg_meta)"
   ]
  },
  {
   "cell_type": "code",
   "execution_count": 15,
   "metadata": {},
   "outputs": [],
   "source": [
    "df_weather_train = scp.get_weather(df_weather_train)"
   ]
  },
  {
   "cell_type": "code",
   "execution_count": 16,
   "metadata": {},
   "outputs": [],
   "source": [
    "df_train = scp.process_df(df_train, df_bldg_meta, df_weather_train)"
   ]
  },
  {
   "cell_type": "code",
   "execution_count": 17,
   "metadata": {},
   "outputs": [],
   "source": [
    "#np.finfo(np.float16).max"
   ]
  },
  {
   "cell_type": "code",
   "execution_count": 18,
   "metadata": {},
   "outputs": [],
   "source": [
    "df_train.to_csv('df_train_filled.csv', index=False)"
   ]
  }
 ],
 "metadata": {
  "kernelspec": {
   "display_name": "Python 3",
   "language": "python",
   "name": "python3"
  },
  "language_info": {
   "codemirror_mode": {
    "name": "ipython",
    "version": 3
   },
   "file_extension": ".py",
   "mimetype": "text/x-python",
   "name": "python",
   "nbconvert_exporter": "python",
   "pygments_lexer": "ipython3",
   "version": "3.7.3"
  }
 },
 "nbformat": 4,
 "nbformat_minor": 1
}
