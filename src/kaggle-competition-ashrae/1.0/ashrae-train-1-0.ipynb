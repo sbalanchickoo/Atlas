{
 "cells": [
  {
   "cell_type": "code",
   "execution_count": 1,
   "metadata": {
    "_cell_guid": "b1076dfc-b9ad-4769-8c92-a6c4dae69d19",
    "_kg_hide-input": true,
    "_uuid": "8f2839f25d086af736a60e9eeb907d3b93b6e0e5"
   },
   "outputs": [
    {
     "name": "stdout",
     "output_type": "stream",
     "text": [
      "Environment set to [Kaggle]\n"
     ]
    }
   ],
   "source": [
    "import os\n",
    "import numpy as np\n",
    "import pandas as pd\n",
    "import ashrae_scripts as scp\n",
    "import gc\n",
    "\n",
    "dir = !ls -a\n",
    "dir = !dir /b\n",
    "project_folder = 'ashrae-energy-prediction/'\n",
    "output_compression_type = 'gzip'\n",
    "if ('kernel-metadata.json' in dir):\n",
    "    # Local environment\n",
    "    src = 'Local'\n",
    "    compression_type = 'gzip'\n",
    "    data_folder = '../../../data/'\n",
    "    output_folder = '../../../data/'\n",
    "    df_train_path = data_folder + project_folder + 'train.csv.gz'\n",
    "    df_bldg_meta_path = data_folder + project_folder + 'building_metadata.csv.gz'\n",
    "    df_weather_train_path = data_folder + project_folder + 'weather_train.csv.gz'  \n",
    "else:\n",
    "    # Kaggle environment\n",
    "    src = 'Kaggle'\n",
    "    compression_type = None\n",
    "    data_folder = '../input/'\n",
    "    output_folder = ''\n",
    "    df_train_path = data_folder + project_folder + 'train.csv'\n",
    "    df_bldg_meta_path = data_folder + project_folder + 'building_metadata.csv'\n",
    "    df_weather_train_path = data_folder + project_folder + 'weather_train.csv'\n",
    "        \n",
    "print('Environment set to [{env}]'.format(env=src))"
   ]
  },
  {
   "cell_type": "code",
   "execution_count": 2,
   "metadata": {
    "_kg_hide-input": true
   },
   "outputs": [
    {
     "name": "stdout",
     "output_type": "stream",
     "text": [
      "/kaggle/input/ashrae-energy-prediction/weather_train.csv\n",
      "/kaggle/input/ashrae-energy-prediction/test.csv\n",
      "/kaggle/input/ashrae-energy-prediction/weather_test.csv\n",
      "/kaggle/input/ashrae-energy-prediction/train.csv\n",
      "/kaggle/input/ashrae-energy-prediction/building_metadata.csv\n",
      "/kaggle/input/ashrae-energy-prediction/sample_submission.csv\n",
      "/kaggle/working/__notebook__.ipynb\n",
      "/kaggle/working/__output__.json\n"
     ]
    }
   ],
   "source": [
    "import os\n",
    "for dirname, _, filenames in os.walk('/kaggle/input'):\n",
    "    for filename in filenames:\n",
    "        print(os.path.join(dirname, filename))\n",
    "for dirname, _, filenames in os.walk('/kaggle/working/'):\n",
    "    for filename in filenames:\n",
    "        print(os.path.join(dirname, filename))\n",
    "\n",
    "# Any results you write to the current directory are saved as output."
   ]
  },
  {
   "cell_type": "code",
   "execution_count": 3,
   "metadata": {},
   "outputs": [],
   "source": [
    "debug = False\n",
    "if debug:\n",
    "    rows = 1000\n",
    "else:\n",
    "    rows = None"
   ]
  },
  {
   "cell_type": "code",
   "execution_count": 4,
   "metadata": {},
   "outputs": [],
   "source": [
    "init_dtype_df = {'building_id': 'int16'\n",
    "              , 'meter': 'category'\n",
    "              , 'timestamp': 'str'\n",
    "              , 'meter_reading': 'float32'}\n",
    "df_train = pd.read_csv(df_train_path\n",
    "                       , dtype=init_dtype_df\n",
    "                       , nrows=rows\n",
    "                       , compression=compression_type)"
   ]
  },
  {
   "cell_type": "code",
   "execution_count": 5,
   "metadata": {
    "_cell_guid": "79c7e3d0-c299-4dcb-8224-4455121ee9b0",
    "_uuid": "d629ff2d2480ee46fbb7e2d37f6b5fab8052498a"
   },
   "outputs": [],
   "source": [
    "init_dtype_bldg = {'site_id': 'str'\n",
    "              , 'building_id': 'int16'\n",
    "              , 'primary_use': 'category'\n",
    "              , 'square_feet': 'float32'\n",
    "              , 'floor_count': 'float16'\n",
    "              , 'year_built': 'float16'}\n",
    "df_bldg_meta = pd.read_csv(df_bldg_meta_path\n",
    "                           , dtype=init_dtype_bldg\n",
    "                           , compression=compression_type)"
   ]
  },
  {
   "cell_type": "code",
   "execution_count": 6,
   "metadata": {},
   "outputs": [],
   "source": [
    "init_dtype_weather = {'timestamp': 'str'\n",
    "              , 'site_id': 'str'\n",
    "              , 'precip_depth_1_hr': 'float16'\n",
    "              , 'wind_direction': 'float16'\n",
    "              , 'wind_speed': 'float16'\n",
    "              , 'sea_level_pressure': 'float32'\n",
    "              , 'dew_temperature': 'float32'\n",
    "              , 'air_temperature': 'float32'}\n",
    "df_weather_train = pd.read_csv(df_weather_train_path\n",
    "                               , dtype=init_dtype_weather\n",
    "                               , compression=compression_type)"
   ]
  },
  {
   "cell_type": "code",
   "execution_count": 7,
   "metadata": {},
   "outputs": [],
   "source": [
    "df_bldg_meta = scp.get_bldg_meta(df_bldg_meta)"
   ]
  },
  {
   "cell_type": "code",
   "execution_count": 8,
   "metadata": {},
   "outputs": [],
   "source": [
    "df_weather_train = scp.get_weather(df_weather_train)"
   ]
  },
  {
   "cell_type": "code",
   "execution_count": 9,
   "metadata": {},
   "outputs": [],
   "source": [
    "df_train = scp.process_df(df_train, df_bldg_meta, df_weather_train)"
   ]
  },
  {
   "cell_type": "code",
   "execution_count": 10,
   "metadata": {},
   "outputs": [],
   "source": [
    "df_train.to_csv(output_folder + 'df_train_filled.csv.gz'\n",
    "                , index=False\n",
    "                , compression=output_compression_type)"
   ]
  },
  {
   "cell_type": "code",
   "execution_count": 11,
   "metadata": {},
   "outputs": [
    {
     "data": {
      "text/plain": [
       "22"
      ]
     },
     "execution_count": 11,
     "metadata": {},
     "output_type": "execute_result"
    }
   ],
   "source": [
    "del df_train\n",
    "del df_weather_train\n",
    "gc.collect()"
   ]
  },
  {
   "cell_type": "code",
   "execution_count": 12,
   "metadata": {},
   "outputs": [],
   "source": [
    "#np.finfo(np.float16).max"
   ]
  },
  {
   "cell_type": "code",
   "execution_count": null,
   "metadata": {},
   "outputs": [],
   "source": []
  }
 ],
 "metadata": {
  "kernelspec": {
   "display_name": "Python 3",
   "language": "python",
   "name": "python3"
  },
  "language_info": {
   "codemirror_mode": {
    "name": "ipython",
    "version": 3
   },
   "file_extension": ".py",
   "mimetype": "text/x-python",
   "name": "python",
   "nbconvert_exporter": "python",
   "pygments_lexer": "ipython3",
   "version": "3.6.6"
  }
 },
 "nbformat": 4,
 "nbformat_minor": 1
}
