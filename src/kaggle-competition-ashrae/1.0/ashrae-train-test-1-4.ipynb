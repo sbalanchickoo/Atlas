{
 "cells": [
  {
   "cell_type": "markdown",
   "metadata": {},
   "source": [
    "# Table of contents <a id=\"0\"></a>\n",
    "* [Imports](#imports)\n",
    "* [Select modules](#select-modules)\n",
    "* [Select variables](#select-variables)\n",
    "* [LGBM Params](#lgbm-params)\n",
    "* [Define models](#define-models)\n",
    "* [Select models](#select-models)\n",
    "* [Cross validation](#cross-validation)\n",
    "* [Fit and predict test](#fit-and-predict-test)"
   ]
  },
  {
   "cell_type": "code",
   "execution_count": null,
   "metadata": {},
   "outputs": [],
   "source": [
    "import os\n",
    "__print__ = print\n",
    "def print(string):\n",
    "    os.system(f'echo \\\"{string}\\\"')\n",
    "    __print__(string)"
   ]
  },
  {
   "cell_type": "markdown",
   "metadata": {},
   "source": [
    "## Imports <a id=\"imports\"></a>\n",
    "[Go back to top](#0)"
   ]
  },
  {
   "cell_type": "code",
   "execution_count": 2,
   "metadata": {
    "_cell_guid": "b1076dfc-b9ad-4769-8c92-a6c4dae69d19",
    "_uuid": "8f2839f25d086af736a60e9eeb907d3b93b6e0e5"
   },
   "outputs": [
    {
     "ename": "ModuleNotFoundError",
     "evalue": "No module named 'lightgbm'",
     "output_type": "error",
     "traceback": [
      "\u001b[1;31m---------------------------------------------------------------------------\u001b[0m",
      "\u001b[1;31mModuleNotFoundError\u001b[0m                       Traceback (most recent call last)",
      "\u001b[1;32m<ipython-input-2-3453a94a55c3>\u001b[0m in \u001b[0;36m<module>\u001b[1;34m\u001b[0m\n\u001b[0;32m     16\u001b[0m \u001b[1;32mfrom\u001b[0m \u001b[0msklearn\u001b[0m\u001b[1;33m.\u001b[0m\u001b[0mlinear_model\u001b[0m \u001b[1;32mimport\u001b[0m \u001b[0mLinearRegression\u001b[0m\u001b[1;33m,\u001b[0m \u001b[0mLasso\u001b[0m\u001b[1;33m\u001b[0m\u001b[1;33m\u001b[0m\u001b[0m\n\u001b[0;32m     17\u001b[0m \u001b[1;32mfrom\u001b[0m \u001b[0mxgboost\u001b[0m \u001b[1;32mimport\u001b[0m \u001b[0mXGBRegressor\u001b[0m\u001b[1;33m\u001b[0m\u001b[1;33m\u001b[0m\u001b[0m\n\u001b[1;32m---> 18\u001b[1;33m \u001b[1;32mimport\u001b[0m \u001b[0mlightgbm\u001b[0m \u001b[1;32mas\u001b[0m \u001b[0mlgb\u001b[0m\u001b[1;33m\u001b[0m\u001b[1;33m\u001b[0m\u001b[0m\n\u001b[0m\u001b[0;32m     19\u001b[0m \u001b[1;33m\u001b[0m\u001b[0m\n\u001b[0;32m     20\u001b[0m \u001b[1;31m# Utilities\u001b[0m\u001b[1;33m\u001b[0m\u001b[1;33m\u001b[0m\u001b[1;33m\u001b[0m\u001b[0m\n",
      "\u001b[1;31mModuleNotFoundError\u001b[0m: No module named 'lightgbm'"
     ]
    }
   ],
   "source": [
    "# System imports\n",
    "import os, gc, time, joblib, copy, datetime\n",
    "import numpy as np, pandas as pd\n",
    "import ashrae_scripts as scp\n",
    "import warnings\n",
    "warnings.simplefilter(action='ignore', category=FutureWarning)\n",
    "warnings.simplefilter(action='ignore', category=UserWarning)\n",
    "import matplotlib.pyplot as plt, seaborn as sns\n",
    "%matplotlib inline\n",
    "\n",
    "# Models\n",
    "from sklearn.ensemble import RandomForestRegressor, ExtraTreesRegressor, AdaBoostRegressor\n",
    "from sklearn.tree import DecisionTreeRegressor\n",
    "from sklearn.neighbors import KNeighborsRegressor\n",
    "from sklearn.svm import SVR, LinearSVR\n",
    "from sklearn.linear_model import LinearRegression, Lasso\n",
    "from xgboost import XGBRegressor\n",
    "import lightgbm as lgb\n",
    "\n",
    "# Utilities\n",
    "from sklearn.metrics import accuracy_score, mean_squared_log_error, make_scorer\n",
    "from sklearn.model_selection import train_test_split, cross_val_score, KFold, GridSearchCV\n",
    "from sklearn.pipeline import Pipeline\n",
    "from mlxtend.regressor import StackingCVRegressor\n",
    "from sklearn.preprocessing import StandardScaler"
   ]
  },
  {
   "cell_type": "code",
   "execution_count": 5,
   "metadata": {
    "_cell_guid": "79c7e3d0-c299-4dcb-8224-4455121ee9b0",
    "_uuid": "d629ff2d2480ee46fbb7e2d37f6b5fab8052498a"
   },
   "outputs": [
    {
     "name": "stdout",
     "output_type": "stream",
     "text": [
      "Environment set to [Local]\n"
     ]
    }
   ],
   "source": [
    "# Local environment\n",
    "src = 'Local'\n",
    "compression_type = 'gzip'\n",
    "data_folder = '../../../data/'\n",
    "output_folder = '../../../data/'\n",
    "df_path = data_folder + 'ashrae-train-test-1-0/df_label_enc.csv.gz'\n",
    "df_test_path = data_folder + 'ashrae-train-test-1-0/df_test_label_enc.csv.gz'\n",
    "\n",
    "# Kaggle environment\n",
    "# src = 'Kaggle'\n",
    "# compression_type = None\n",
    "# data_folder = '../input/'\n",
    "# output_folder = ''\n",
    "# df_path = data_folder + 'ashrae-train-test-1-0/df_label_enc.csv.gz'\n",
    "# df_test_path = data_folder + 'ashrae-train-test-1-0/df_test_label_enc.csv.gz'\n",
    "       \n",
    "print('Environment set to [{env}]'.format(env=src))\n",
    "\n",
    "# for dirname, _, filenames in os.walk(data_folder):\n",
    "#     for filename in filenames:\n",
    "#         print(os.path.join(dirname, filename))\n",
    "\n",
    "# Any results you write to the current directory are saved as output."
   ]
  },
  {
   "cell_type": "markdown",
   "metadata": {},
   "source": [
    "## Select modules <a id=\"select-modules\"></a>\n",
    "[Go back to top](#0)"
   ]
  },
  {
   "cell_type": "code",
   "execution_count": 6,
   "metadata": {},
   "outputs": [],
   "source": [
    "predict_lgbm = False\n",
    "perform_cross_validation = False\n",
    "predict_train = True\n",
    "predict_test = False\n",
    "generate_output = False"
   ]
  },
  {
   "cell_type": "markdown",
   "metadata": {},
   "source": [
    "## Select variables <a id=\"select-variables\"></a>\n",
    "[Go back to top](#0)"
   ]
  },
  {
   "cell_type": "code",
   "execution_count": null,
   "metadata": {},
   "outputs": [],
   "source": [
    "debug = True\n",
    "scikit = True\n",
    "RANDOM_STATE=13\n",
    "if debug:\n",
    "    rows = 5000000\n",
    "else:\n",
    "    rows = None\n",
    "\n",
    "if 'site_id' in cols:\n",
    "    cols.remove('site_id')\n",
    "# LightGBM\n",
    "if debug:\n",
    "    rounds = 10000\n",
    "    stopping_rounds = 50\n",
    "else:\n",
    "    rounds = 25000\n",
    "    stopping_rounds = 50\n",
    "    \n",
    "boosting_type='gbdt'\n",
    "num_leaves=300\n",
    "min_data_in_leaf=20\n",
    "max_depth=None\n",
    "metrics='rmsle'\n",
    "learning_rate=0.05\n",
    "bagging_freq=5\n",
    "feature_fraction=0.9\n",
    "bagging_fraction=0.8"
   ]
  },
  {
   "cell_type": "code",
   "execution_count": null,
   "metadata": {},
   "outputs": [],
   "source": [
    "dtypes = [{'col_name': 'building_id', 'data_type': 'int16', 'feature_col': 1}\n",
    "         , {'col_name': 'meter', 'data_type': 'int8', 'feature_col': 1}\n",
    "         , {'col_name': 'site_id', 'data_type': 'int8', 'feature_col': 1}\n",
    "         , {'col_name': 'primary_use', 'data_type': 'int8', 'feature_col': 1}\n",
    "         , {'col_name': 'year_built', 'data_type': 'int16', 'feature_col': 1}\n",
    "         , {'col_name': 'floor_count', 'data_type': 'int8', 'feature_col': 1}\n",
    "         , {'col_name': 'air_temperature', 'data_type': 'float16', 'feature_col': 1}\n",
    "         , {'col_name': 'cloud_coverage', 'data_type': 'float16', 'feature_col': 1}\n",
    "         , {'col_name': 'dew_temperature', 'data_type': 'float16', 'feature_col': 1}\n",
    "         , {'col_name': 'precip_depth_1_hr', 'data_type': 'float16', 'feature_col': 1}\n",
    "         , {'col_name': 'sea_level_pressure', 'data_type': 'float16', 'feature_col': 1}\n",
    "         , {'col_name': 'wind_direction', 'data_type': 'float16', 'feature_col': 1}\n",
    "         , {'col_name': 'wind_speed', 'data_type': 'float16', 'feature_col': 1}\n",
    "         , {'col_name': 'meter_reading', 'data_type': 'float16', 'feature_col': 0}\n",
    "         , {'col_name': 'square_feet', 'data_type': 'float64', 'feature_col': 1}\n",
    "         , {'col_name': 'month', 'data_type': 'int8', 'feature_col': 1}\n",
    "         , {'col_name': 'day', 'data_type': 'int8', 'feature_col': 1}\n",
    "         , {'col_name': 'hour', 'data_type': 'int8', 'feature_col': 1}\n",
    "         , {'col_name': 'day_of_week', 'data_type': 'int8', 'feature_col': 1}\n",
    "         , {'col_name': 'weekend', 'data_type': 'int8', 'feature_col': 1}\n",
    "         , {'col_name': 'night', 'data_type': 'int8', 'feature_col': 1}\n",
    "         ]\n",
    "dtype = {col['col_name']: col['data_type'] for col in dtypes}\n",
    "df = pd.read_csv(df_path\n",
    "                 , dtype=dtype\n",
    "                 , parse_dates=['timestamp']\n",
    "                 , nrows=rows)"
   ]
  },
  {
   "cell_type": "code",
   "execution_count": null,
   "metadata": {},
   "outputs": [],
   "source": [
    "df.drop(df[df['meter_reading']==np.inf].index, axis=0, inplace=True)\n",
    "\n",
    "if debug:\n",
    "    sites = [0,1,2,3,4,5,6,7]\n",
    "else:\n",
    "    sites = list(df['site_id'].unique())\n",
    "\n",
    "# sc = StandardScaler()"
   ]
  },
  {
   "cell_type": "code",
   "execution_count": null,
   "metadata": {},
   "outputs": [],
   "source": [
    "feature_cols = [col['col_name'] for col in dtypes if col['feature_col']==1]\n",
    "target_col = 'meter_reading'\n",
    "min_val = df[target_col].min()\n",
    "max_val = df[target_col].max()\n",
    "X = df[feature_cols]\n",
    "y = df[target_col]\n",
    "\n",
    "X_train, X_val, y_train, y_val = train_test_split(X, y, test_size=0.5, train_size=0.5)\n",
    "# X = sc.fit_transform(X)"
   ]
  },
  {
   "cell_type": "markdown",
   "metadata": {},
   "source": [
    "## LGBM Params <a id=\"lgbm-params\"></a>\n",
    "[Go back to top](#0)"
   ]
  },
  {
   "cell_type": "code",
   "execution_count": 7,
   "metadata": {},
   "outputs": [
    {
     "ename": "NameError",
     "evalue": "name 'scikit' is not defined",
     "output_type": "error",
     "traceback": [
      "\u001b[1;31m---------------------------------------------------------------------------\u001b[0m",
      "\u001b[1;31mNameError\u001b[0m                                 Traceback (most recent call last)",
      "\u001b[1;32m<ipython-input-7-69a30d0662b9>\u001b[0m in \u001b[0;36m<module>\u001b[1;34m\u001b[0m\n\u001b[1;32m----> 1\u001b[1;33m \u001b[1;32mif\u001b[0m \u001b[0mscikit\u001b[0m\u001b[1;33m:\u001b[0m\u001b[1;33m\u001b[0m\u001b[1;33m\u001b[0m\u001b[0m\n\u001b[0m\u001b[0;32m      2\u001b[0m     gbm = lgb.LGBMRegressor(boosting_type=boosting_type\n\u001b[0;32m      3\u001b[0m                             \u001b[1;33m,\u001b[0m \u001b[0mnum_leaves\u001b[0m\u001b[1;33m=\u001b[0m\u001b[0mnum_leaves\u001b[0m\u001b[1;33m\u001b[0m\u001b[1;33m\u001b[0m\u001b[0m\n\u001b[0;32m      4\u001b[0m                             \u001b[1;33m,\u001b[0m \u001b[0mmin_data_in_leaf\u001b[0m\u001b[1;33m=\u001b[0m\u001b[0mmin_data_in_leaf\u001b[0m\u001b[1;33m\u001b[0m\u001b[1;33m\u001b[0m\u001b[0m\n\u001b[0;32m      5\u001b[0m                             \u001b[1;33m,\u001b[0m \u001b[0mmax_depth\u001b[0m\u001b[1;33m=\u001b[0m\u001b[0mmax_depth\u001b[0m\u001b[1;33m\u001b[0m\u001b[1;33m\u001b[0m\u001b[0m\n",
      "\u001b[1;31mNameError\u001b[0m: name 'scikit' is not defined"
     ]
    }
   ],
   "source": [
    "if scikit:\n",
    "    gbm = lgb.LGBMRegressor(boosting_type=boosting_type\n",
    "                            , num_leaves=num_leaves\n",
    "                            , min_data_in_leaf=min_data_in_leaf\n",
    "                            , max_depth=max_depth\n",
    "                            , metrics=metrics\n",
    "                            , learning_rate=learning_rate\n",
    "                            , bagging_freq=bagging_freq\n",
    "                            , feature_fraction=feature_fraction\n",
    "                            , bagging_fraction=bagging_fraction\n",
    "                            , num_round=rounds\n",
    "                            , random_state=RANDOM_STATE\n",
    "                            , verbose_eval = -1\n",
    "                            , verbose = -1\n",
    "                           )\n",
    "    \n",
    "else:\n",
    "    params = {\n",
    "        'boosting_type': boosting_type,\n",
    "        'num_leaves': num_leaves,\n",
    "        'min_data_in_leaf': min_data_in_leaf,\n",
    "        'max_depth': max_depth,\n",
    "        'metrics': metrics,\n",
    "        'learning_rate': learning_rate,\n",
    "        'bagging_freq': bagging_freq,\n",
    "        'feature_fraction': feature_fraction,\n",
    "        'bagging_fraction': bagging_fraction\n",
    "    }"
   ]
  },
  {
   "cell_type": "code",
   "execution_count": null,
   "metadata": {},
   "outputs": [],
   "source": [
    "# using scikit api\n",
    "if scikit:\n",
    "    def rmsle(y_true, y_pred):\n",
    "        y_pred = np.clip(y_pred, min_val, max_val)\n",
    "        return 'RMSLE', np.sqrt(np.mean(np.power(np.log1p(y_pred) - np.log1p(y_true), 2))), False\n",
    "# using native api\n",
    "else:\n",
    "    def rmsle(preds, train_data):\n",
    "        labels = train_data.get_label()\n",
    "        preds = np.clip(preds, min_val, max_val)\n",
    "        return 'RMSLE', np.sqrt(np.mean(np.power(np.log1p(preds) - np.log1p(labels), 2))), False"
   ]
  },
  {
   "cell_type": "code",
   "execution_count": null,
   "metadata": {},
   "outputs": [],
   "source": [
    "gbm.get_params"
   ]
  },
  {
   "cell_type": "markdown",
   "metadata": {},
   "source": [
    "## Define models <a id=\"define-modules\"></a>\n",
    "[Go back to top](#0)"
   ]
  },
  {
   "cell_type": "code",
   "execution_count": null,
   "metadata": {},
   "outputs": [],
   "source": [
    "# svr = LinearSVR(random_state=RANDOM_STATE)\n",
    "# lasso = Lasso(normalize=True, random_state=RANDOM_STATE)\n",
    "# rf = RandomForestRegressor(n_estimators=5, random_state=RANDOM_STATE)\n",
    "# lr = LinearRegression(fit_intercept=False, normalize=True)\n",
    "\n",
    "# base_reg = [(gbm, 'LightGBM', 1) #1.3\n",
    "#             #, (svr, 'SVR', 1)\n",
    "#             #, (rf, 'RandomForest', 0) #0.67\n",
    "#             , (lasso, 'Lasso', 1)\n",
    "#             , (lr, 'LinearRegression', 1) #1.77\n",
    "#            ]\n",
    "# meta_reg = [(lasso, 'Lasso1', 0)] #1\n",
    "# #meta_reg = [(rf, 'RandomForest', 1)] #0.69\n",
    "# meta, meta_label, meta_cross_val=meta_reg[0]\n",
    "\n",
    "# stack = StackingCVRegressor(regressors=[model for model, label, cross_val in base_reg]\n",
    "#                             , meta_regressor=meta\n",
    "#                             , use_features_in_secondary=True\n",
    "#                             , random_state=RANDOM_STATE)\n",
    "# stack_reg = [(stack, 'Stack', 0)] "
   ]
  },
  {
   "cell_type": "markdown",
   "metadata": {},
   "source": [
    "## Cross validation <a id=\"cross-validation\"></a>\n",
    "[Go back to top](#0)"
   ]
  },
  {
   "cell_type": "code",
   "execution_count": null,
   "metadata": {},
   "outputs": [],
   "source": [
    "if perform_cross_validation:\n",
    "    def rmsle_crossval(y_true, y_pred):\n",
    "        y_pred = np.clip(y_pred, min_val, max_val)\n",
    "        return np.sqrt(np.mean(np.power(np.log1p(y_pred) - np.log1p(y_true), 2)))\n",
    "    \n",
    "    rmsle_scorer = make_scorer(rmsle_crossval, greater_is_better=False)\n",
    "    sites = list(X['site_id'].unique())\n",
    "    sites = [0,1,2,3,4,5,6,7]\n",
    "    for site in sites:\n",
    "        print('Site [{site_no}] start...'.format(site_no=site))\n",
    "        site_index = list(X[X['site_id']==site].index)\n",
    "        print('No of rows in site: [{rows}]'.format(rows=len(site_index)))\n",
    "        \n",
    "        X_site = X.loc[site_index, :]\n",
    "        y_site = y[site_index]\n",
    "        \n",
    "        model = copy.deepcopy(gbm)\n",
    "        t_start = time.perf_counter()\n",
    "        scores = (cross_val_score(model, X_site, y_site, cv=5\n",
    "                                  #, scoring='neg_mean_squared_error'\n",
    "                                  , scoring=rmsle_scorer\n",
    "                                  , verbose=0\n",
    "                                 )*-1)**0.5\n",
    "        print(\"Root mean squared log error score: %0.2f (+/- %0.2f)\" % (scores.mean(), scores.std()))\n",
    "        \n",
    "        t_stop = time.perf_counter()\n",
    "        print('{label:<30s}: {value:.2f}'.format(\n",
    "            label='Elapsed time in minutes',\n",
    "            value=(t_stop-t_start)/60))\n",
    "        print('{dt:%Y-%m-%d %H-%M-%S}'.format(dt=datetime.datetime.now()))\n",
    "        print('Site [{site_no}] end!\\n'.format(site_no=site))"
   ]
  },
  {
   "cell_type": "code",
   "execution_count": null,
   "metadata": {},
   "outputs": [],
   "source": [
    "# predict site-wise\n",
    "outputs = pd.DataFrame()\n",
    "cols = copy.deepcopy(feature_cols)\n",
    "\n",
    "for site in sites:\n",
    "    t_start = time.perf_counter()\n",
    "    model = copy.deepcopy(gbm)\n",
    "    site_index = list(X_train[X_train['site_id']==site].index)\n",
    "    print('{label:<30s}: {value}'.format(\n",
    "        label='Site',\n",
    "        value=site))\n",
    "    print('{label:<30s}: {value}'.format(\n",
    "        label='Rows',\n",
    "        value=len(site_index)))\n",
    "    print('Start...')\n",
    "    print('{dt:%Y-%m-%d %H-%M-%S}'.format(dt=datetime.datetime.now()))\n",
    "    \n",
    "    X_train_site = X_train.loc[site_index, cols]\n",
    "    y_train_site = y_train[site_index]\n",
    "    \n",
    "    site_index_val = list(X_val[X_val['site_id']==site].index)\n",
    "    X_val_site = X_val.loc[site_index_val, cols]\n",
    "    y_val_site = y_val[site_index_val]\n",
    "    \n",
    "    model.fit(X_train_site, y_train_site\n",
    "              ,eval_set=[(X_val_site, y_val_site)]\n",
    "              ,eval_metric=rmsle\n",
    "              ,verbose=False\n",
    "              ,early_stopping_rounds=100)\n",
    "        \n",
    "    y_pred_site = model.predict(X_val_site)\n",
    "    output_site = pd.DataFrame({'meter_reading': y_pred_site,'meter_reading_val': y_val_site})\n",
    "    outputs = outputs.append(output_site, ignore_index = True)\n",
    "    print('Completed'.format(site=site))\n",
    "    print('{label:<30s}: {value:.2f}'.format(\n",
    "        label='Elapsed time in minutes',\n",
    "        value=(time.perf_counter()-t_start)/60))\n",
    "    print('\\n')\n",
    "y_pred = outputs[target_col]\n",
    "y_pred = np.clip(y_pred, min_val, max_val)\n",
    "y_val_site = outputs['meter_reading_val']\n",
    "rmsle = mean_squared_log_error(y_val_site, y_pred)**0.5\n",
    "print('Root mean square log error (stack): {:.2f}'.format(rmsle))"
   ]
  },
  {
   "cell_type": "code",
   "execution_count": null,
   "metadata": {},
   "outputs": [],
   "source": [
    "# predict full\n",
    "t_start = time.perf_counter()\n",
    "print('Start...')\n",
    "print('{dt:%Y-%m-%d %H-%M-%S}'.format(dt=datetime.datetime.now()))\n",
    "    \n",
    "model = copy.deepcopy(gbm)\n",
    "model.fit(X_train, y_train)\n",
    "y_pred_full = model.predict(X_val)\n",
    "y_pred_full = np.clip(y_pred_full, min_val, max_val)\n",
    "rmsle = mean_squared_log_error(y_val, y_pred_full)**0.5\n",
    "print('Completed'.format(site=site))\n",
    "print('{label:<30s}: {value:.2f}'.format(\n",
    "    label='Elapsed time in minutes',\n",
    "    value=(time.perf_counter()-t_start)/60))\n",
    "print('\\n')\n",
    "print('Root mean square log error (full): {:.2f}'.format(rmsle))"
   ]
  },
  {
   "cell_type": "code",
   "execution_count": null,
   "metadata": {},
   "outputs": [],
   "source": [
    "if predict_test:\n",
    "    for site in sites:\n",
    "        if site < 1:\n",
    "            t_start = time.perf_counter()\n",
    "            model = copy.deepcopy(gbm)\n",
    "            print('Site [{site_no}] start...'.format(site_no=site))\n",
    "            print('{dt:%Y-%m-%d %H-%M-%S}'.format(dt=datetime.datetime.now()))\n",
    "\n",
    "            site_index = list(X[X['site_id']==site].index)\n",
    "            X_site = X.loc[site_index, cols]\n",
    "            y_site = y[site_index]\n",
    "            model.fit(X_site, y_site)\n",
    "            \n",
    "            t_stop = time.perf_counter()\n",
    "            print('{label:<30s}: {value:.2f}'.format(\n",
    "                label='Elapsed time in minutes',\n",
    "                value=(t_stop-t_start)/60))\n",
    "            print('{dt:%Y-%m-%d %H-%M-%S}'.format(dt=datetime.datetime.now()))\n",
    "            print('Site [{site_no}] end!\\n'.format(site_no=site))\n",
    "            # save model\n",
    "            model_name = 'lgbm_' + str(site) + '_.pkl'\n",
    "            joblib.dump(model, model_name)\n"
   ]
  },
  {
   "cell_type": "code",
   "execution_count": null,
   "metadata": {},
   "outputs": [],
   "source": [
    "# model = copy.deepcopy(gbm)\n",
    "# print('Full model start...')\n",
    "# t1_start = time.perf_counter()\n",
    "\n",
    "# X_full = X.loc[:, cols]\n",
    "# y_full = copy.deepcopy(y)\n",
    "# model.fit(X_full, y_full)\n",
    "\n",
    "# t1_end = time.perf_counter()\n",
    "# print('Model fit time: {sec:.2f}'.format(sec=(t1_end-t1_start)/60))\n",
    "# # save model\n",
    "# model_name = 'lgbm_full.pkl'\n",
    "# joblib.dump(model, model_name)"
   ]
  }
 ],
 "metadata": {
  "kernelspec": {
   "display_name": "Python 3",
   "language": "python",
   "name": "python3"
  },
  "language_info": {
   "codemirror_mode": {
    "name": "ipython",
    "version": 3
   },
   "file_extension": ".py",
   "mimetype": "text/x-python",
   "name": "python",
   "nbconvert_exporter": "python",
   "pygments_lexer": "ipython3",
   "version": "3.7.3"
  }
 },
 "nbformat": 4,
 "nbformat_minor": 1
}
