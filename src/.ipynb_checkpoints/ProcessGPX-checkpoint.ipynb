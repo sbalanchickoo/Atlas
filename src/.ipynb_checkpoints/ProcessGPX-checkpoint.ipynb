{
 "cells": [
  {
   "cell_type": "code",
   "execution_count": 72,
   "metadata": {},
   "outputs": [],
   "source": [
    "import pandas as pd, numpy as np\n",
    "import xml.etree.ElementTree as et "
   ]
  },
  {
   "cell_type": "code",
   "execution_count": 73,
   "metadata": {},
   "outputs": [],
   "source": [
    "path = '../../../../MyDocuments/Logs/'"
   ]
  },
  {
   "cell_type": "code",
   "execution_count": 74,
   "metadata": {},
   "outputs": [
    {
     "data": {
      "text/plain": [
       "{'version': '1.1',\n",
       " 'creator': 'Runkeeper - http://www.runkeeper.com',\n",
       " '{http://www.w3.org/2001/XMLSchema-instance}schemaLocation': 'http://www.topografix.com/GPX/1/1 http://www.topografix.com/GPX/1/1/gpx.xsd'}"
      ]
     },
     "execution_count": 74,
     "metadata": {},
     "output_type": "execute_result"
    }
   ],
   "source": [
    "tree = et.parse(path + '/Run/2020-04-25-083310.gpx')\n",
    "root = tree.getroot()\n",
    "root.tag\n",
    "root.attrib"
   ]
  },
  {
   "cell_type": "code",
   "execution_count": 57,
   "metadata": {},
   "outputs": [],
   "source": [
    "track_points = []\n",
    "ns = {'trkpt': 'http://www.topografix.com/GPX/1/1'}\n",
    "row_id = 0\n",
    "for child in root:\n",
    "    if 'trk' in child.tag:\n",
    "        new_root = child\n",
    "for child in new_root:\n",
    "    if 'trkseg' in child.tag:\n",
    "        new_root = child\n",
    "for child in new_root:\n",
    "    latitude = child.get('lat')\n",
    "    longitude = child.get('lon')\n",
    "    elevation = child.find('trkpt:ele', ns).text\n",
    "    time = child.find('trkpt:time', ns).text\n",
    "    track_point = {'Latitude': latitude, \n",
    "                   'Longitude': longitude, \n",
    "                   'Elevation': elevation, \n",
    "                   'Time': time}\n",
    "    track_points.append(track_point)\n",
    "    row_id += 1"
   ]
  },
  {
   "cell_type": "code",
   "execution_count": 58,
   "metadata": {},
   "outputs": [],
   "source": [
    "df = pd.DataFrame(track_points)\n",
    "df['Time'] = pd.to_datetime(df['Time'])\n",
    "df['Date'] = df['Time'].dt.date\n",
    "df['Elevation'] = pd.to_numeric(df['Elevation'])\n",
    "df['Latitude'] = df['Latitude'].astype(float)\n",
    "df['Longitude'] = df['Longitude'].astype(float)\n",
    "df = df.sort_values(by = ['Time'], ascending = [True]).reset_index(drop=True)"
   ]
  },
  {
   "cell_type": "code",
   "execution_count": 67,
   "metadata": {},
   "outputs": [],
   "source": [
    "def haversine(lat1, lon1, lat2, lon2, to_radians=True, earth_radius=6371):\n",
    "    \"\"\"\n",
    "    slightly modified version: of http://stackoverflow.com/a/29546836/2901002\n",
    "\n",
    "    Calculate the great circle distance between two points\n",
    "    on the earth (specified in decimal degrees or in radians)\n",
    "\n",
    "    All (lat, lon) coordinates must have numeric dtypes and be of equal length.\n",
    "\n",
    "    \"\"\"\n",
    "    if to_radians:\n",
    "        lat1, lon1, lat2, lon2 = np.radians([lat1, lon1, lat2, lon2])\n",
    "\n",
    "    a = np.sin((lat2-lat1)/2.0)**2 + \\\n",
    "        np.cos(lat1) * np.cos(lat2) * np.sin((lon2-lon1)/2.0)**2\n",
    "\n",
    "    return earth_radius * 2 * np.arcsin(np.sqrt(a)) * 1000"
   ]
  },
  {
   "cell_type": "code",
   "execution_count": 68,
   "metadata": {},
   "outputs": [],
   "source": [
    "df['Distance'] = haversine(df['Latitude'].shift()\n",
    "                           , df['Longitude'].shift()\n",
    "                           , df['Latitude']\n",
    "                           , df['Longitude'])\n",
    "df['Distance'].fillna(0, inplace=True)"
   ]
  },
  {
   "cell_type": "code",
   "execution_count": 69,
   "metadata": {},
   "outputs": [],
   "source": [
    "df['ElevationGain'] = df['Elevation'] - df['Elevation'].shift()\n",
    "df['ElevationGain'].fillna(0, inplace=True)"
   ]
  },
  {
   "cell_type": "code",
   "execution_count": 70,
   "metadata": {},
   "outputs": [],
   "source": [
    "total_elevation_gain = sum(df.loc[df['ElevationGain']>0, 'ElevationGain'])\n",
    "total_elevation_lost = sum(df.loc[df['ElevationGain']<0, 'ElevationGain']) * -1\n",
    "total_time = pd.Timedelta(max(df['Time']) - min(df['Time'])).seconds / 60\n",
    "total_distance = sum(df['Distance'])\n",
    "activity_date = min(df['Date'])\n",
    "activity_time = min(df['Time'])"
   ]
  },
  {
   "cell_type": "code",
   "execution_count": 71,
   "metadata": {},
   "outputs": [
    {
     "data": {
      "text/plain": [
       "4750.209065175834"
      ]
     },
     "execution_count": 71,
     "metadata": {},
     "output_type": "execute_result"
    }
   ],
   "source": [
    "total_distance"
   ]
  },
  {
   "cell_type": "code",
   "execution_count": 75,
   "metadata": {},
   "outputs": [
    {
     "data": {
      "text/html": [
       "<div>\n",
       "<style scoped>\n",
       "    .dataframe tbody tr th:only-of-type {\n",
       "        vertical-align: middle;\n",
       "    }\n",
       "\n",
       "    .dataframe tbody tr th {\n",
       "        vertical-align: top;\n",
       "    }\n",
       "\n",
       "    .dataframe thead th {\n",
       "        text-align: right;\n",
       "    }\n",
       "</style>\n",
       "<table border=\"1\" class=\"dataframe\">\n",
       "  <thead>\n",
       "    <tr style=\"text-align: right;\">\n",
       "      <th></th>\n",
       "      <th>Elevation</th>\n",
       "      <th>Latitude</th>\n",
       "      <th>Longitude</th>\n",
       "      <th>Time</th>\n",
       "      <th>Date</th>\n",
       "      <th>Distance</th>\n",
       "      <th>ElevationGain</th>\n",
       "    </tr>\n",
       "  </thead>\n",
       "  <tbody>\n",
       "    <tr>\n",
       "      <th>0</th>\n",
       "      <td>4.8</td>\n",
       "      <td>51.487701</td>\n",
       "      <td>-0.006794</td>\n",
       "      <td>2020-04-25 08:33:10+00:00</td>\n",
       "      <td>2020-04-25</td>\n",
       "      <td>0.000000</td>\n",
       "      <td>0.0</td>\n",
       "    </tr>\n",
       "    <tr>\n",
       "      <th>1</th>\n",
       "      <td>4.9</td>\n",
       "      <td>51.487583</td>\n",
       "      <td>-0.006991</td>\n",
       "      <td>2020-04-25 08:33:26+00:00</td>\n",
       "      <td>2020-04-25</td>\n",
       "      <td>18.926537</td>\n",
       "      <td>0.1</td>\n",
       "    </tr>\n",
       "    <tr>\n",
       "      <th>2</th>\n",
       "      <td>4.9</td>\n",
       "      <td>51.487560</td>\n",
       "      <td>-0.007009</td>\n",
       "      <td>2020-04-25 08:33:27+00:00</td>\n",
       "      <td>2020-04-25</td>\n",
       "      <td>2.844996</td>\n",
       "      <td>0.0</td>\n",
       "    </tr>\n",
       "    <tr>\n",
       "      <th>3</th>\n",
       "      <td>4.9</td>\n",
       "      <td>51.487537</td>\n",
       "      <td>-0.007014</td>\n",
       "      <td>2020-04-25 08:33:28+00:00</td>\n",
       "      <td>2020-04-25</td>\n",
       "      <td>2.580809</td>\n",
       "      <td>0.0</td>\n",
       "    </tr>\n",
       "    <tr>\n",
       "      <th>4</th>\n",
       "      <td>4.9</td>\n",
       "      <td>51.487518</td>\n",
       "      <td>-0.007011</td>\n",
       "      <td>2020-04-25 08:33:29+00:00</td>\n",
       "      <td>2020-04-25</td>\n",
       "      <td>2.122890</td>\n",
       "      <td>0.0</td>\n",
       "    </tr>\n",
       "  </tbody>\n",
       "</table>\n",
       "</div>"
      ],
      "text/plain": [
       "   Elevation   Latitude  Longitude                      Time        Date  \\\n",
       "0        4.8  51.487701  -0.006794 2020-04-25 08:33:10+00:00  2020-04-25   \n",
       "1        4.9  51.487583  -0.006991 2020-04-25 08:33:26+00:00  2020-04-25   \n",
       "2        4.9  51.487560  -0.007009 2020-04-25 08:33:27+00:00  2020-04-25   \n",
       "3        4.9  51.487537  -0.007014 2020-04-25 08:33:28+00:00  2020-04-25   \n",
       "4        4.9  51.487518  -0.007011 2020-04-25 08:33:29+00:00  2020-04-25   \n",
       "\n",
       "    Distance  ElevationGain  \n",
       "0   0.000000            0.0  \n",
       "1  18.926537            0.1  \n",
       "2   2.844996            0.0  \n",
       "3   2.580809            0.0  \n",
       "4   2.122890            0.0  "
      ]
     },
     "execution_count": 75,
     "metadata": {},
     "output_type": "execute_result"
    }
   ],
   "source": [
    "df.head()"
   ]
  },
  {
   "cell_type": "code",
   "execution_count": 77,
   "metadata": {},
   "outputs": [],
   "source": [
    "out_path = path + 'RunCSV\\\\' + pd.to_datetime(activity_time).strftime('%Y-%m-%d-%H-%M-%S') + '.csv'\n",
    "df.to_csv(out_path, index = False)"
   ]
  },
  {
   "cell_type": "code",
   "execution_count": null,
   "metadata": {},
   "outputs": [],
   "source": []
  }
 ],
 "metadata": {
  "kernelspec": {
   "display_name": "Python 3",
   "language": "python",
   "name": "python3"
  },
  "language_info": {
   "codemirror_mode": {
    "name": "ipython",
    "version": 3
   },
   "file_extension": ".py",
   "mimetype": "text/x-python",
   "name": "python",
   "nbconvert_exporter": "python",
   "pygments_lexer": "ipython3",
   "version": "3.7.3"
  }
 },
 "nbformat": 4,
 "nbformat_minor": 2
}
