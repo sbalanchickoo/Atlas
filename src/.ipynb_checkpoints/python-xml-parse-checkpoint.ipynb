{
 "cells": [
  {
   "cell_type": "code",
   "execution_count": 3,
   "metadata": {},
   "outputs": [],
   "source": [
    "str = '<?xml version=\"1.0\"?>\\\n",
    "<data type=\"daily\">\\\n",
    "    <country name=\"Liechtenstein\">\\\n",
    "        <rank>1</rank>\\\n",
    "        <year>2008</year>\\\n",
    "        <gdppc>141100</gdppc>\\\n",
    "        <neighbor name=\"Austria\" direction=\"E\"/>\\\n",
    "        <neighbor name=\"Switzerland\" direction=\"W\"/>\\\n",
    "    </country>\\\n",
    "    <country name=\"Singapore\">\\\n",
    "        <rank>4</rank>\\\n",
    "        <year>2011</year>\\\n",
    "        <gdppc>59900</gdppc>\\\n",
    "        <neighbor name=\"Malaysia\" direction=\"N\"/>\\\n",
    "    </country>\\\n",
    "    <country name=\"Panama\">\\\n",
    "        <rank>68</rank>\\\n",
    "        <year>2011</year>\\\n",
    "        <gdppc>13600</gdppc>\\\n",
    "        <neighbor name=\"Costa Rica\" direction=\"W\"/>\\\n",
    "        <neighbor name=\"Colombia\" direction=\"E\"/>\\\n",
    "    </country>\\\n",
    "</data>'"
   ]
  },
  {
   "cell_type": "code",
   "execution_count": 4,
   "metadata": {},
   "outputs": [],
   "source": [
    "import xml.etree.ElementTree as ET\n",
    "root = ET.fromstring(str)"
   ]
  },
  {
   "cell_type": "code",
   "execution_count": 5,
   "metadata": {},
   "outputs": [
    {
     "data": {
      "text/plain": [
       "<Element 'data' at 0x7f391e3c9c28>"
      ]
     },
     "execution_count": 5,
     "metadata": {},
     "output_type": "execute_result"
    }
   ],
   "source": [
    "root"
   ]
  },
  {
   "cell_type": "code",
   "execution_count": 6,
   "metadata": {},
   "outputs": [
    {
     "data": {
      "text/plain": [
       "'data'"
      ]
     },
     "execution_count": 6,
     "metadata": {},
     "output_type": "execute_result"
    }
   ],
   "source": [
    "root.tag"
   ]
  },
  {
   "cell_type": "code",
   "execution_count": 7,
   "metadata": {},
   "outputs": [
    {
     "data": {
      "text/plain": [
       "{'type': 'daily'}"
      ]
     },
     "execution_count": 7,
     "metadata": {},
     "output_type": "execute_result"
    }
   ],
   "source": [
    "root.attrib"
   ]
  },
  {
   "cell_type": "code",
   "execution_count": 8,
   "metadata": {},
   "outputs": [
    {
     "data": {
      "text/plain": [
       "'daily'"
      ]
     },
     "execution_count": 8,
     "metadata": {},
     "output_type": "execute_result"
    }
   ],
   "source": [
    "root.attrib['type']"
   ]
  },
  {
   "cell_type": "code",
   "execution_count": 9,
   "metadata": {},
   "outputs": [
    {
     "name": "stdout",
     "output_type": "stream",
     "text": [
      "Liechtenstein\n",
      "Singapore\n",
      "Panama\n"
     ]
    }
   ],
   "source": [
    "for child in root:\n",
    "    print(child.attrib['name'])"
   ]
  },
  {
   "cell_type": "code",
   "execution_count": 10,
   "metadata": {},
   "outputs": [
    {
     "name": "stdout",
     "output_type": "stream",
     "text": [
      "{'name': 'Liechtenstein', 'rank': '1', 'year': '2008'}\n",
      "{'name': 'Singapore', 'rank': '4', 'year': '2011'}\n",
      "{'name': 'Panama', 'rank': '68', 'year': '2011'}\n"
     ]
    }
   ],
   "source": [
    "for child in root:\n",
    "    name = child.get('name')\n",
    "    rank = child.find('rank').text\n",
    "    year = child.find('year').text\n",
    "    ct = {'name': name, 'rank': rank, 'year': year}\n",
    "    print(ct)\n"
   ]
  },
  {
   "cell_type": "code",
   "execution_count": 28,
   "metadata": {},
   "outputs": [],
   "source": [
    "# <Trades>\n",
    "trades = '<Trades>\\\n",
    "<Trade CorrelationId=\"234\" NumberOfTrades=\"3\" Limit=\"1000\" TradeID=\"654\">100</Trade>\\\n",
    "<Trade CorrelationId=\"234\" NumberOfTrades=\"3\" Limit=\"1000\" TradeID=\"135\">200</Trade>\\\n",
    "<Trade CorrelationId=\"222\" NumberOfTrades=\"1\" Limit=\"500\" TradeID=\"423\">600</Trade>\\\n",
    "<Trade CorrelationId=\"234\" NumberOfTrades=\"3\" Limit=\"1000\" TradeID=\"652\">200</Trade>\\\n",
    "<Trade CorrelationId=\"200\" NumberOfTrades=\"2\" Limit=\"1000\" TradeID=\"645\">1000</Trade>\\\n",
    "</Trades>'"
   ]
  },
  {
   "cell_type": "code",
   "execution_count": null,
   "metadata": {},
   "outputs": [],
   "source": [
    "trades = '<Trades>\\\n",
    "<Trade><CorrelationId>234</CorrelationId><NumberOfTrades>3</NumberOfTrades><Limit>1000</Limit><TradeID>654</TradeID>100</Trade>\\\n",
    "<Trade CorrelationId=\"234\" NumberOfTrades=\"3\" Limit=\"1000\" TradeID=\"135\">200</Trade>\\\n",
    "<Trade CorrelationId=\"222\" NumberOfTrades=\"1\" Limit=\"500\" TradeID=\"423\">600</Trade>\\\n",
    "<Trade CorrelationId=\"234\" NumberOfTrades=\"3\" Limit=\"1000\" TradeID=\"652\">200</Trade>\\\n",
    "<Trade CorrelationId=\"200\" NumberOfTrades=\"2\" Limit=\"1000\" TradeID=\"645\">1000</Trade>\\\n",
    "</Trades>'"
   ]
  },
  {
   "cell_type": "code",
   "execution_count": 29,
   "metadata": {},
   "outputs": [
    {
     "data": {
      "text/plain": [
       "'Trades'"
      ]
     },
     "execution_count": 29,
     "metadata": {},
     "output_type": "execute_result"
    }
   ],
   "source": [
    "root = ET.fromstring(trades)\n",
    "root.tag"
   ]
  },
  {
   "cell_type": "code",
   "execution_count": 30,
   "metadata": {},
   "outputs": [
    {
     "name": "stdout",
     "output_type": "stream",
     "text": [
      "{'CorrelationId': '234', 'NumberOfTrades': '3', 'Limit': '1000', 'TradeID': '654', 'Amount': '100'}\n",
      "{'CorrelationId': '234', 'NumberOfTrades': '3', 'Limit': '1000', 'TradeID': '135', 'Amount': '200'}\n",
      "{'CorrelationId': '222', 'NumberOfTrades': '1', 'Limit': '500', 'TradeID': '423', 'Amount': '600'}\n",
      "{'CorrelationId': '234', 'NumberOfTrades': '3', 'Limit': '1000', 'TradeID': '652', 'Amount': '200'}\n",
      "{'CorrelationId': '200', 'NumberOfTrades': '2', 'Limit': '1000', 'TradeID': '645', 'Amount': '1000'}\n",
      "[{'CorrelationId': '234', 'NumberOfTrades': '3', 'Limit': '1000', 'TradeID': '654', 'Amount': '100'}, {'CorrelationId': '234', 'NumberOfTrades': '3', 'Limit': '1000', 'TradeID': '135', 'Amount': '200'}, {'CorrelationId': '222', 'NumberOfTrades': '1', 'Limit': '500', 'TradeID': '423', 'Amount': '600'}, {'CorrelationId': '234', 'NumberOfTrades': '3', 'Limit': '1000', 'TradeID': '652', 'Amount': '200'}, {'CorrelationId': '200', 'NumberOfTrades': '2', 'Limit': '1000', 'TradeID': '645', 'Amount': '1000'}]\n"
     ]
    }
   ],
   "source": [
    "trades = []\n",
    "for child in root:\n",
    "    CorrelationId = child.get('CorrelationId')\n",
    "    NumberOfTrades = child.get('NumberOfTrades')\n",
    "    Limit = child.get('Limit')\n",
    "    TradeID = child.get('TradeID')\n",
    "    Amount = child.text\n",
    "    ct = {'CorrelationId': CorrelationId, \n",
    "          'NumberOfTrades': NumberOfTrades, \n",
    "          'Limit': Limit, \n",
    "          'TradeID': TradeID,\n",
    "          'Amount': Amount}\n",
    "    print(ct)\n",
    "    trades.append(ct)\n",
    "\n",
    "print(trades)"
   ]
  },
  {
   "cell_type": "code",
   "execution_count": 31,
   "metadata": {},
   "outputs": [],
   "source": [
    "import pandas as pd\n",
    "\n",
    "df = pd.DataFrame(trades)\n",
    "df.set_index('TradeID', drop=True, inplace=True)"
   ]
  },
  {
   "cell_type": "code",
   "execution_count": 32,
   "metadata": {},
   "outputs": [
    {
     "name": "stdout",
     "output_type": "stream",
     "text": [
      "<class 'pandas.core.frame.DataFrame'>\n",
      "Index: 5 entries, 654 to 645\n",
      "Data columns (total 4 columns):\n",
      "Amount            5 non-null object\n",
      "CorrelationId     5 non-null object\n",
      "Limit             5 non-null object\n",
      "NumberOfTrades    5 non-null object\n",
      "dtypes: object(4)\n",
      "memory usage: 200.0+ bytes\n"
     ]
    }
   ],
   "source": [
    "df.info()"
   ]
  },
  {
   "cell_type": "code",
   "execution_count": 33,
   "metadata": {},
   "outputs": [
    {
     "name": "stdout",
     "output_type": "stream",
     "text": [
      "<class 'pandas.core.frame.DataFrame'>\n",
      "Index: 5 entries, 654 to 645\n",
      "Data columns (total 4 columns):\n",
      "Amount            5 non-null float64\n",
      "CorrelationId     5 non-null object\n",
      "Limit             5 non-null float64\n",
      "NumberOfTrades    5 non-null int64\n",
      "dtypes: float64(2), int64(1), object(1)\n",
      "memory usage: 200.0+ bytes\n"
     ]
    }
   ],
   "source": [
    "df[['Amount', 'Limit']] = df[['Amount', 'Limit']].astype(float)\n",
    "df[['NumberOfTrades']] = df[['NumberOfTrades']].astype(int)\n",
    "df.info()"
   ]
  },
  {
   "cell_type": "code",
   "execution_count": 34,
   "metadata": {},
   "outputs": [],
   "source": [
    "dfg = df.groupby('CorrelationId').agg({'CorrelationId': 'count', 'NumberOfTrades': 'max', 'Amount': 'sum', 'Limit': 'max'})\n",
    "dfg = dfg.rename(columns={\n",
    "    'CorrelationId': 'NumberOfTrades', \n",
    "    'NumberOfTrades': 'MaxNumberOfTrades', \n",
    "    'Amount': 'ActualTotalAmount'})"
   ]
  },
  {
   "cell_type": "code",
   "execution_count": 35,
   "metadata": {},
   "outputs": [],
   "source": [
    "def tstate(row):\n",
    "    if (row['NumberOfTrades'] > row['MaxNumberOfTrades']) or (row['ActualTotalAmount'] > row['Limit']):\n",
    "        val = 'Rejected'\n",
    "    elif row['NumberOfTrades'] < row['MaxNumberOfTrades']:\n",
    "        val = 'Pending'\n",
    "    else:\n",
    "        val = 'Accepted'\n",
    "    return val\n",
    "\n",
    "dfg['State'] = dfg.apply(tstate, axis=1)"
   ]
  },
  {
   "cell_type": "code",
   "execution_count": 36,
   "metadata": {},
   "outputs": [
    {
     "data": {
      "text/plain": [
       "'CorrelationId,NumberOfTrades,State\\n200,1,Pending\\n222,1,Rejected\\n234,3,Accepted\\n'"
      ]
     },
     "execution_count": 36,
     "metadata": {},
     "output_type": "execute_result"
    }
   ],
   "source": [
    "dfg['CorrelationId'] = dfg.index\n",
    "dfg.sort_index()[['CorrelationId', 'NumberOfTrades', 'State']].to_csv(index=False)"
   ]
  },
  {
   "cell_type": "code",
   "execution_count": 37,
   "metadata": {},
   "outputs": [
    {
     "data": {
      "text/html": [
       "<div>\n",
       "<style scoped>\n",
       "    .dataframe tbody tr th:only-of-type {\n",
       "        vertical-align: middle;\n",
       "    }\n",
       "\n",
       "    .dataframe tbody tr th {\n",
       "        vertical-align: top;\n",
       "    }\n",
       "\n",
       "    .dataframe thead th {\n",
       "        text-align: right;\n",
       "    }\n",
       "</style>\n",
       "<table border=\"1\" class=\"dataframe\">\n",
       "  <thead>\n",
       "    <tr style=\"text-align: right;\">\n",
       "      <th></th>\n",
       "      <th>NumberOfTrades</th>\n",
       "      <th>MaxNumberOfTrades</th>\n",
       "      <th>ActualTotalAmount</th>\n",
       "      <th>Limit</th>\n",
       "      <th>State</th>\n",
       "      <th>CorrelationId</th>\n",
       "    </tr>\n",
       "    <tr>\n",
       "      <th>CorrelationId</th>\n",
       "      <th></th>\n",
       "      <th></th>\n",
       "      <th></th>\n",
       "      <th></th>\n",
       "      <th></th>\n",
       "      <th></th>\n",
       "    </tr>\n",
       "  </thead>\n",
       "  <tbody>\n",
       "    <tr>\n",
       "      <th>234</th>\n",
       "      <td>3</td>\n",
       "      <td>3</td>\n",
       "      <td>500.0</td>\n",
       "      <td>1000.0</td>\n",
       "      <td>Accepted</td>\n",
       "      <td>234</td>\n",
       "    </tr>\n",
       "    <tr>\n",
       "      <th>222</th>\n",
       "      <td>1</td>\n",
       "      <td>1</td>\n",
       "      <td>600.0</td>\n",
       "      <td>500.0</td>\n",
       "      <td>Rejected</td>\n",
       "      <td>222</td>\n",
       "    </tr>\n",
       "    <tr>\n",
       "      <th>200</th>\n",
       "      <td>1</td>\n",
       "      <td>2</td>\n",
       "      <td>1000.0</td>\n",
       "      <td>1000.0</td>\n",
       "      <td>Pending</td>\n",
       "      <td>200</td>\n",
       "    </tr>\n",
       "  </tbody>\n",
       "</table>\n",
       "</div>"
      ],
      "text/plain": [
       "               NumberOfTrades  MaxNumberOfTrades  ActualTotalAmount   Limit  \\\n",
       "CorrelationId                                                                 \n",
       "234                         3                  3              500.0  1000.0   \n",
       "222                         1                  1              600.0   500.0   \n",
       "200                         1                  2             1000.0  1000.0   \n",
       "\n",
       "                  State CorrelationId  \n",
       "CorrelationId                          \n",
       "234            Accepted           234  \n",
       "222            Rejected           222  \n",
       "200             Pending           200  "
      ]
     },
     "execution_count": 37,
     "metadata": {},
     "output_type": "execute_result"
    }
   ],
   "source": [
    "dfg.sort_index(ascending=False)"
   ]
  },
  {
   "cell_type": "code",
   "execution_count": null,
   "metadata": {},
   "outputs": [],
   "source": [
    "import pandas as pd\n",
    "import xml.etree.ElementTree as ET\n",
    "import io\n",
    "\n",
    "def iter_docs(trades):\n",
    "    trades_attr = trades.attrib\n",
    "    for doc in trades.iter('trade'):\n",
    "        doc_dict = trades_attr.copy()\n",
    "        doc_dict.update(doc.attrib)\n",
    "        doc_dict['data'] = doc.text\n",
    "        yield doc_dict\n",
    "\n",
    "xml_data = io.StringIO(xmlinput)\n",
    "\n",
    "etree = ET.parse(xml_data) #create an ElementTree object \n",
    "doc_df = list(iter_docs(etree.getroot()))"
   ]
  }
 ],
 "metadata": {
  "kernelspec": {
   "display_name": "Python 3",
   "language": "python",
   "name": "python3"
  },
  "language_info": {
   "codemirror_mode": {
    "name": "ipython",
    "version": 3
   },
   "file_extension": ".py",
   "mimetype": "text/x-python",
   "name": "python",
   "nbconvert_exporter": "python",
   "pygments_lexer": "ipython3",
   "version": "3.7.3"
  }
 },
 "nbformat": 4,
 "nbformat_minor": 2
}
