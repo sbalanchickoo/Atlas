{
 "cells": [
  {
   "cell_type": "code",
   "execution_count": 1,
   "metadata": {},
   "outputs": [],
   "source": [
    "xmlinput = '<Trades>\\\n",
    "<Trade CorrelationId=\"234\" NumberOfTrades=\"3\" Limit=\"1000\" TradeID=\"654\">100</Trade>\\\n",
    "<Trade CorrelationId=\"234\" NumberOfTrades=\"3\" Limit=\"1000\" TradeID=\"135\">200</Trade>\\\n",
    "<Trade CorrelationId=\"222\" NumberOfTrades=\"1\" Limit=\"500\" TradeID=\"423\">600</Trade>\\\n",
    "<Trade CorrelationId=\"234\" NumberOfTrades=\"3\" Limit=\"1000\" TradeID=\"652\">200</Trade>\\\n",
    "<Trade CorrelationId=\"200\" NumberOfTrades=\"2\" Limit=\"1000\" TradeID=\"645\">1000</Trade>\\\n",
    "</Trades>'"
   ]
  },
  {
   "cell_type": "code",
   "execution_count": 8,
   "metadata": {},
   "outputs": [],
   "source": [
    "import pandas as pd\n",
    "import xml.etree.ElementTree as ET\n",
    "import io\n",
    "\n",
    "def iter_docs(trades):\n",
    "    trades_attr = trades.attrib\n",
    "    for doc in trades.iter('trade'):\n",
    "        doc_dict = trades_attr.copy()\n",
    "        doc_dict.update(doc.attrib)\n",
    "        doc_dict['data'] = doc.text\n",
    "        yield doc_dict\n",
    "\n",
    "xml_data = io.StringIO(xmlinput)\n",
    "\n",
    "etree = ET.parse(xml_data) #create an ElementTree object \n",
    "doc_df = list(iter_docs(etree.getroot()))"
   ]
  },
  {
   "cell_type": "code",
   "execution_count": 9,
   "metadata": {},
   "outputs": [
    {
     "data": {
      "text/plain": [
       "[]"
      ]
     },
     "execution_count": 9,
     "metadata": {},
     "output_type": "execute_result"
    }
   ],
   "source": [
    "doc_df"
   ]
  },
  {
   "cell_type": "code",
   "execution_count": null,
   "metadata": {},
   "outputs": [],
   "source": []
  }
 ],
 "metadata": {
  "kernelspec": {
   "display_name": "Python 3",
   "language": "python",
   "name": "python3"
  },
  "language_info": {
   "codemirror_mode": {
    "name": "ipython",
    "version": 3
   },
   "file_extension": ".py",
   "mimetype": "text/x-python",
   "name": "python",
   "nbconvert_exporter": "python",
   "pygments_lexer": "ipython3",
   "version": "3.7.3"
  }
 },
 "nbformat": 4,
 "nbformat_minor": 2
}
