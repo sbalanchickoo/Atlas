{
 "cells": [
  {
   "cell_type": "code",
   "execution_count": 1,
   "metadata": {},
   "outputs": [],
   "source": [
    "import pandas as pd\n",
    "import numpy as np\n",
    "\n",
    "df = pd.read_csv('../Data/pandas-playbook-manipulating-data/05/demos/m4_cleaning/weather_m4.csv')\n",
    "df1 = pd.read_csv('../Data/pandas-playbook-manipulating-data/05/demos/m4_cleaning/athletes.csv')"
   ]
  },
  {
   "cell_type": "code",
   "execution_count": 2,
   "metadata": {},
   "outputs": [
    {
     "data": {
      "text/plain": [
       "YYYYMMDD             int64\n",
       "TIME                 int64\n",
       "TEMP                 int64\n",
       "MIN_TEMP_GROUND    float64\n",
       "PRESSURE             int64\n",
       "HUMIDITY             int64\n",
       "VIEW_RANGE         float64\n",
       "CLOUD              float64\n",
       "MIST               float64\n",
       "RAIN               float64\n",
       "SNOW               float64\n",
       "THUNDER            float64\n",
       "ICE                float64\n",
       "WEATHER_CODE       float64\n",
       "dtype: object"
      ]
     },
     "execution_count": 2,
     "metadata": {},
     "output_type": "execute_result"
    }
   ],
   "source": [
    "df.dtypes"
   ]
  },
  {
   "cell_type": "code",
   "execution_count": 3,
   "metadata": {},
   "outputs": [
    {
     "name": "stdout",
     "output_type": "stream",
     "text": [
      "<class 'pandas.core.frame.DataFrame'>\n",
      "RangeIndex: 8784 entries, 0 to 8783\n",
      "Data columns (total 14 columns):\n",
      "YYYYMMDD           8784 non-null int64\n",
      "TIME               8784 non-null int64\n",
      "TEMP               8784 non-null int64\n",
      "MIN_TEMP_GROUND    1464 non-null float64\n",
      "PRESSURE           8784 non-null int64\n",
      "HUMIDITY           8784 non-null int64\n",
      "VIEW_RANGE         8743 non-null float64\n",
      "CLOUD              8743 non-null float64\n",
      "MIST               8741 non-null float64\n",
      "RAIN               8741 non-null float64\n",
      "SNOW               8741 non-null float64\n",
      "THUNDER            8741 non-null float64\n",
      "ICE                8741 non-null float64\n",
      "WEATHER_CODE       3862 non-null float64\n",
      "dtypes: float64(9), int64(5)\n",
      "memory usage: 960.8 KB\n"
     ]
    }
   ],
   "source": [
    "df.info()"
   ]
  },
  {
   "cell_type": "code",
   "execution_count": 4,
   "metadata": {},
   "outputs": [
    {
     "data": {
      "text/html": [
       "<div>\n",
       "<style scoped>\n",
       "    .dataframe tbody tr th:only-of-type {\n",
       "        vertical-align: middle;\n",
       "    }\n",
       "\n",
       "    .dataframe tbody tr th {\n",
       "        vertical-align: top;\n",
       "    }\n",
       "\n",
       "    .dataframe thead th {\n",
       "        text-align: right;\n",
       "    }\n",
       "</style>\n",
       "<table border=\"1\" class=\"dataframe\">\n",
       "  <thead>\n",
       "    <tr style=\"text-align: right;\">\n",
       "      <th></th>\n",
       "      <th>YYYYMMDD</th>\n",
       "      <th>TIME</th>\n",
       "      <th>TEMP</th>\n",
       "      <th>MIN_TEMP_GROUND</th>\n",
       "      <th>PRESSURE</th>\n",
       "      <th>HUMIDITY</th>\n",
       "      <th>VIEW_RANGE</th>\n",
       "      <th>CLOUD</th>\n",
       "      <th>MIST</th>\n",
       "      <th>RAIN</th>\n",
       "      <th>SNOW</th>\n",
       "      <th>THUNDER</th>\n",
       "      <th>ICE</th>\n",
       "      <th>WEATHER_CODE</th>\n",
       "    </tr>\n",
       "  </thead>\n",
       "  <tbody>\n",
       "    <tr>\n",
       "      <th>0</th>\n",
       "      <td>False</td>\n",
       "      <td>False</td>\n",
       "      <td>False</td>\n",
       "      <td>True</td>\n",
       "      <td>False</td>\n",
       "      <td>False</td>\n",
       "      <td>False</td>\n",
       "      <td>False</td>\n",
       "      <td>False</td>\n",
       "      <td>False</td>\n",
       "      <td>False</td>\n",
       "      <td>False</td>\n",
       "      <td>False</td>\n",
       "      <td>False</td>\n",
       "    </tr>\n",
       "    <tr>\n",
       "      <th>1</th>\n",
       "      <td>False</td>\n",
       "      <td>False</td>\n",
       "      <td>False</td>\n",
       "      <td>True</td>\n",
       "      <td>False</td>\n",
       "      <td>False</td>\n",
       "      <td>False</td>\n",
       "      <td>False</td>\n",
       "      <td>False</td>\n",
       "      <td>False</td>\n",
       "      <td>False</td>\n",
       "      <td>False</td>\n",
       "      <td>False</td>\n",
       "      <td>False</td>\n",
       "    </tr>\n",
       "    <tr>\n",
       "      <th>2</th>\n",
       "      <td>False</td>\n",
       "      <td>False</td>\n",
       "      <td>False</td>\n",
       "      <td>True</td>\n",
       "      <td>False</td>\n",
       "      <td>False</td>\n",
       "      <td>False</td>\n",
       "      <td>False</td>\n",
       "      <td>False</td>\n",
       "      <td>False</td>\n",
       "      <td>False</td>\n",
       "      <td>False</td>\n",
       "      <td>False</td>\n",
       "      <td>False</td>\n",
       "    </tr>\n",
       "    <tr>\n",
       "      <th>3</th>\n",
       "      <td>False</td>\n",
       "      <td>False</td>\n",
       "      <td>False</td>\n",
       "      <td>True</td>\n",
       "      <td>False</td>\n",
       "      <td>False</td>\n",
       "      <td>False</td>\n",
       "      <td>False</td>\n",
       "      <td>False</td>\n",
       "      <td>False</td>\n",
       "      <td>False</td>\n",
       "      <td>False</td>\n",
       "      <td>False</td>\n",
       "      <td>False</td>\n",
       "    </tr>\n",
       "    <tr>\n",
       "      <th>4</th>\n",
       "      <td>False</td>\n",
       "      <td>False</td>\n",
       "      <td>False</td>\n",
       "      <td>True</td>\n",
       "      <td>False</td>\n",
       "      <td>False</td>\n",
       "      <td>False</td>\n",
       "      <td>False</td>\n",
       "      <td>False</td>\n",
       "      <td>False</td>\n",
       "      <td>False</td>\n",
       "      <td>False</td>\n",
       "      <td>False</td>\n",
       "      <td>False</td>\n",
       "    </tr>\n",
       "  </tbody>\n",
       "</table>\n",
       "</div>"
      ],
      "text/plain": [
       "   YYYYMMDD   TIME   TEMP  MIN_TEMP_GROUND  PRESSURE  HUMIDITY  VIEW_RANGE  \\\n",
       "0     False  False  False             True     False     False       False   \n",
       "1     False  False  False             True     False     False       False   \n",
       "2     False  False  False             True     False     False       False   \n",
       "3     False  False  False             True     False     False       False   \n",
       "4     False  False  False             True     False     False       False   \n",
       "\n",
       "   CLOUD   MIST   RAIN   SNOW  THUNDER    ICE  WEATHER_CODE  \n",
       "0  False  False  False  False    False  False         False  \n",
       "1  False  False  False  False    False  False         False  \n",
       "2  False  False  False  False    False  False         False  \n",
       "3  False  False  False  False    False  False         False  \n",
       "4  False  False  False  False    False  False         False  "
      ]
     },
     "execution_count": 4,
     "metadata": {},
     "output_type": "execute_result"
    }
   ],
   "source": [
    "# return dataframe with True/False based on if value is present\n",
    "df.isnull().head()"
   ]
  },
  {
   "cell_type": "code",
   "execution_count": 5,
   "metadata": {},
   "outputs": [
    {
     "data": {
      "text/plain": [
       "YYYYMMDD           False\n",
       "TIME               False\n",
       "TEMP               False\n",
       "MIN_TEMP_GROUND     True\n",
       "PRESSURE           False\n",
       "HUMIDITY           False\n",
       "VIEW_RANGE          True\n",
       "CLOUD               True\n",
       "MIST                True\n",
       "RAIN                True\n",
       "SNOW                True\n",
       "THUNDER             True\n",
       "ICE                 True\n",
       "WEATHER_CODE        True\n",
       "dtype: bool"
      ]
     },
     "execution_count": 5,
     "metadata": {},
     "output_type": "execute_result"
    }
   ],
   "source": [
    "# returns True/False, if any values are NULL\n",
    "df.isnull().any()"
   ]
  },
  {
   "cell_type": "code",
   "execution_count": 6,
   "metadata": {},
   "outputs": [
    {
     "data": {
      "text/plain": [
       "False"
      ]
     },
     "execution_count": 6,
     "metadata": {},
     "output_type": "execute_result"
    }
   ],
   "source": [
    "# rows that are completely empty\n",
    "df.isnull().all(axis=1).any()"
   ]
  },
  {
   "cell_type": "code",
   "execution_count": 7,
   "metadata": {},
   "outputs": [
    {
     "data": {
      "text/plain": [
       "False"
      ]
     },
     "execution_count": 7,
     "metadata": {},
     "output_type": "execute_result"
    }
   ],
   "source": [
    "# check if every sixth row has a value\n",
    "sixth_row = range(5, len(df), 6)\n",
    "df.loc[sixth_row, 'MIN_TEMP_GROUND'].isnull().any()"
   ]
  },
  {
   "cell_type": "code",
   "execution_count": 8,
   "metadata": {},
   "outputs": [
    {
     "data": {
      "text/plain": [
       "False"
      ]
     },
     "execution_count": 8,
     "metadata": {},
     "output_type": "execute_result"
    }
   ],
   "source": [
    "# check every row other than sixth row is null\n",
    "df.drop(sixth_row).loc[:, 'MIN_TEMP_GROUND'].notnull().any()"
   ]
  },
  {
   "cell_type": "code",
   "execution_count": 9,
   "metadata": {},
   "outputs": [],
   "source": [
    "df.drop(columns='WEATHER_CODE', axis=1, inplace=True)"
   ]
  },
  {
   "cell_type": "code",
   "execution_count": 10,
   "metadata": {},
   "outputs": [],
   "source": [
    "df['MIN_TEMP_GROUND'].fillna(method='bfill', inplace=True)"
   ]
  },
  {
   "cell_type": "code",
   "execution_count": 12,
   "metadata": {},
   "outputs": [
    {
     "data": {
      "text/html": [
       "<div>\n",
       "<style scoped>\n",
       "    .dataframe tbody tr th:only-of-type {\n",
       "        vertical-align: middle;\n",
       "    }\n",
       "\n",
       "    .dataframe tbody tr th {\n",
       "        vertical-align: top;\n",
       "    }\n",
       "\n",
       "    .dataframe thead th {\n",
       "        text-align: right;\n",
       "    }\n",
       "</style>\n",
       "<table border=\"1\" class=\"dataframe\">\n",
       "  <thead>\n",
       "    <tr style=\"text-align: right;\">\n",
       "      <th></th>\n",
       "      <th>YYYYMMDD</th>\n",
       "      <th>TIME</th>\n",
       "      <th>TEMP</th>\n",
       "      <th>MIN_TEMP_GROUND</th>\n",
       "      <th>PRESSURE</th>\n",
       "      <th>HUMIDITY</th>\n",
       "      <th>VIEW_RANGE</th>\n",
       "      <th>CLOUD</th>\n",
       "      <th>MIST</th>\n",
       "      <th>RAIN</th>\n",
       "      <th>SNOW</th>\n",
       "      <th>THUNDER</th>\n",
       "      <th>ICE</th>\n",
       "    </tr>\n",
       "  </thead>\n",
       "  <tbody>\n",
       "    <tr>\n",
       "      <th>5306</th>\n",
       "      <td>20160809</td>\n",
       "      <td>3</td>\n",
       "      <td>115</td>\n",
       "      <td>95.0</td>\n",
       "      <td>10207</td>\n",
       "      <td>90</td>\n",
       "      <td>NaN</td>\n",
       "      <td>NaN</td>\n",
       "      <td>NaN</td>\n",
       "      <td>NaN</td>\n",
       "      <td>NaN</td>\n",
       "      <td>NaN</td>\n",
       "      <td>NaN</td>\n",
       "    </tr>\n",
       "    <tr>\n",
       "      <th>5307</th>\n",
       "      <td>20160809</td>\n",
       "      <td>4</td>\n",
       "      <td>107</td>\n",
       "      <td>95.0</td>\n",
       "      <td>10206</td>\n",
       "      <td>93</td>\n",
       "      <td>NaN</td>\n",
       "      <td>NaN</td>\n",
       "      <td>NaN</td>\n",
       "      <td>NaN</td>\n",
       "      <td>NaN</td>\n",
       "      <td>NaN</td>\n",
       "      <td>NaN</td>\n",
       "    </tr>\n",
       "    <tr>\n",
       "      <th>5308</th>\n",
       "      <td>20160809</td>\n",
       "      <td>5</td>\n",
       "      <td>104</td>\n",
       "      <td>95.0</td>\n",
       "      <td>10210</td>\n",
       "      <td>80</td>\n",
       "      <td>NaN</td>\n",
       "      <td>NaN</td>\n",
       "      <td>NaN</td>\n",
       "      <td>NaN</td>\n",
       "      <td>NaN</td>\n",
       "      <td>NaN</td>\n",
       "      <td>NaN</td>\n",
       "    </tr>\n",
       "    <tr>\n",
       "      <th>5309</th>\n",
       "      <td>20160809</td>\n",
       "      <td>6</td>\n",
       "      <td>115</td>\n",
       "      <td>95.0</td>\n",
       "      <td>10210</td>\n",
       "      <td>80</td>\n",
       "      <td>NaN</td>\n",
       "      <td>NaN</td>\n",
       "      <td>NaN</td>\n",
       "      <td>NaN</td>\n",
       "      <td>NaN</td>\n",
       "      <td>NaN</td>\n",
       "      <td>NaN</td>\n",
       "    </tr>\n",
       "    <tr>\n",
       "      <th>5310</th>\n",
       "      <td>20160809</td>\n",
       "      <td>7</td>\n",
       "      <td>125</td>\n",
       "      <td>110.0</td>\n",
       "      <td>10211</td>\n",
       "      <td>70</td>\n",
       "      <td>NaN</td>\n",
       "      <td>NaN</td>\n",
       "      <td>NaN</td>\n",
       "      <td>NaN</td>\n",
       "      <td>NaN</td>\n",
       "      <td>NaN</td>\n",
       "      <td>NaN</td>\n",
       "    </tr>\n",
       "  </tbody>\n",
       "</table>\n",
       "</div>"
      ],
      "text/plain": [
       "      YYYYMMDD  TIME  TEMP  MIN_TEMP_GROUND  PRESSURE  HUMIDITY  VIEW_RANGE  \\\n",
       "5306  20160809     3   115             95.0     10207        90         NaN   \n",
       "5307  20160809     4   107             95.0     10206        93         NaN   \n",
       "5308  20160809     5   104             95.0     10210        80         NaN   \n",
       "5309  20160809     6   115             95.0     10210        80         NaN   \n",
       "5310  20160809     7   125            110.0     10211        70         NaN   \n",
       "\n",
       "      CLOUD  MIST  RAIN  SNOW  THUNDER  ICE  \n",
       "5306    NaN   NaN   NaN   NaN      NaN  NaN  \n",
       "5307    NaN   NaN   NaN   NaN      NaN  NaN  \n",
       "5308    NaN   NaN   NaN   NaN      NaN  NaN  \n",
       "5309    NaN   NaN   NaN   NaN      NaN  NaN  \n",
       "5310    NaN   NaN   NaN   NaN      NaN  NaN  "
      ]
     },
     "execution_count": 12,
     "metadata": {},
     "output_type": "execute_result"
    }
   ],
   "source": [
    "# rows with missing values\n",
    "df[df.isnull().any(axis=1)].head()"
   ]
  },
  {
   "cell_type": "code",
   "execution_count": 14,
   "metadata": {},
   "outputs": [
    {
     "data": {
      "text/html": [
       "<div>\n",
       "<style scoped>\n",
       "    .dataframe tbody tr th:only-of-type {\n",
       "        vertical-align: middle;\n",
       "    }\n",
       "\n",
       "    .dataframe tbody tr th {\n",
       "        vertical-align: top;\n",
       "    }\n",
       "\n",
       "    .dataframe thead th {\n",
       "        text-align: right;\n",
       "    }\n",
       "</style>\n",
       "<table border=\"1\" class=\"dataframe\">\n",
       "  <thead>\n",
       "    <tr style=\"text-align: right;\">\n",
       "      <th></th>\n",
       "      <th>YYYYMMDD</th>\n",
       "      <th>TIME</th>\n",
       "      <th>TEMP</th>\n",
       "      <th>MIN_TEMP_GROUND</th>\n",
       "      <th>PRESSURE</th>\n",
       "      <th>HUMIDITY</th>\n",
       "      <th>VIEW_RANGE</th>\n",
       "      <th>CLOUD</th>\n",
       "      <th>MIST</th>\n",
       "      <th>RAIN</th>\n",
       "      <th>SNOW</th>\n",
       "      <th>THUNDER</th>\n",
       "      <th>ICE</th>\n",
       "    </tr>\n",
       "  </thead>\n",
       "  <tbody>\n",
       "    <tr>\n",
       "      <th>5306</th>\n",
       "      <td>20160809</td>\n",
       "      <td>3</td>\n",
       "      <td>115</td>\n",
       "      <td>95.0</td>\n",
       "      <td>10207</td>\n",
       "      <td>90</td>\n",
       "      <td>61.916962</td>\n",
       "      <td>5.476267</td>\n",
       "      <td>NaN</td>\n",
       "      <td>NaN</td>\n",
       "      <td>NaN</td>\n",
       "      <td>NaN</td>\n",
       "      <td>NaN</td>\n",
       "    </tr>\n",
       "    <tr>\n",
       "      <th>5307</th>\n",
       "      <td>20160809</td>\n",
       "      <td>4</td>\n",
       "      <td>107</td>\n",
       "      <td>95.0</td>\n",
       "      <td>10206</td>\n",
       "      <td>93</td>\n",
       "      <td>61.916962</td>\n",
       "      <td>5.476267</td>\n",
       "      <td>NaN</td>\n",
       "      <td>NaN</td>\n",
       "      <td>NaN</td>\n",
       "      <td>NaN</td>\n",
       "      <td>NaN</td>\n",
       "    </tr>\n",
       "    <tr>\n",
       "      <th>5308</th>\n",
       "      <td>20160809</td>\n",
       "      <td>5</td>\n",
       "      <td>104</td>\n",
       "      <td>95.0</td>\n",
       "      <td>10210</td>\n",
       "      <td>80</td>\n",
       "      <td>61.916962</td>\n",
       "      <td>5.476267</td>\n",
       "      <td>NaN</td>\n",
       "      <td>NaN</td>\n",
       "      <td>NaN</td>\n",
       "      <td>NaN</td>\n",
       "      <td>NaN</td>\n",
       "    </tr>\n",
       "    <tr>\n",
       "      <th>5309</th>\n",
       "      <td>20160809</td>\n",
       "      <td>6</td>\n",
       "      <td>115</td>\n",
       "      <td>95.0</td>\n",
       "      <td>10210</td>\n",
       "      <td>80</td>\n",
       "      <td>61.916962</td>\n",
       "      <td>5.476267</td>\n",
       "      <td>NaN</td>\n",
       "      <td>NaN</td>\n",
       "      <td>NaN</td>\n",
       "      <td>NaN</td>\n",
       "      <td>NaN</td>\n",
       "    </tr>\n",
       "    <tr>\n",
       "      <th>5310</th>\n",
       "      <td>20160809</td>\n",
       "      <td>7</td>\n",
       "      <td>125</td>\n",
       "      <td>110.0</td>\n",
       "      <td>10211</td>\n",
       "      <td>70</td>\n",
       "      <td>61.916962</td>\n",
       "      <td>5.476267</td>\n",
       "      <td>NaN</td>\n",
       "      <td>NaN</td>\n",
       "      <td>NaN</td>\n",
       "      <td>NaN</td>\n",
       "      <td>NaN</td>\n",
       "    </tr>\n",
       "  </tbody>\n",
       "</table>\n",
       "</div>"
      ],
      "text/plain": [
       "      YYYYMMDD  TIME  TEMP  MIN_TEMP_GROUND  PRESSURE  HUMIDITY  VIEW_RANGE  \\\n",
       "5306  20160809     3   115             95.0     10207        90   61.916962   \n",
       "5307  20160809     4   107             95.0     10206        93   61.916962   \n",
       "5308  20160809     5   104             95.0     10210        80   61.916962   \n",
       "5309  20160809     6   115             95.0     10210        80   61.916962   \n",
       "5310  20160809     7   125            110.0     10211        70   61.916962   \n",
       "\n",
       "         CLOUD  MIST  RAIN  SNOW  THUNDER  ICE  \n",
       "5306  5.476267   NaN   NaN   NaN      NaN  NaN  \n",
       "5307  5.476267   NaN   NaN   NaN      NaN  NaN  \n",
       "5308  5.476267   NaN   NaN   NaN      NaN  NaN  \n",
       "5309  5.476267   NaN   NaN   NaN      NaN  NaN  \n",
       "5310  5.476267   NaN   NaN   NaN      NaN  NaN  "
      ]
     },
     "execution_count": 14,
     "metadata": {},
     "output_type": "execute_result"
    }
   ],
   "source": [
    "# fill some columns with mean values\n",
    "df['VIEW_RANGE'].fillna(df['VIEW_RANGE'].mean(), inplace=True)\n",
    "df['CLOUD'].fillna(df['CLOUD'].mean(), inplace=True)\n",
    "df[df.isnull().any(axis=1)].head()"
   ]
  },
  {
   "cell_type": "code",
   "execution_count": 15,
   "metadata": {},
   "outputs": [],
   "source": [
    "# fill some missing values with mode\n",
    "df.fillna(df.mode().iloc[0], inplace=True)"
   ]
  },
  {
   "cell_type": "code",
   "execution_count": 16,
   "metadata": {},
   "outputs": [],
   "source": [
    "# convert datatype\n",
    "df[['MIST', 'RAIN', 'SNOW', 'THUNDER', 'ICE']] = df[['MIST', 'RAIN', 'SNOW', 'THUNDER', 'ICE']].astype(int)"
   ]
  }
 ],
 "metadata": {
  "kernelspec": {
   "display_name": "Python 3",
   "language": "python",
   "name": "python3"
  },
  "language_info": {
   "codemirror_mode": {
    "name": "ipython",
    "version": 3
   },
   "file_extension": ".py",
   "mimetype": "text/x-python",
   "name": "python",
   "nbconvert_exporter": "python",
   "pygments_lexer": "ipython3",
   "version": "3.7.3"
  }
 },
 "nbformat": 4,
 "nbformat_minor": 2
}
