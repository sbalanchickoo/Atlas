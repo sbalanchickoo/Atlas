{
  "cells": [
    {
      "metadata": {},
      "cell_type": "markdown",
      "source": "**Install kaggle API**"
    },
    {
      "metadata": {
        "trusted": true
      },
      "cell_type": "code",
      "source": "!pip install kaggle",
      "execution_count": 1,
      "outputs": [
        {
          "output_type": "stream",
          "text": "Collecting kaggle\n\u001b[?25l  Downloading https://files.pythonhosted.org/packages/e9/fc/0de659ea1f2096563204925b6660ae141f3d85bbe9e8a1571c3eb6cc1fdd/kaggle-1.5.5.tar.gz (56kB)\n\u001b[K     |████████████████████████████████| 61kB 2.0MB/s eta 0:00:01\n\u001b[?25hRequirement already satisfied: urllib3<1.25,>=1.21.1 in /home/nbuser/anaconda3_501/lib/python3.6/site-packages (from kaggle) (1.23)\nRequirement already satisfied: six>=1.10 in /home/nbuser/anaconda3_501/lib/python3.6/site-packages (from kaggle) (1.11.0)\nRequirement already satisfied: certifi in /home/nbuser/anaconda3_501/lib/python3.6/site-packages (from kaggle) (2018.10.15)\nRequirement already satisfied: python-dateutil in /home/nbuser/anaconda3_501/lib/python3.6/site-packages (from kaggle) (2.8.0)\nRequirement already satisfied: requests in /home/nbuser/anaconda3_501/lib/python3.6/site-packages (from kaggle) (2.22.0)\nRequirement already satisfied: tqdm in /home/nbuser/anaconda3_501/lib/python3.6/site-packages (from kaggle) (4.26.0)\nCollecting python-slugify (from kaggle)\n  Downloading https://files.pythonhosted.org/packages/a2/5d/bd30413c00bbed3945558aca07c55944073e1e30abeee1f06515281f9811/python-slugify-3.0.3.tar.gz\nRequirement already satisfied: idna<2.9,>=2.5 in /home/nbuser/anaconda3_501/lib/python3.6/site-packages (from requests->kaggle) (2.7)\nRequirement already satisfied: chardet<3.1.0,>=3.0.2 in /home/nbuser/anaconda3_501/lib/python3.6/site-packages (from requests->kaggle) (3.0.4)\nCollecting text-unidecode==1.2 (from python-slugify->kaggle)\n\u001b[?25l  Downloading https://files.pythonhosted.org/packages/79/42/d717cc2b4520fb09e45b344b1b0b4e81aa672001dd128c180fabc655c341/text_unidecode-1.2-py2.py3-none-any.whl (77kB)\n\u001b[K     |████████████████████████████████| 81kB 1.6MB/s eta 0:00:011\n\u001b[?25hBuilding wheels for collected packages: kaggle, python-slugify\n  Building wheel for kaggle (setup.py) ... \u001b[?25ldone\n\u001b[?25h  Created wheel for kaggle: filename=kaggle-1.5.5-cp36-none-any.whl size=72850 sha256=cdde3e1b89d5ee8c4891d6c1274b7d8346d0f8b7b863b8494227829d72c7f2b4\n  Stored in directory: /home/nbuser/.cache/pip/wheels/db/6a/80/6cd1892eb9b9b136333db3c74e16cba4e17e2c700f51541f06\n  Building wheel for python-slugify (setup.py) ... \u001b[?25ldone\n\u001b[?25h  Created wheel for python-slugify: filename=python_slugify-3.0.3-py2.py3-none-any.whl size=5007 sha256=8cfe4966878179d5e8feeef8155f13983d7d044aad3cd1d4e4c75cef3bb90e80\n  Stored in directory: /home/nbuser/.cache/pip/wheels/0f/96/ca/85f5b01165975402d1e37f8dd346df00dc39be1d0761bd17bb\nSuccessfully built kaggle python-slugify\nInstalling collected packages: text-unidecode, python-slugify, kaggle\nSuccessfully installed kaggle-1.5.5 python-slugify-3.0.3 text-unidecode-1.2\n\u001b[33mWARNING: You are using pip version 19.2.2, however version 19.2.3 is available.\nYou should consider upgrading via the 'pip install --upgrade pip' command.\u001b[0m\n",
          "name": "stdout"
        }
      ]
    },
    {
      "metadata": {},
      "cell_type": "markdown",
      "source": "**Create directory to hold API key**"
    },
    {
      "metadata": {
        "trusted": true
      },
      "cell_type": "code",
      "source": "!mkdir /home/nbuser/.kaggle",
      "execution_count": 5,
      "outputs": [
        {
          "output_type": "stream",
          "text": "mkdir: cannot create directory ‘/home/nbuser/.kaggle’: File exists\r\n",
          "name": "stdout"
        }
      ]
    },
    {
      "metadata": {},
      "cell_type": "markdown",
      "source": "*Upload API key to home directory*\n\n**Copy uploaded API key to .kaggle folder, secure API key**"
    },
    {
      "metadata": {
        "trusted": true
      },
      "cell_type": "code",
      "source": "!cp '/home/nbuser/library/src/kaggle.json' /home/nbuser/.kaggle/\n!chmod 600 /home/nbuser/.kaggle/kaggle.json",
      "execution_count": 12,
      "outputs": []
    },
    {
      "metadata": {},
      "cell_type": "markdown",
      "source": "**List data sets**"
    },
    {
      "metadata": {
        "trusted": true,
        "collapsed": true
      },
      "cell_type": "code",
      "source": "page_number = 1\nmore_flag = True\n\ndataset_list = []\n\nwhile more_flag == True:\n    new_list = !kaggle datasets list -v -p $page_number\n    new_list = list(new_list)\n    if new_list[0] == 'No datasets found' or page_number == 2:\n        more_flag = False\n    else:\n        dataset_list += new_list\n        page_number += 1\n    \ndataset_list",
      "execution_count": 67,
      "outputs": [
        {
          "output_type": "execute_result",
          "execution_count": 67,
          "data": {
            "text/plain": "['ref,title,size,lastUpdated,downloadCount,voteCount,usabilityRating',\n 'bradklassen/pga-tour-20102018-data,PGA Tour Golf Data,92MB,2019-08-20 10:32:59,3133,142,1.0',\n 'AnalyzeBoston/crimes-in-boston,Crimes in Boston,10MB,2018-09-04 17:56:03,10635,243,0.8235294',\n 'matheusfreitag/gas-prices-in-brazil,Gas Prices in Brazil,3MB,2019-07-12 16:23:52,5740,163,1.0',\n 'jealousleopard/goodreadsbooks,Goodreads-books,632KB,2019-06-14 16:35:05,9604,380,1.0',\n 'wkirgsn/electric-motor-temperature,Electric Motor Temperature,47MB,2019-06-19 11:12:41,3595,115,1.0',\n 'jolasa/waves-measuring-buoys-data-mooloolaba,Waves Measuring Buoys Data ,599KB,2019-07-07 16:59:44,1094,31,1.0',\n 'sudalairajkumar/chennai-water-management,Chennai Water Management,75KB,2019-06-19 03:42:44,6437,246,1.0',\n 'doit-intl/autotel-shared-car-locations,Shared Cars Locations,78MB,2019-01-10 13:06:00,1125,43,0.8235294',\n 'eliasdabbas/search-engine-results-flights-tickets-keywords,Search Engine Results - Flights & Tickets Keywords,24MB,2019-08-15 13:12:18,2142,70,0.9117647',\n 'r3w0p4/recorded-crime-data-at-police-force-area-level,Recorded Crime Data at the Police Force Area Level,300KB,2019-06-21 15:16:46,1884,35,1.0',\n 'r3w0p4/bournemouth-venues,Venues in Bournemouth,3KB,2019-07-08 14:26:48,686,26,1.0',\n 'Madgrades/uw-madison-courses,UW Madison Courses and Grades 2006-2017,90MB,2018-05-15 18:58:25,1292,36,0.852941155',\n \"datafiniti/womens-shoes-prices,Women's Shoe Prices,12MB,2019-06-24 22:50:14,10844,209,0.852941155\",\n 'datafiniti/pizza-restaurants-and-the-pizza-they-sell,Pizza Restaurants and the Pizza They Sell,850KB,2019-05-30 00:21:21,5514,92,0.7647059',\n 'citylines/city-lines,Transit systems of world,3MB,2019-03-25 16:53:05,1946,55,0.7647059',\n 'citizen-ds-ghana/health-facilities-gh,Ghana Health Facilities,84KB,2018-09-03 01:19:24,940,32,0.882352948',\n 'inIT-OWL/vega-shrinkwrapper-runtofailure-data,Vega shrink-wrapper component degradation,408KB,2018-11-12 13:03:43,277,20,0.882352948',\n 'university-of-edinburgh/peace-agreements-dataset,Peace Agreements Dataset,1MB,2018-03-05 16:39:50,653,34,0.7647059',\n 'lakshyaag/india-trade-data,India - Trade Data,1MB,2019-08-16 16:13:58,387,11,1.0',\n 'paultimothymooney/police-pedestrian-stops-and-vehicle-stops,Denver Police Pedestrian Stops and Vehicle Stops,71MB,2019-08-21 06:18:00,455,22,0.8235294']"
          },
          "metadata": {}
        }
      ]
    },
    {
      "metadata": {
        "trusted": true,
        "collapsed": true
      },
      "cell_type": "code",
      "source": "!kaggle datasets list -v -p 10000",
      "execution_count": 50,
      "outputs": [
        {
          "output_type": "stream",
          "text": "No datasets found\r\n",
          "name": "stdout"
        }
      ]
    },
    {
      "metadata": {},
      "cell_type": "markdown",
      "source": "**Download data set required**"
    },
    {
      "metadata": {
        "trusted": true,
        "collapsed": true
      },
      "cell_type": "code",
      "source": "!kaggle datasets download AnalyzeBoston/crimes-in-boston",
      "execution_count": 5,
      "outputs": [
        {
          "output_type": "stream",
          "text": "Warning: Your Kaggle API key is readable by other users on this system! To fix this, you can run 'chmod 600 /home/nbuser/.kaggle/kaggle.json'\nDownloading crimes-in-boston.zip to /home/nbuser/library\n100%|██████████████████████████████████████| 10.4M/10.4M [00:06<00:00, 1.97MB/s]\n\n",
          "name": "stdout"
        }
      ]
    },
    {
      "metadata": {},
      "cell_type": "markdown",
      "source": "**Unzip downloaded zip file**"
    },
    {
      "metadata": {
        "trusted": true
      },
      "cell_type": "code",
      "source": "from zipfile import ZipFile\nwith ZipFile('crimes-in-boston.zip', 'r') as zipObj:\n   # Extract all the contents of zip file in current directory\n   zipObj.extractall()\n!ls",
      "execution_count": 71,
      "outputs": [
        {
          "output_type": "stream",
          "text": "crime.csv  crimes-in-boston.zip  offense_codes.csv  Setup Kaggle download.ipynb\r\n",
          "name": "stdout"
        }
      ]
    },
    {
      "metadata": {
        "trusted": true
      },
      "cell_type": "code",
      "source": "",
      "execution_count": null,
      "outputs": []
    }
  ],
  "metadata": {
    "kernelspec": {
      "name": "python36",
      "display_name": "Python 3.6",
      "language": "python"
    },
    "language_info": {
      "mimetype": "text/x-python",
      "nbconvert_exporter": "python",
      "name": "python",
      "pygments_lexer": "ipython3",
      "version": "3.6.6",
      "file_extension": ".py",
      "codemirror_mode": {
        "version": 3,
        "name": "ipython"
      }
    }
  },
  "nbformat": 4,
  "nbformat_minor": 2
}